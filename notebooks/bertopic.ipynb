{
 "cells": [
  {
   "cell_type": "code",
   "execution_count": 1,
   "metadata": {},
   "outputs": [],
   "source": [
    "import hdbscan\n",
    "import pandas as pd\n",
    "\n",
    "from sumy.parsers.plaintext import PlaintextParser\n",
    "from sumy.nlp.tokenizers import Tokenizer\n",
    "from sumy.summarizers.text_rank import TextRankSummarizer\n",
    "\n",
    "from umap import UMAP\n",
    "from hdbscan import HDBSCAN\n",
    "from sentence_transformers import SentenceTransformer\n",
    "from sklearn.feature_extraction.text import CountVectorizer\n",
    "\n",
    "from bertopic import BERTopic\n",
    "from bertopic.representation import KeyBERTInspired\n",
    "from bertopic.representation import MaximalMarginalRelevance\n",
    "from bertopic.vectorizers import ClassTfidfTransformer\n",
    "\n",
    "from sklearn.metrics.pairwise import cosine_similarity\n",
    "import numpy as np\n"
   ]
  },
  {
   "cell_type": "code",
   "execution_count": 2,
   "metadata": {},
   "outputs": [
    {
     "name": "stdout",
     "output_type": "stream",
     "text": [
      "Index(['id', 'content_name', 'title', 'article_category_names',\n",
      "       'cover_image_url', 'full_url', 'full_url2', 'friendly_url',\n",
      "       'category_description', 'content_body', 'keywords', 'feature_title',\n",
      "       'pr_name', 'alternate_image_text', 'date_modified', 'number_of_views',\n",
      "       'last_month_view_count', 'last_two_months_view', 'page_views',\n",
      "       'engagement_rate', 'bounce_rate', 'exit_rate', 'scroll_percentage',\n",
      "       'percentage_total_views', 'cumulative_percentage_total_views',\n",
      "       'content_category', 'to_remove', 'has_table', 'has_image',\n",
      "       'related_sections', 'extracted_links', 'extracted_headers',\n",
      "       'extracted_content_body'],\n",
      "      dtype='object')\n"
     ]
    },
    {
     "data": {
      "text/plain": [
       "(623, 33)"
      ]
     },
     "execution_count": 2,
     "metadata": {},
     "output_type": "execute_result"
    }
   ],
   "source": [
    "df = pd.read_parquet('../data/merged_data.parquet')\n",
    "hpb_df = df[df['pr_name'].fillna('').str.contains('Health Promotion Board')]\n",
    "hpb_df = hpb_df[(hpb_df['to_remove'] == False) & (hpb_df['content_category'] == 'live-healthy-articles')]\n",
    "hpb_df.head(3)\n",
    "print(hpb_df.columns)\n",
    "hpb_df.shape"
   ]
  },
  {
   "cell_type": "markdown",
   "metadata": {},
   "source": [
    "### Used extractive summary \n",
    "- Note: For this notebook, instead of mean pooling the chunks embeddings, extractive summary of top20 sentences were used before embedding"
   ]
  },
  {
   "cell_type": "code",
   "execution_count": 3,
   "metadata": {},
   "outputs": [],
   "source": [
    "def are_similar(sent1, sent2, overlap_threshold=10):\n",
    "    words1 = set(sent1.split())\n",
    "    words2 = set(sent2.split())\n",
    "    overlap = words1.intersection(words2)\n",
    "    return len(overlap) > overlap_threshold\n",
    "\n",
    "def extractive_summary(text, sentences_count=15):\n",
    "    # Initialize parser and summarizer\n",
    "    parser = PlaintextParser.from_string(text, Tokenizer(\"english\"))\n",
    "    summarizer = TextRankSummarizer()\n",
    "\n",
    "    # Generate summary\n",
    "    summary = summarizer(parser.document, sentences_count)\n",
    "\n",
    "    # Extract the sentences and return them as a list, removing duplicates\n",
    "    seen_sentences = set()\n",
    "    summary_sentences = []\n",
    "    for sentence in summary:\n",
    "        sentence_str = str(sentence)\n",
    "        if not any(are_similar(sentence_str, seen_sentence) for seen_sentence in seen_sentences):\n",
    "            seen_sentences.add(sentence_str)\n",
    "            summary_sentences.append(sentence_str)\n",
    "    return ' '.join(summary_sentences)"
   ]
  },
  {
   "cell_type": "code",
   "execution_count": 4,
   "metadata": {},
   "outputs": [],
   "source": [
    "hpb_df['extractive_summary'] = hpb_df['extracted_content_body'].apply(lambda x: extractive_summary(x, sentences_count=20))"
   ]
  },
  {
   "cell_type": "code",
   "execution_count": 5,
   "metadata": {},
   "outputs": [
    {
     "name": "stderr",
     "output_type": "stream",
     "text": [
      "c:\\Users\\DNA_A\\hsx\\topic_modelling\\.venv\\Lib\\site-packages\\tqdm\\auto.py:21: TqdmWarning: IProgress not found. Please update jupyter and ipywidgets. See https://ipywidgets.readthedocs.io/en/stable/user_install.html\n",
      "  from .autonotebook import tqdm as notebook_tqdm\n"
     ]
    }
   ],
   "source": [
    "#From official documentation\n",
    "\n",
    "# Step 1 - Extract embeddings\n",
    "embedding_model = SentenceTransformer(\"BAAI/bge-large-en-v1.5\")\n",
    "# embedding_model = SentenceTransformer(\"all-MiniLM-L6-v2\")\n",
    "\n",
    "# Step 2 - Reduce dimensionality\n",
    "umap_model = UMAP(n_neighbors=15, n_components=10, min_dist=0.0, metric='cosine', random_state=24)\n",
    "\n",
    "# Step 3 - Cluster reduced embeddings\n",
    "hdbscan_model = HDBSCAN(min_cluster_size=4, min_samples=2, metric='manhattan', cluster_selection_method='eom', prediction_data=True, gen_min_span_tree=True)\n",
    "\n",
    "# Step 4 - Tokenize topics\n",
    "vectorizer_model = CountVectorizer(stop_words=\"english\")\n",
    "\n",
    "# Step 5 - Create topic representation\n",
    "ctfidf_model = ClassTfidfTransformer()\n",
    "\n",
    "# Step 6 - (Optional) Fine-tune topic representations with \n",
    "# a `bertopic.representation` model\n",
    "# representation_model = KeyBERTInspired()\n",
    "representation_model = MaximalMarginalRelevance(diversity=0.3)\n",
    "\n",
    "# All steps together\n",
    "topic_model = BERTopic(\n",
    "  embedding_model=embedding_model,          # Step 1 - Extract embeddings\n",
    "  umap_model=umap_model,                    # Step 2 - Reduce dimensionality\n",
    "  hdbscan_model=hdbscan_model,              # Step 3 - Cluster reduced embeddings\n",
    "  vectorizer_model=vectorizer_model,        # Step 4 - Tokenize topics\n",
    "  ctfidf_model=ctfidf_model,                # Step 5 - Extract topic words\n",
    "  representation_model=representation_model, # Step 6 - (Optional) Fine-tune topic represenations\n",
    "  # nr_topics=\"auto\" #default is none, will auto reduce topics using HDBSCAN\n",
    ")"
   ]
  },
  {
   "cell_type": "code",
   "execution_count": 6,
   "metadata": {},
   "outputs": [
    {
     "data": {
      "text/html": [
       "<div>\n",
       "<style scoped>\n",
       "    .dataframe tbody tr th:only-of-type {\n",
       "        vertical-align: middle;\n",
       "    }\n",
       "\n",
       "    .dataframe tbody tr th {\n",
       "        vertical-align: top;\n",
       "    }\n",
       "\n",
       "    .dataframe thead th {\n",
       "        text-align: right;\n",
       "    }\n",
       "</style>\n",
       "<table border=\"1\" class=\"dataframe\">\n",
       "  <thead>\n",
       "    <tr style=\"text-align: right;\">\n",
       "      <th></th>\n",
       "      <th>Topic</th>\n",
       "      <th>Count</th>\n",
       "      <th>Name</th>\n",
       "      <th>Representation</th>\n",
       "      <th>Representative_Docs</th>\n",
       "    </tr>\n",
       "  </thead>\n",
       "  <tbody>\n",
       "    <tr>\n",
       "      <th>0</th>\n",
       "      <td>-1</td>\n",
       "      <td>75</td>\n",
       "      <td>-1_fat_healthy_child_stress</td>\n",
       "      <td>[fat, healthy, child, stress, health, fruit, e...</td>\n",
       "      <td>[Nutritional Requirements for Children after t...</td>\n",
       "    </tr>\n",
       "    <tr>\n",
       "      <th>1</th>\n",
       "      <td>0</td>\n",
       "      <td>41</td>\n",
       "      <td>0_smoking_nicotine_quitting_cigarette</td>\n",
       "      <td>[smoking, nicotine, quitting, cigarette, smoke...</td>\n",
       "      <td>[The harmful effects of smoking are known to a...</td>\n",
       "    </tr>\n",
       "    <tr>\n",
       "      <th>2</th>\n",
       "      <td>1</td>\n",
       "      <td>26</td>\n",
       "      <td>1_pregnancy_weeks_womb_pregnant</td>\n",
       "      <td>[pregnancy, weeks, womb, pregnant, bleeding, n...</td>\n",
       "      <td>[Anaemia Anaemia is a condition in which mums-...</td>\n",
       "    </tr>\n",
       "    <tr>\n",
       "      <th>3</th>\n",
       "      <td>2</td>\n",
       "      <td>26</td>\n",
       "      <td>2_eye_eyes_lenses_myopia</td>\n",
       "      <td>[eye, eyes, lenses, myopia, screen, activities...</td>\n",
       "      <td>[Myopia can be delayed or prevented by encoura...</td>\n",
       "    </tr>\n",
       "    <tr>\n",
       "      <th>4</th>\n",
       "      <td>3</td>\n",
       "      <td>21</td>\n",
       "      <td>3_teeth_dental_dentist_toothpaste</td>\n",
       "      <td>[teeth, dental, dentist, toothpaste, brushing,...</td>\n",
       "      <td>[By the time your child has turned one and a h...</td>\n",
       "    </tr>\n",
       "    <tr>\n",
       "      <th>5</th>\n",
       "      <td>4</td>\n",
       "      <td>20</td>\n",
       "      <td>4_flu_diseases_infectious_mumps</td>\n",
       "      <td>[flu, diseases, infectious, mumps, vaccines, i...</td>\n",
       "      <td>[What Is the Flu? Most of us have caught the f...</td>\n",
       "    </tr>\n",
       "    <tr>\n",
       "      <th>6</th>\n",
       "      <td>5</td>\n",
       "      <td>19</td>\n",
       "      <td>5_diabetes_glucose_type_risk</td>\n",
       "      <td>[diabetes, glucose, type, risk, control, stres...</td>\n",
       "      <td>[Thats more than double the 440,000 Singaporea...</td>\n",
       "    </tr>\n",
       "    <tr>\n",
       "      <th>7</th>\n",
       "      <td>6</td>\n",
       "      <td>18</td>\n",
       "      <td>6_exercise_fitness_activity_step</td>\n",
       "      <td>[exercise, fitness, activity, step, tracker, g...</td>\n",
       "      <td>[By now, we're familiar with the benefits of e...</td>\n",
       "    </tr>\n",
       "    <tr>\n",
       "      <th>8</th>\n",
       "      <td>7</td>\n",
       "      <td>17</td>\n",
       "      <td>7_milk_formula_nutrition_solids</td>\n",
       "      <td>[milk, formula, nutrition, solids, little, cre...</td>\n",
       "      <td>[Hes able to pick up objects with his thumb an...</td>\n",
       "    </tr>\n",
       "    <tr>\n",
       "      <th>9</th>\n",
       "      <td>8</td>\n",
       "      <td>16</td>\n",
       "      <td>8_hawker_healthier_sodium_soup</td>\n",
       "      <td>[hawker, healthier, sodium, soup, rice, food, ...</td>\n",
       "      <td>[Healthier Singapore Hawker Food The next time...</td>\n",
       "    </tr>\n",
       "    <tr>\n",
       "      <th>10</th>\n",
       "      <td>9</td>\n",
       "      <td>15</td>\n",
       "      <td>9_intensity_exercise_aerobic_heart</td>\n",
       "      <td>[intensity, exercise, aerobic, heart, moderate...</td>\n",
       "      <td>[It is the answer to a more energetic and heal...</td>\n",
       "    </tr>\n",
       "    <tr>\n",
       "      <th>11</th>\n",
       "      <td>10</td>\n",
       "      <td>13</td>\n",
       "      <td>10_self_esteem_children_positive</td>\n",
       "      <td>[self, esteem, children, positive, confidence,...</td>\n",
       "      <td>[As a parent, you probably wish you could help...</td>\n",
       "    </tr>\n",
       "    <tr>\n",
       "      <th>12</th>\n",
       "      <td>11</td>\n",
       "      <td>13</td>\n",
       "      <td>11_alcohol_drinking_alcoholic_binge</td>\n",
       "      <td>[alcohol, drinking, alcoholic, binge, ml, effe...</td>\n",
       "      <td>[You may think little of the harms of alcohol ...</td>\n",
       "    </tr>\n",
       "    <tr>\n",
       "      <th>13</th>\n",
       "      <td>12</td>\n",
       "      <td>13</td>\n",
       "      <td>12_dementia_brain_care_memory</td>\n",
       "      <td>[dementia, brain, care, memory, healthy, alzhe...</td>\n",
       "      <td>[Dementia is a disorder of the brain that is c...</td>\n",
       "    </tr>\n",
       "    <tr>\n",
       "      <th>14</th>\n",
       "      <td>13</td>\n",
       "      <td>12</td>\n",
       "      <td>13_exercise_workout_fitness_workouts</td>\n",
       "      <td>[exercise, workout, fitness, workouts, exercis...</td>\n",
       "      <td>[Getting Your Cardio Workouts at Home Some day...</td>\n",
       "    </tr>\n",
       "    <tr>\n",
       "      <th>15</th>\n",
       "      <td>14</td>\n",
       "      <td>12</td>\n",
       "      <td>14_quarter_plate_healthy_vegetables</td>\n",
       "      <td>[quarter, plate, healthy, vegetables, wholegra...</td>\n",
       "      <td>[Learn how to use My Healthy Plate to build ba...</td>\n",
       "    </tr>\n",
       "    <tr>\n",
       "      <th>16</th>\n",
       "      <td>15</td>\n",
       "      <td>11</td>\n",
       "      <td>15_bmi_metabolism_calorie_healthy</td>\n",
       "      <td>[bmi, metabolism, calorie, healthy, gain, diet...</td>\n",
       "      <td>[Extreme Celebrity Diets When it comes to diet...</td>\n",
       "    </tr>\n",
       "    <tr>\n",
       "      <th>17</th>\n",
       "      <td>16</td>\n",
       "      <td>11</td>\n",
       "      <td>16_sleep_bedtime_babys_blanket</td>\n",
       "      <td>[sleep, bedtime, babys, blanket, cot, nights, ...</td>\n",
       "      <td>[Getting quality shut-eye also means that they...</td>\n",
       "    </tr>\n",
       "    <tr>\n",
       "      <th>18</th>\n",
       "      <td>17</td>\n",
       "      <td>11</td>\n",
       "      <td>17_protein_calcium_vitamin_diet</td>\n",
       "      <td>[protein, calcium, vitamin, diet, bone, vegeta...</td>\n",
       "      <td>[Many individuals choose to be vegetarian for ...</td>\n",
       "    </tr>\n",
       "    <tr>\n",
       "      <th>19</th>\n",
       "      <td>18</td>\n",
       "      <td>11</td>\n",
       "      <td>18_tbsp_stock_chopped_sauce</td>\n",
       "      <td>[tbsp, stock, chopped, sauce, seasoning, cabba...</td>\n",
       "      <td>[WHAT YOU NEED Fish fillet 300 g Seasoning Tom...</td>\n",
       "    </tr>\n",
       "    <tr>\n",
       "      <th>20</th>\n",
       "      <td>19</td>\n",
       "      <td>11</td>\n",
       "      <td>19_students_screening_canteen_primary</td>\n",
       "      <td>[students, screening, canteen, primary, hmsp, ...</td>\n",
       "      <td>[Health Screening in Primary Schools The schoo...</td>\n",
       "    </tr>\n",
       "    <tr>\n",
       "      <th>21</th>\n",
       "      <td>20</td>\n",
       "      <td>10</td>\n",
       "      <td>20_sugar_tea_drinks_teas</td>\n",
       "      <td>[sugar, tea, drinks, teas, contains, teaspoons...</td>\n",
       "      <td>[Some sugars are found naturally in the foods ...</td>\n",
       "    </tr>\n",
       "    <tr>\n",
       "      <th>22</th>\n",
       "      <td>21</td>\n",
       "      <td>10</td>\n",
       "      <td>21_trail_park_tiong_singapores</td>\n",
       "      <td>[trail, park, tiong, singapores, bahru, hiking...</td>\n",
       "      <td>[Parks, walking or jogging trails and park con...</td>\n",
       "    </tr>\n",
       "    <tr>\n",
       "      <th>23</th>\n",
       "      <td>22</td>\n",
       "      <td>10</td>\n",
       "      <td>22_toys_safety_prevent_children</td>\n",
       "      <td>[toys, safety, prevent, children, safe, chokin...</td>\n",
       "      <td>[Prevent Drowning at Home Many of us have the ...</td>\n",
       "    </tr>\n",
       "    <tr>\n",
       "      <th>24</th>\n",
       "      <td>23</td>\n",
       "      <td>9</td>\n",
       "      <td>23_iron_drinks_haem_ice</td>\n",
       "      <td>[iron, drinks, haem, ice, eating, cravings, ca...</td>\n",
       "      <td>[It is a component of almost every body part, ...</td>\n",
       "    </tr>\n",
       "    <tr>\n",
       "      <th>25</th>\n",
       "      <td>24</td>\n",
       "      <td>9</td>\n",
       "      <td>24_tbsp_sliced_recipe_chicken</td>\n",
       "      <td>[tbsp, sliced, recipe, chicken, sauce, ginger,...</td>\n",
       "      <td>[Sayur Lodeh is everyone's favourite dish, esp...</td>\n",
       "    </tr>\n",
       "    <tr>\n",
       "      <th>26</th>\n",
       "      <td>25</td>\n",
       "      <td>9</td>\n",
       "      <td>25_allergies_allergy_allergic_antibiotics</td>\n",
       "      <td>[allergies, allergy, allergic, antibiotics, co...</td>\n",
       "      <td>[An allergy occurs when the body comes into co...</td>\n",
       "    </tr>\n",
       "    <tr>\n",
       "      <th>27</th>\n",
       "      <td>26</td>\n",
       "      <td>9</td>\n",
       "      <td>26_food_kids_healthy_bento</td>\n",
       "      <td>[food, kids, healthy, bento, fruit, nutrition,...</td>\n",
       "      <td>[Nutritional Requirements for Toddlers after t...</td>\n",
       "    </tr>\n",
       "    <tr>\n",
       "      <th>28</th>\n",
       "      <td>27</td>\n",
       "      <td>8</td>\n",
       "      <td>27_vegetables_collagen_fruits_organic</td>\n",
       "      <td>[vegetables, collagen, fruits, organic, fibre,...</td>\n",
       "      <td>[In addition to leaves, the flowers (example, ...</td>\n",
       "    </tr>\n",
       "    <tr>\n",
       "      <th>29</th>\n",
       "      <td>28</td>\n",
       "      <td>8</td>\n",
       "      <td>28_cnb_substances_illegal_addictions</td>\n",
       "      <td>[cnb, substances, illegal, addictions, nams, c...</td>\n",
       "      <td>[With the legalisation of drugs in some countr...</td>\n",
       "    </tr>\n",
       "    <tr>\n",
       "      <th>30</th>\n",
       "      <td>29</td>\n",
       "      <td>8</td>\n",
       "      <td>29_wholegrain_wholegrains_symbol_rice</td>\n",
       "      <td>[wholegrain, wholegrains, symbol, rice, health...</td>\n",
       "      <td>[You first need to know that all grains start ...</td>\n",
       "    </tr>\n",
       "    <tr>\n",
       "      <th>31</th>\n",
       "      <td>30</td>\n",
       "      <td>8</td>\n",
       "      <td>30_resilience_social_self_esteem</td>\n",
       "      <td>[resilience, social, self, esteem, intelligenc...</td>\n",
       "      <td>[Most of us take for granted our day-to-day aw...</td>\n",
       "    </tr>\n",
       "    <tr>\n",
       "      <th>32</th>\n",
       "      <td>31</td>\n",
       "      <td>8</td>\n",
       "      <td>31_toddler_infant_objects_developmental</td>\n",
       "      <td>[toddler, infant, objects, developmental, todd...</td>\n",
       "      <td>[As parents, it is important that you are awar...</td>\n",
       "    </tr>\n",
       "    <tr>\n",
       "      <th>33</th>\n",
       "      <td>32</td>\n",
       "      <td>8</td>\n",
       "      <td>32_bmi_percentile_children_age</td>\n",
       "      <td>[bmi, percentile, children, age, height, weigh...</td>\n",
       "      <td>[Your child is slightly taller and heavier tha...</td>\n",
       "    </tr>\n",
       "    <tr>\n",
       "      <th>34</th>\n",
       "      <td>33</td>\n",
       "      <td>7</td>\n",
       "      <td>33_sexuality_teen_relationship_esteem</td>\n",
       "      <td>[sexuality, teen, relationship, esteem, attitu...</td>\n",
       "      <td>[Birds and Bees Talk It is a topic as old as t...</td>\n",
       "    </tr>\n",
       "    <tr>\n",
       "      <th>35</th>\n",
       "      <td>34</td>\n",
       "      <td>6</td>\n",
       "      <td>34_food_meal_eating_meals</td>\n",
       "      <td>[food, meal, eating, meals, snacks, vegetable,...</td>\n",
       "      <td>[Here are a few tips to help you turn meal tim...</td>\n",
       "    </tr>\n",
       "    <tr>\n",
       "      <th>36</th>\n",
       "      <td>35</td>\n",
       "      <td>6</td>\n",
       "      <td>35_chinese_lunar_healthier_festive</td>\n",
       "      <td>[chinese, lunar, healthier, festive, rolls, au...</td>\n",
       "      <td>[Healthy Chinese New Year Food Know the calori...</td>\n",
       "    </tr>\n",
       "    <tr>\n",
       "      <th>37</th>\n",
       "      <td>36</td>\n",
       "      <td>6</td>\n",
       "      <td>36_stress_mind_mindfulness_present</td>\n",
       "      <td>[stress, mind, mindfulness, present, relax, ma...</td>\n",
       "      <td>[Relieving excessive stress helps you gain cla...</td>\n",
       "    </tr>\n",
       "    <tr>\n",
       "      <th>38</th>\n",
       "      <td>37</td>\n",
       "      <td>6</td>\n",
       "      <td>37_christmas_healthier_deepavali_festive</td>\n",
       "      <td>[christmas, healthier, deepavali, festive, fat...</td>\n",
       "      <td>[Hari Raya Food As you snack during this Hari ...</td>\n",
       "    </tr>\n",
       "    <tr>\n",
       "      <th>39</th>\n",
       "      <td>38</td>\n",
       "      <td>6</td>\n",
       "      <td>38_core_position_arms_legs</td>\n",
       "      <td>[core, position, arms, legs, muscles, feet, ex...</td>\n",
       "      <td>[The Role of Core Muscles The core is essentia...</td>\n",
       "    </tr>\n",
       "    <tr>\n",
       "      <th>40</th>\n",
       "      <td>39</td>\n",
       "      <td>6</td>\n",
       "      <td>39_cholesterol_gi_glucose_carbs</td>\n",
       "      <td>[cholesterol, gi, glucose, carbs, meat, wholeg...</td>\n",
       "      <td>[Red meat, poultry, seafood, eggs, dairy, bean...</td>\n",
       "    </tr>\n",
       "    <tr>\n",
       "      <th>41</th>\n",
       "      <td>40</td>\n",
       "      <td>6</td>\n",
       "      <td>40_depression_illness_mental_stigma</td>\n",
       "      <td>[depression, illness, mental, stigma, hiv, pat...</td>\n",
       "      <td>[The stigma of mental illness is perpetuated i...</td>\n",
       "    </tr>\n",
       "    <tr>\n",
       "      <th>42</th>\n",
       "      <td>41</td>\n",
       "      <td>6</td>\n",
       "      <td>41_crying_colic_diarrhoea_spit</td>\n",
       "      <td>[crying, colic, diarrhoea, spit, feeding, diap...</td>\n",
       "      <td>[If your baby is pooping more often, and if hi...</td>\n",
       "    </tr>\n",
       "    <tr>\n",
       "      <th>43</th>\n",
       "      <td>42</td>\n",
       "      <td>6</td>\n",
       "      <td>42_oil_buy_rice_meals</td>\n",
       "      <td>[oil, buy, rice, meals, fat, supermarket, bulk...</td>\n",
       "      <td>[#1 Plan your meals Before you head to the gro...</td>\n",
       "    </tr>\n",
       "    <tr>\n",
       "      <th>44</th>\n",
       "      <td>43</td>\n",
       "      <td>5</td>\n",
       "      <td>43_rice_cooking_cooker_cooked</td>\n",
       "      <td>[rice, cooking, cooker, cooked, raisins, cranb...</td>\n",
       "      <td>[Claypot Vegetable Brown Rice What you need Br...</td>\n",
       "    </tr>\n",
       "    <tr>\n",
       "      <th>45</th>\n",
       "      <td>44</td>\n",
       "      <td>5</td>\n",
       "      <td>44_meals_eating_healthier_snacks</td>\n",
       "      <td>[meals, eating, healthier, snacks, plate, kids...</td>\n",
       "      <td>[The main rule of thumb when it comes to maint...</td>\n",
       "    </tr>\n",
       "    <tr>\n",
       "      <th>46</th>\n",
       "      <td>45</td>\n",
       "      <td>5</td>\n",
       "      <td>45_bros_abdominal_uncle_waist</td>\n",
       "      <td>[bros, abdominal, uncle, waist, bod, men, circ...</td>\n",
       "      <td>[It is common among men with abdominal obesity...</td>\n",
       "    </tr>\n",
       "    <tr>\n",
       "      <th>47</th>\n",
       "      <td>46</td>\n",
       "      <td>5</td>\n",
       "      <td>46_ltw_ms_workshops_soh</td>\n",
       "      <td>[ltw, ms, workshops, soh, yeo, learnt, weighed...</td>\n",
       "      <td>[After sending her five-year-old daughter off ...</td>\n",
       "    </tr>\n",
       "    <tr>\n",
       "      <th>48</th>\n",
       "      <td>47</td>\n",
       "      <td>4</td>\n",
       "      <td>47_falls_falling_risk_fractures</td>\n",
       "      <td>[falls, falling, risk, fractures, consequences...</td>\n",
       "      <td>[Causes of Falls In Singapore, about one-third...</td>\n",
       "    </tr>\n",
       "    <tr>\n",
       "      <th>49</th>\n",
       "      <td>48</td>\n",
       "      <td>4</td>\n",
       "      <td>48_fathers_role_important_values</td>\n",
       "      <td>[fathers, role, important, values, bonding, pa...</td>\n",
       "      <td>[Be A Positive Role Model For Your Child You t...</td>\n",
       "    </tr>\n",
       "    <tr>\n",
       "      <th>50</th>\n",
       "      <td>49</td>\n",
       "      <td>4</td>\n",
       "      <td>49_sedentary_chair_sit_workspace</td>\n",
       "      <td>[sedentary, chair, sit, workspace, desk, exerc...</td>\n",
       "      <td>[Even if you hit the gym or soccer field a cou...</td>\n",
       "    </tr>\n",
       "    <tr>\n",
       "      <th>51</th>\n",
       "      <td>50</td>\n",
       "      <td>4</td>\n",
       "      <td>50_remember_school_studying_ll</td>\n",
       "      <td>[remember, school, studying, ll, exam, stress,...</td>\n",
       "      <td>[Small steps can lead to successful results an...</td>\n",
       "    </tr>\n",
       "  </tbody>\n",
       "</table>\n",
       "</div>"
      ],
      "text/plain": [
       "    Topic  Count                                       Name  \\\n",
       "0      -1     75                -1_fat_healthy_child_stress   \n",
       "1       0     41      0_smoking_nicotine_quitting_cigarette   \n",
       "2       1     26            1_pregnancy_weeks_womb_pregnant   \n",
       "3       2     26                   2_eye_eyes_lenses_myopia   \n",
       "4       3     21          3_teeth_dental_dentist_toothpaste   \n",
       "5       4     20            4_flu_diseases_infectious_mumps   \n",
       "6       5     19               5_diabetes_glucose_type_risk   \n",
       "7       6     18           6_exercise_fitness_activity_step   \n",
       "8       7     17            7_milk_formula_nutrition_solids   \n",
       "9       8     16             8_hawker_healthier_sodium_soup   \n",
       "10      9     15         9_intensity_exercise_aerobic_heart   \n",
       "11     10     13           10_self_esteem_children_positive   \n",
       "12     11     13        11_alcohol_drinking_alcoholic_binge   \n",
       "13     12     13              12_dementia_brain_care_memory   \n",
       "14     13     12       13_exercise_workout_fitness_workouts   \n",
       "15     14     12        14_quarter_plate_healthy_vegetables   \n",
       "16     15     11          15_bmi_metabolism_calorie_healthy   \n",
       "17     16     11             16_sleep_bedtime_babys_blanket   \n",
       "18     17     11            17_protein_calcium_vitamin_diet   \n",
       "19     18     11                18_tbsp_stock_chopped_sauce   \n",
       "20     19     11      19_students_screening_canteen_primary   \n",
       "21     20     10                   20_sugar_tea_drinks_teas   \n",
       "22     21     10             21_trail_park_tiong_singapores   \n",
       "23     22     10            22_toys_safety_prevent_children   \n",
       "24     23      9                    23_iron_drinks_haem_ice   \n",
       "25     24      9              24_tbsp_sliced_recipe_chicken   \n",
       "26     25      9  25_allergies_allergy_allergic_antibiotics   \n",
       "27     26      9                 26_food_kids_healthy_bento   \n",
       "28     27      8      27_vegetables_collagen_fruits_organic   \n",
       "29     28      8       28_cnb_substances_illegal_addictions   \n",
       "30     29      8      29_wholegrain_wholegrains_symbol_rice   \n",
       "31     30      8           30_resilience_social_self_esteem   \n",
       "32     31      8    31_toddler_infant_objects_developmental   \n",
       "33     32      8             32_bmi_percentile_children_age   \n",
       "34     33      7      33_sexuality_teen_relationship_esteem   \n",
       "35     34      6                  34_food_meal_eating_meals   \n",
       "36     35      6         35_chinese_lunar_healthier_festive   \n",
       "37     36      6         36_stress_mind_mindfulness_present   \n",
       "38     37      6   37_christmas_healthier_deepavali_festive   \n",
       "39     38      6                 38_core_position_arms_legs   \n",
       "40     39      6            39_cholesterol_gi_glucose_carbs   \n",
       "41     40      6        40_depression_illness_mental_stigma   \n",
       "42     41      6             41_crying_colic_diarrhoea_spit   \n",
       "43     42      6                      42_oil_buy_rice_meals   \n",
       "44     43      5              43_rice_cooking_cooker_cooked   \n",
       "45     44      5           44_meals_eating_healthier_snacks   \n",
       "46     45      5              45_bros_abdominal_uncle_waist   \n",
       "47     46      5                    46_ltw_ms_workshops_soh   \n",
       "48     47      4            47_falls_falling_risk_fractures   \n",
       "49     48      4           48_fathers_role_important_values   \n",
       "50     49      4           49_sedentary_chair_sit_workspace   \n",
       "51     50      4             50_remember_school_studying_ll   \n",
       "\n",
       "                                       Representation  \\\n",
       "0   [fat, healthy, child, stress, health, fruit, e...   \n",
       "1   [smoking, nicotine, quitting, cigarette, smoke...   \n",
       "2   [pregnancy, weeks, womb, pregnant, bleeding, n...   \n",
       "3   [eye, eyes, lenses, myopia, screen, activities...   \n",
       "4   [teeth, dental, dentist, toothpaste, brushing,...   \n",
       "5   [flu, diseases, infectious, mumps, vaccines, i...   \n",
       "6   [diabetes, glucose, type, risk, control, stres...   \n",
       "7   [exercise, fitness, activity, step, tracker, g...   \n",
       "8   [milk, formula, nutrition, solids, little, cre...   \n",
       "9   [hawker, healthier, sodium, soup, rice, food, ...   \n",
       "10  [intensity, exercise, aerobic, heart, moderate...   \n",
       "11  [self, esteem, children, positive, confidence,...   \n",
       "12  [alcohol, drinking, alcoholic, binge, ml, effe...   \n",
       "13  [dementia, brain, care, memory, healthy, alzhe...   \n",
       "14  [exercise, workout, fitness, workouts, exercis...   \n",
       "15  [quarter, plate, healthy, vegetables, wholegra...   \n",
       "16  [bmi, metabolism, calorie, healthy, gain, diet...   \n",
       "17  [sleep, bedtime, babys, blanket, cot, nights, ...   \n",
       "18  [protein, calcium, vitamin, diet, bone, vegeta...   \n",
       "19  [tbsp, stock, chopped, sauce, seasoning, cabba...   \n",
       "20  [students, screening, canteen, primary, hmsp, ...   \n",
       "21  [sugar, tea, drinks, teas, contains, teaspoons...   \n",
       "22  [trail, park, tiong, singapores, bahru, hiking...   \n",
       "23  [toys, safety, prevent, children, safe, chokin...   \n",
       "24  [iron, drinks, haem, ice, eating, cravings, ca...   \n",
       "25  [tbsp, sliced, recipe, chicken, sauce, ginger,...   \n",
       "26  [allergies, allergy, allergic, antibiotics, co...   \n",
       "27  [food, kids, healthy, bento, fruit, nutrition,...   \n",
       "28  [vegetables, collagen, fruits, organic, fibre,...   \n",
       "29  [cnb, substances, illegal, addictions, nams, c...   \n",
       "30  [wholegrain, wholegrains, symbol, rice, health...   \n",
       "31  [resilience, social, self, esteem, intelligenc...   \n",
       "32  [toddler, infant, objects, developmental, todd...   \n",
       "33  [bmi, percentile, children, age, height, weigh...   \n",
       "34  [sexuality, teen, relationship, esteem, attitu...   \n",
       "35  [food, meal, eating, meals, snacks, vegetable,...   \n",
       "36  [chinese, lunar, healthier, festive, rolls, au...   \n",
       "37  [stress, mind, mindfulness, present, relax, ma...   \n",
       "38  [christmas, healthier, deepavali, festive, fat...   \n",
       "39  [core, position, arms, legs, muscles, feet, ex...   \n",
       "40  [cholesterol, gi, glucose, carbs, meat, wholeg...   \n",
       "41  [depression, illness, mental, stigma, hiv, pat...   \n",
       "42  [crying, colic, diarrhoea, spit, feeding, diap...   \n",
       "43  [oil, buy, rice, meals, fat, supermarket, bulk...   \n",
       "44  [rice, cooking, cooker, cooked, raisins, cranb...   \n",
       "45  [meals, eating, healthier, snacks, plate, kids...   \n",
       "46  [bros, abdominal, uncle, waist, bod, men, circ...   \n",
       "47  [ltw, ms, workshops, soh, yeo, learnt, weighed...   \n",
       "48  [falls, falling, risk, fractures, consequences...   \n",
       "49  [fathers, role, important, values, bonding, pa...   \n",
       "50  [sedentary, chair, sit, workspace, desk, exerc...   \n",
       "51  [remember, school, studying, ll, exam, stress,...   \n",
       "\n",
       "                                  Representative_Docs  \n",
       "0   [Nutritional Requirements for Children after t...  \n",
       "1   [The harmful effects of smoking are known to a...  \n",
       "2   [Anaemia Anaemia is a condition in which mums-...  \n",
       "3   [Myopia can be delayed or prevented by encoura...  \n",
       "4   [By the time your child has turned one and a h...  \n",
       "5   [What Is the Flu? Most of us have caught the f...  \n",
       "6   [Thats more than double the 440,000 Singaporea...  \n",
       "7   [By now, we're familiar with the benefits of e...  \n",
       "8   [Hes able to pick up objects with his thumb an...  \n",
       "9   [Healthier Singapore Hawker Food The next time...  \n",
       "10  [It is the answer to a more energetic and heal...  \n",
       "11  [As a parent, you probably wish you could help...  \n",
       "12  [You may think little of the harms of alcohol ...  \n",
       "13  [Dementia is a disorder of the brain that is c...  \n",
       "14  [Getting Your Cardio Workouts at Home Some day...  \n",
       "15  [Learn how to use My Healthy Plate to build ba...  \n",
       "16  [Extreme Celebrity Diets When it comes to diet...  \n",
       "17  [Getting quality shut-eye also means that they...  \n",
       "18  [Many individuals choose to be vegetarian for ...  \n",
       "19  [WHAT YOU NEED Fish fillet 300 g Seasoning Tom...  \n",
       "20  [Health Screening in Primary Schools The schoo...  \n",
       "21  [Some sugars are found naturally in the foods ...  \n",
       "22  [Parks, walking or jogging trails and park con...  \n",
       "23  [Prevent Drowning at Home Many of us have the ...  \n",
       "24  [It is a component of almost every body part, ...  \n",
       "25  [Sayur Lodeh is everyone's favourite dish, esp...  \n",
       "26  [An allergy occurs when the body comes into co...  \n",
       "27  [Nutritional Requirements for Toddlers after t...  \n",
       "28  [In addition to leaves, the flowers (example, ...  \n",
       "29  [With the legalisation of drugs in some countr...  \n",
       "30  [You first need to know that all grains start ...  \n",
       "31  [Most of us take for granted our day-to-day aw...  \n",
       "32  [As parents, it is important that you are awar...  \n",
       "33  [Your child is slightly taller and heavier tha...  \n",
       "34  [Birds and Bees Talk It is a topic as old as t...  \n",
       "35  [Here are a few tips to help you turn meal tim...  \n",
       "36  [Healthy Chinese New Year Food Know the calori...  \n",
       "37  [Relieving excessive stress helps you gain cla...  \n",
       "38  [Hari Raya Food As you snack during this Hari ...  \n",
       "39  [The Role of Core Muscles The core is essentia...  \n",
       "40  [Red meat, poultry, seafood, eggs, dairy, bean...  \n",
       "41  [The stigma of mental illness is perpetuated i...  \n",
       "42  [If your baby is pooping more often, and if hi...  \n",
       "43  [#1 Plan your meals Before you head to the gro...  \n",
       "44  [Claypot Vegetable Brown Rice What you need Br...  \n",
       "45  [The main rule of thumb when it comes to maint...  \n",
       "46  [It is common among men with abdominal obesity...  \n",
       "47  [After sending her five-year-old daughter off ...  \n",
       "48  [Causes of Falls In Singapore, about one-third...  \n",
       "49  [Be A Positive Role Model For Your Child You t...  \n",
       "50  [Even if you hit the gym or soccer field a cou...  \n",
       "51  [Small steps can lead to successful results an...  "
      ]
     },
     "execution_count": 6,
     "metadata": {},
     "output_type": "execute_result"
    }
   ],
   "source": [
    "docs = hpb_df['extractive_summary'].to_list()\n",
    "# embeddings = np.array(df['doc_embeddings'].to_list())\n",
    "doc_titles = hpb_df['title'].to_list()\n",
    "\n",
    "topics, _ = topic_model.fit_transform(docs)\n",
    "# Get value count per topic\n",
    "topic_model.get_topic_info()"
   ]
  },
  {
   "cell_type": "code",
   "execution_count": 7,
   "metadata": {},
   "outputs": [
    {
     "data": {
      "application/vnd.plotly.v1+json": {
       "config": {
        "plotlyServerURL": "https://plot.ly"
       },
       "data": [
        {
         "hoverinfo": "text",
         "hovertext": [
          "7 Reasons to Stop Sitting for Long Periods - Topic 49",
          "9 Ways to Be a Healthy, Happy Telecommuter - Topic 49",
          "Simple Exercises for Office Workers - Topic 49",
          "Lunchtime Office Workouts - Topic 49",
          "6 Mental Wellness Tips to Make Exam Stress Work for You - Topic 50",
          "How to Study Difficult Subjects - Topic 50",
          "How to Study Smart - Topic 50",
          "Back to School Tips and Tricks - Topic 50",
          null
         ],
         "marker": {
          "color": "#CFD8DC",
          "opacity": 0.5,
          "size": 5
         },
         "mode": "markers+text",
         "name": "other",
         "showlegend": false,
         "type": "scattergl",
         "x": [
          6.774174213409424,
          6.796553611755371,
          6.773210048675537,
          6.783766269683838,
          5.431427955627441,
          5.412764549255371,
          5.40549373626709,
          5.433404922485352,
          6.101349353790283
         ],
         "y": [
          4.096443176269531,
          3.9613022804260254,
          4.067795276641846,
          4.024913311004639,
          3.9264638423919678,
          3.9255082607269287,
          3.9059760570526123,
          3.909447193145752,
          3.977231025695801
         ]
        },
        {
         "hoverinfo": "text",
         "hovertext": [
          "Quit Smoking Tips for People with Diabetes - Topic 0",
          "9 Reasons Smokers are Grateful They’ve Quit - Topic 0",
          "Use This Coupon: Get Support from Your Loved Ones - Topic 0",
          "Are e-cigarettes harmful? - Topic 0",
          "Smoke-free Environment for a Healthier Family - Topic 0",
          "Stop Smoking and Reap the Benefits of a Smoke-Free Life! - Topic 0",
          "Quitting After Seventeen Years - Can It Be Done? - Topic 0",
          "Benefits of Quitting - Topic 0",
          "How to Quit Smoking Gradually - Topic 0",
          "3 Sweet Ways to Deal with Nicotine Withdrawal Symptoms - Topic 0",
          "Smoking Control Programmes - Topic 0",
          "Shake up Old Habits to Quit Smoking - Topic 0",
          "Why Social Media Detox Might Improve Your Mental Well-being - Topic 0",
          "Questions on Smoking, Tobacco Use and Health - Topic 0",
          "Smoking - Casual Habit or Addiction? - Topic 0",
          "Facts on Tobacco Smoking and Tobacco Products - Topic 0",
          "5 Quit Tips to Quit Smoking for Good - Topic 0",
          "Let’s Get Real About Vaping – 8 Reasons Why You Shouldn’t Start - Topic 0",
          "Stay Smoke-Free and Avoid a Smoking Relapse - Topic 0",
          "Know Your Enemy: Identify and Avoid Triggers - Topic 0",
          "Quit Smoking with This Game Plan - Topic 0",
          "What’s Your Reason to Stub Out? - Topic 0",
          "Slip-Ups: Dos and Dont's - Topic 0",
          "How to Deal with Cravings After You’ve Quit Smoking - Topic 0",
          "Weigh to Go! Quit Smoking Without Weight Gain - Topic 0",
          "Quit Smoking: Stubbing Out the Myths - Topic 0",
          "Quit Smoking and Make New Friends with New Hobbies - Topic 0",
          "How To Control Emotions After You’ve Quit Smoking - Topic 0",
          "\"Vaping is not smoking\", and Other Tobacco Myths - Topic 0",
          "Effects of Secondhand Smoke on Your Child’s Health - Topic 0",
          "How to Quit Smoking by Going Cold Turkey - Topic 0",
          "Ditch Both that Cigarette and Drink! - Topic 0",
          "Help Someone Quit Smoking - Topic 0",
          "Get Smart: Debunking Myths About Drug Addiction - Topic 0",
          "10 Ways to Stay Smoke-Free After You Have Quit Smoking - Topic 0",
          "Say Hello to 4Ds and Bye to Nicotine Withdrawal Symptoms. - Topic 0",
          "Quit Smoking with Nicotine Replacement Therapy - Topic 0",
          "Environmental Tobacco Smoke - Topic 0",
          "Smoking for Stress Relief? Think Again! - Topic 0",
          "Weather the Nicotine Withdrawal Symptoms - Topic 0",
          "How to Quit - Topic 0",
          null
         ],
         "marker": {
          "opacity": 0.5,
          "size": 5
         },
         "mode": "markers+text",
         "name": "0_smoking_nicotine_quitting",
         "text": [
          "",
          "",
          "",
          "",
          "",
          "",
          "",
          "",
          "",
          "",
          "",
          "",
          "",
          "",
          "",
          "",
          "",
          "",
          "",
          "",
          "",
          "",
          "",
          "",
          "",
          "",
          "",
          "",
          "",
          "",
          "",
          "",
          "",
          "",
          "",
          "",
          "",
          "",
          "",
          "",
          "",
          "0_smoking_nicotine_quitting"
         ],
         "textfont": {
          "size": 12
         },
         "type": "scattergl",
         "x": [
          2.633533239364624,
          2.8151721954345703,
          2.5663440227508545,
          2.9713735580444336,
          2.940239191055298,
          2.700826644897461,
          2.746162176132202,
          2.589571714401245,
          2.5559093952178955,
          2.6882660388946533,
          2.733421802520752,
          2.6990914344787598,
          2.9686315059661865,
          2.96101975440979,
          2.7015738487243652,
          2.9294371604919434,
          2.6327381134033203,
          2.981349229812622,
          2.7139787673950195,
          2.7008779048919678,
          2.5181586742401123,
          2.8031880855560303,
          2.5195388793945312,
          2.657674551010132,
          2.629061222076416,
          2.680689811706543,
          2.7447075843811035,
          2.876521348953247,
          2.9716694355010986,
          2.969024419784546,
          2.5248284339904785,
          2.899686098098755,
          2.597249746322632,
          3.297802448272705,
          2.482320785522461,
          2.569241762161255,
          2.5860373973846436,
          2.9529659748077393,
          2.9052534103393555,
          2.61932110786438,
          2.6318135261535645,
          2.747957706451416
         ],
         "y": [
          3.7731211185455322,
          3.744237184524536,
          3.6702029705047607,
          3.806987762451172,
          3.824089765548706,
          3.685713529586792,
          3.68320631980896,
          3.6601152420043945,
          3.67171049118042,
          3.745939254760742,
          3.698160409927368,
          3.763267755508423,
          3.772007942199707,
          3.8234477043151855,
          3.750110149383545,
          3.7807605266571045,
          3.744572162628174,
          3.82444429397583,
          3.76593017578125,
          3.706660509109497,
          3.6482205390930176,
          3.7550878524780273,
          3.688633918762207,
          3.7386233806610107,
          3.7125906944274902,
          3.6730127334594727,
          3.7344040870666504,
          3.75178861618042,
          3.808940887451172,
          3.812593936920166,
          3.63858962059021,
          3.787412643432617,
          3.6802258491516113,
          3.8915510177612305,
          3.635786771774292,
          3.751936435699463,
          3.7107737064361572,
          3.8328206539154053,
          3.778109073638916,
          3.719956874847412,
          3.7184271812438965,
          3.7405898571014404
         ]
        },
        {
         "hoverinfo": "text",
         "hovertext": [
          "Coping With the Unexpected: Pregnancy Complications - Topic 1",
          "What happens in the Second Trimester - Topic 1",
          "What Happens in the First Trimester? - Topic 1",
          "Someone call the Doc! - Topic 1",
          "Labour and Delivery — What to Expect - Topic 1",
          "I'm Going to Be a Mum! - Topic 1",
          "Baby's here! What's next? - Topic 1",
          "Healthy Start For Your Pregnancy - Topic 1",
          "6 Blood Tests Every Mum-to-Be Undergoes - Topic 1",
          "When to Sound the Alarm on Your Pregnancy - Topic 1",
          "Tests for me and my baby - Topic 1",
          "Talk of the class (Antenatal class) - Topic 1",
          "Exercise During Your Pregnancy - Topic 1",
          "Being Fit When Pregnant - Topic 1",
          "A Healthy Life Begins in the Womb - Topic 1",
          "Pregnancy Health Advice and Tips - Topic 1",
          "Thinking Ahead - Topic 1",
          "Healthy Start For Your Baby - Topic 1",
          "What happens in the third trimester - Topic 1",
          "Glow as baby grows - Topic 1",
          "4 Reasons You Keep Going to the Loo - Topic 1",
          "Baby has come home: dealing with changes - Topic 1",
          "The Post-Partum Weight Loss Journey - Topic 1",
          "First days of our lives with baby - Topic 1",
          "Recharged and ready for baby - Topic 1",
          "Morning Sickness: Should You Be Worried? - Topic 1",
          null
         ],
         "marker": {
          "opacity": 0.5,
          "size": 5
         },
         "mode": "markers+text",
         "name": "1_pregnancy_weeks_womb",
         "text": [
          "",
          "",
          "",
          "",
          "",
          "",
          "",
          "",
          "",
          "",
          "",
          "",
          "",
          "",
          "",
          "",
          "",
          "",
          "",
          "",
          "",
          "",
          "",
          "",
          "",
          "",
          "1_pregnancy_weeks_womb"
         ],
         "textfont": {
          "size": 12
         },
         "type": "scattergl",
         "x": [
          6.118810176849365,
          6.150010585784912,
          6.145839214324951,
          6.102805137634277,
          6.1943206787109375,
          6.110804557800293,
          6.192321300506592,
          6.246221542358398,
          6.1679606437683105,
          6.1658406257629395,
          6.1849236488342285,
          6.199461460113525,
          6.252011299133301,
          6.277920246124268,
          6.247442245483398,
          6.115203857421875,
          6.23621940612793,
          6.293395519256592,
          6.141570568084717,
          6.204853534698486,
          6.17996072769165,
          6.2328009605407715,
          6.2954816818237305,
          6.213137626647949,
          6.180389404296875,
          6.146604537963867,
          6.192165851593018
         ],
         "y": [
          5.556790351867676,
          5.456587791442871,
          5.396978378295898,
          5.606934070587158,
          5.3646111488342285,
          5.122138023376465,
          5.293731212615967,
          5.111539840698242,
          5.5057196617126465,
          5.529571533203125,
          5.448507785797119,
          5.250208377838135,
          5.216434955596924,
          5.222353458404541,
          5.09145975112915,
          5.578818321228027,
          5.247145175933838,
          5.009982585906982,
          5.4782562255859375,
          5.2584004402160645,
          5.423032283782959,
          5.29526948928833,
          5.164066314697266,
          5.287351131439209,
          5.2348785400390625,
          5.567809581756592,
          5.335329532623291
         ]
        },
        {
         "hoverinfo": "text",
         "hovertext": [
          "Outdoor Activities for Your Children - Topic 2",
          "Getting Fit Through Fun for kids - Topic 2",
          "Help Your Child Untangle From The Web - Topic 2",
          "Outdoor Activities for Kids - Topic 2",
          "5 Old School Games to Teach Your Kids - Topic 2",
          "Q&A: Can I Let My 1-year-old Play on the Tablet? - Topic 2",
          "Eye Care in Your 60s and Beyond - Topic 2",
          "Good Eye Care Habits - Topic 2",
          "Child’s Sixth Year: Healthy Screen Time Habits - Topic 2",
          "9 Health Hazards of Electronic Devices for Kids - Topic 2",
          "5 Ideas to Enrich Your Children This March Holiday - Topic 2",
          "Healthy Eyes, Clear Vision - Topic 2",
          "Activity Ideas to Get Your Pre-Schooler Moving - Topic 2",
          "Common Eye Conditions in Your Pre-Schooler - Topic 2",
          "Activity Ideas to Get Your 3-Year-Old Moving - Topic 2",
          "How to Get Your Parents to Get Moving and Adopt an Active Lifestyle - Topic 2",
          "Contact Lenses—The Do's and Don'ts for Your Teenager - Topic 2",
          "Different Spectacle Lenses - Topic 2",
          "Activity Ideas to Get Your 5-Year-Old Moving - Topic 2",
          "Fun, Family Activities for 6-Year-Olds - Topic 2",
          "What Every Parent Should Know About Screen Time - Topic 2",
          "Eat Well, Mum - Topic 2",
          "Guide to Toddler Eye Care - Topic 2",
          "Toddlers and Physical Activity – What You Need To Know - Topic 2",
          "Activity Ideas to Get Your Tot Moving - Topic 2",
          "Let’s Go, Mummy & Daddy! - Topic 2",
          null
         ],
         "marker": {
          "opacity": 0.5,
          "size": 5
         },
         "mode": "markers+text",
         "name": "2_eye_eyes_lenses",
         "text": [
          "",
          "",
          "",
          "",
          "",
          "",
          "",
          "",
          "",
          "",
          "",
          "",
          "",
          "",
          "",
          "",
          "",
          "",
          "",
          "",
          "",
          "",
          "",
          "",
          "",
          "",
          "2_eye_eyes_lenses"
         ],
         "textfont": {
          "size": 12
         },
         "type": "scattergl",
         "x": [
          6.171195983886719,
          6.13230562210083,
          5.918183326721191,
          6.171021938323975,
          6.116422176361084,
          6.147862434387207,
          6.36864709854126,
          6.135068416595459,
          6.086183071136475,
          6.081367015838623,
          6.0725321769714355,
          6.176385879516602,
          6.12672233581543,
          6.199898719787598,
          6.085134029388428,
          6.252066135406494,
          6.203965663909912,
          6.191409111022949,
          6.1122846603393555,
          6.132312297821045,
          6.058524131774902,
          6.104689121246338,
          6.197830677032471,
          6.10528564453125,
          6.090963840484619,
          6.083811283111572,
          6.135464191436768
         ],
         "y": [
          4.714171886444092,
          4.6916184425354,
          4.720526695251465,
          4.646305084228516,
          4.634488582611084,
          4.835079193115234,
          4.810256481170654,
          4.802974224090576,
          4.819485187530518,
          4.834584712982178,
          4.563803672790527,
          4.838407039642334,
          4.731927394866943,
          4.846357345581055,
          4.775552272796631,
          4.522406578063965,
          4.858900547027588,
          4.8464813232421875,
          4.579407215118408,
          4.624854564666748,
          4.797616481781006,
          4.567009449005127,
          4.843997001647949,
          4.70990514755249,
          4.692142486572266,
          4.709510326385498,
          4.731452465057373
         ]
        },
        {
         "hoverinfo": "text",
         "hovertext": [
          "Do I Need a Dental Specialist? - Topic 3",
          "Oral Care Tips for Teens to Have Terrific Teeth - Topic 3",
          "How to Care for Your Teeth When You Have Braces - Topic 3",
          "Primary Lessons in Oral Care - Topic 3",
          "Guide to Oral Care for Your Toothy Toddler - Topic 3",
          "Q&A: Should I Put Juice in a Milk Bottle or a Sippy Cup? - Topic 3",
          "Help! My Child Won’t Let Me Brush Her Teeth! - Topic 3",
          "How Can I Prevent Tooth Decay in My Child? - Topic 3",
          "Q&A: When Will My Baby Get His First Tooth? - Topic 3",
          "6 Tips to Make Brushing Teeth Fun for Kids! - Topic 3",
          "Q&A: How Do I Brush My Child's Teeth? - Topic 3",
          "Tiding over Teething - Topic 3",
          "Baby Teeth, Teething and Oral Health - Topic 3",
          "My Child is Still Sucking His Thumb. What Should I Do? - Topic 3",
          "Dental Check-ups for Teens - Topic 3",
          "Baby’s Second Year: Protect That Precious Smile - Topic 3",
          "Help Your Child Smile for Life - Topic 3",
          "When Do Baby Teeth Start Falling Out? - Topic 3",
          "Oral Care for Your Pre-Schooler - Topic 3",
          "Keep Teeth in Check - Topic 3",
          "Q&A: Does My Baby Need to See a Dentist? - Topic 3",
          null
         ],
         "marker": {
          "opacity": 0.5,
          "size": 5
         },
         "mode": "markers+text",
         "name": "3_teeth_dental_dentist",
         "text": [
          "",
          "",
          "",
          "",
          "",
          "",
          "",
          "",
          "",
          "",
          "",
          "",
          "",
          "",
          "",
          "",
          "",
          "",
          "",
          "",
          "",
          "3_teeth_dental_dentist"
         ],
         "textfont": {
          "size": 12
         },
         "type": "scattergl",
         "x": [
          7.087869167327881,
          7.071919918060303,
          7.001153469085693,
          7.116706848144531,
          7.011698246002197,
          6.992600917816162,
          7.057855129241943,
          7.014145374298096,
          6.93665885925293,
          7.040186405181885,
          7.074574947357178,
          6.919474124908447,
          7.028019428253174,
          7.030036449432373,
          7.10451078414917,
          7.033695697784424,
          7.0287322998046875,
          6.999570846557617,
          6.992448806762695,
          7.03901481628418,
          7.017076015472412,
          7.028473854064941
         ],
         "y": [
          5.474342346191406,
          5.5254130363464355,
          5.572175025939941,
          5.465280055999756,
          5.49244499206543,
          5.470024585723877,
          5.55292272567749,
          5.505112171173096,
          5.486509323120117,
          5.529285907745361,
          5.5293169021606445,
          5.495540618896484,
          5.513779163360596,
          5.511704921722412,
          5.482032775878906,
          5.571845531463623,
          5.538947105407715,
          5.500542640686035,
          5.499174118041992,
          5.543300628662109,
          5.433220863342285,
          5.509186744689941
         ]
        },
        {
         "hoverinfo": "text",
         "hovertext": [
          "Easy Travel Preparations - Topic 4",
          "Does Your Child Need The Influenza Vaccine? - Topic 4",
          "Mumps Vaccine: Why We Want to Prevent Mumps - Topic 4",
          "Mozzie Woes: Dengue - Topic 4",
          "How Dangerous Is Rubella? - Topic 4",
          "What's Making Me Itchy Down There? - Topic 4",
          "Beat the Flu When You Have Diabetes - Topic 4",
          "When exposed to infections - Topic 4",
          "Protect Yourself and Others Against the Flu - Topic 4",
          "Keep Germs Away - Topic 4",
          "Not Safe for Work – Poor Office Hygiene - Topic 4",
          "4 Reasons to Get Vaccinated—Adult Immunisation - Topic 4",
          "All You Need to Know About Childhood Immunisations - Topic 4",
          "Antimicrobial Resistance: All You Need to Know - Topic 4",
          "Immunisation: inject to protect - Topic 4",
          "Traveller Survival Guide: How to Stay Safe and Healthy on Holiday - Topic 4",
          "Singapore Combats Infectious Diseases with Legislation - Topic 4",
          "Know How to Fight Flu - Topic 4",
          "8 Personal Hygiene Boo Boos You Don't Want To Make - Topic 4",
          "Start Your Year-End Vacation With a Flu Jab - Topic 4",
          null
         ],
         "marker": {
          "opacity": 0.5,
          "size": 5
         },
         "mode": "markers+text",
         "name": "4_flu_diseases_infectious",
         "text": [
          "",
          "",
          "",
          "",
          "",
          "",
          "",
          "",
          "",
          "",
          "",
          "",
          "",
          "",
          "",
          "",
          "",
          "",
          "",
          "",
          "4_flu_diseases_infectious"
         ],
         "textfont": {
          "size": 12
         },
         "type": "scattergl",
         "x": [
          6.953034400939941,
          6.863229274749756,
          6.849959850311279,
          6.902466773986816,
          6.751117706298828,
          6.779902458190918,
          6.841858386993408,
          6.74245023727417,
          6.804417610168457,
          6.825370788574219,
          6.85045862197876,
          6.931070804595947,
          6.796041488647461,
          6.856293678283691,
          6.798348426818848,
          6.935553073883057,
          6.930375576019287,
          6.8378448486328125,
          6.835819244384766,
          6.865157604217529,
          6.847538948059082
         ],
         "y": [
          6.4455485343933105,
          6.440788269042969,
          6.449010372161865,
          6.501624584197998,
          6.329592227935791,
          6.213858604431152,
          6.46126127243042,
          6.353629112243652,
          6.348302841186523,
          6.420096397399902,
          6.2470903396606445,
          6.487733840942383,
          6.356422424316406,
          6.450160503387451,
          6.370986461639404,
          6.4688520431518555,
          6.5304036140441895,
          6.414662837982178,
          6.290027618408203,
          6.468911170959473,
          6.4024481773376465
         ]
        },
        {
         "hoverinfo": "text",
         "hovertext": [
          "Watch Over Your Eyes - Topic 5",
          "Losing Weight When You Have Diabetes - Topic 5",
          "Reverse Pre-diabetes with These 4 Simple Steps - Topic 5",
          "Diabetes - Are You at Risk? - Topic 5",
          "Diabetes: What’s the Big Deal? - Topic 5",
          "Desserts, Durian, Diet: Busting Diabetes Myths - Topic 5",
          "Coping with Diabetes and Depression - Topic 5",
          "If You Think Thin People Don’t Get Diabetes, Think Again! - Topic 5",
          "Why Do I Need Insulin Injections? - Topic 5",
          "Travelling with Diabetes - Topic 5",
          "Diabetes and Heart Disease - Topic 5",
          "Stay Active with Diabetes - Topic 5",
          "Don't Lose Sleep over Type 2 Diabetes - Topic 5",
          "Pregnant When You Have Diabetes: A Checklist - Topic 5",
          "Diabetes Management and Stress - Topic 5",
          "You Can Reverse Pre-diabetes with Healthy Lifestyle Changes - Topic 5",
          "When You Have Diabetes, Use This Checklist - Topic 5",
          "Delicious Diabetes Friendly Recipes - Eat Well, Live Well - Topic 5",
          "Being Hospitalised When You have Diabetes - Topic 5",
          null
         ],
         "marker": {
          "opacity": 0.5,
          "size": 5
         },
         "mode": "markers+text",
         "name": "5_diabetes_glucose_type",
         "text": [
          "",
          "",
          "",
          "",
          "",
          "",
          "",
          "",
          "",
          "",
          "",
          "",
          "",
          "",
          "",
          "",
          "",
          "",
          "",
          "5_diabetes_glucose_type"
         ],
         "textfont": {
          "size": 12
         },
         "type": "scattergl",
         "x": [
          9.189724922180176,
          9.314537048339844,
          9.223586082458496,
          9.218836784362793,
          9.25871753692627,
          9.329268455505371,
          9.223095893859863,
          9.114006996154785,
          9.182866096496582,
          9.15930461883545,
          9.347488403320312,
          9.171092987060547,
          9.215696334838867,
          9.179282188415527,
          9.190497398376465,
          9.257779121398926,
          9.225690841674805,
          9.42692756652832,
          9.213479995727539,
          9.233782768249512
         ],
         "y": [
          4.73841667175293,
          4.645218372344971,
          4.739078998565674,
          4.729331970214844,
          4.6794304847717285,
          4.630848407745361,
          4.824893474578857,
          4.662418365478516,
          4.8065338134765625,
          4.801799297332764,
          4.622705936431885,
          4.771819591522217,
          4.854581832885742,
          4.790770530700684,
          4.821367263793945,
          4.708364009857178,
          4.733348369598389,
          4.475963592529297,
          4.859742641448975,
          4.731400966644287
         ]
        },
        {
         "hoverinfo": "text",
         "hovertext": [
          "7 Exercise Gadgets For An Active Lifestyle - Topic 6",
          "“I Have No Motivation to Exercise!” - Topic 6",
          "Get a Workout Buddy to Get You Moving! - Topic 6",
          "Health Benefits of Walking - Topic 6",
          "Keeping Up With the Fitness Buddy - Topic 6",
          "Increase Your Physical Activity and Your Heart Rate! - Topic 6",
          "How to Stay Motivated and Lead a Healthy Lifestyle - Topic 6",
          "How to Walk 10,000 Steps a Day The Easy Way - Topic 6",
          "Map and Doodle Your Running Routes - Topic 6",
          "Use a Fitness Tracker to Motivate You to Exercise and Track Your Physical Activity - Topic 6",
          "Corporate Challenge: Steps and Initiatives - Topic 6",
          "Create Your Own Exercise Music Mix - Topic 6",
          "4 Examples of SMART Health Goals - Topic 6",
          "Easy Ways to Start Exercising - Topic 6",
          "4 Fitness Motivation Hacks for Friends - Topic 6",
          "Prevent Injuries with Proper Form During Workouts! - Topic 6",
          "Make Small Lifestyle Changes to Sneak in More Exercise, Without Trying Too Hard - Topic 6",
          "Fun and Healthy Activities with Friends for Stress Relief - Topic 6",
          null
         ],
         "marker": {
          "opacity": 0.5,
          "size": 5
         },
         "mode": "markers+text",
         "name": "6_exercise_fitness_activity",
         "text": [
          "",
          "",
          "",
          "",
          "",
          "",
          "",
          "",
          "",
          "",
          "",
          "",
          "",
          "",
          "",
          "",
          "",
          "",
          "6_exercise_fitness_activity"
         ],
         "textfont": {
          "size": 12
         },
         "type": "scattergl",
         "x": [
          7.023565769195557,
          7.177863597869873,
          7.1661272048950195,
          6.854992389678955,
          7.1018781661987305,
          6.832330703735352,
          6.981572151184082,
          6.8245158195495605,
          6.894282341003418,
          6.84211540222168,
          6.840892314910889,
          7.025221824645996,
          7.277621269226074,
          6.9169769287109375,
          7.029370307922363,
          7.28309440612793,
          6.900723934173584,
          6.93538761138916,
          6.994918346405029
         ],
         "y": [
          4.125521183013916,
          4.054806709289551,
          4.064062595367432,
          4.309736251831055,
          4.104974269866943,
          4.285620212554932,
          4.117268085479736,
          4.328460693359375,
          4.2788825035095215,
          4.334526538848877,
          4.330002784729004,
          4.131524085998535,
          3.993879556655884,
          4.245164394378662,
          4.13810920715332,
          3.9134716987609863,
          4.151637077331543,
          4.123249053955078,
          4.1683831214904785
         ]
        },
        {
         "hoverinfo": "text",
         "hovertext": [
          "What To Eat While Breastfeeding - Topic 7",
          "7-month-baby Diet: An Authoritative Guide by Our Experts - Topic 7",
          "Q&A: Is It Possible to Overfeed My Baby? - Topic 7",
          "Nutrition for your toddler - Topic 7",
          "Ready, Steady, Wean! Why, When and How to Move Your Baby onto Solids - Topic 7",
          "Getting ready for solids - Topic 7",
          "Meal Ideas: Month 11 - Topic 7",
          "Q&A: My Baby Is a Fussy Eater! What Should I Do? - Topic 7",
          "Getting Your Baby Started on Solids - Topic 7",
          "Feeding Your Baby Solid Food: Baby's First Food Journey - Topic 7",
          "Should I Switch My Baby to Low-Fat Milk? - Topic 7",
          "Early Nutrition: How to Introduce Full Cream Milk to Your Toddler - Topic 7",
          "Meal Ideas: Month 10 - Topic 7",
          "Meal Ideas: Month 9 - Topic 7",
          "Early Childhood Nutrition: Food Guide for Your One-Year-Old - Topic 7",
          "Meal Ideas: Month 12 - Topic 7",
          "Meal Ideas: Month 8 - Topic 7",
          null
         ],
         "marker": {
          "opacity": 0.5,
          "size": 5
         },
         "mode": "markers+text",
         "name": "7_milk_formula_nutrition",
         "text": [
          "",
          "",
          "",
          "",
          "",
          "",
          "",
          "",
          "",
          "",
          "",
          "",
          "",
          "",
          "",
          "",
          "",
          "7_milk_formula_nutrition"
         ],
         "textfont": {
          "size": 12
         },
         "type": "scattergl",
         "x": [
          6.8533759117126465,
          6.9988694190979,
          7.008742809295654,
          7.2297163009643555,
          6.854992866516113,
          6.918242454528809,
          7.009131908416748,
          7.095982074737549,
          6.959164619445801,
          6.925668716430664,
          7.030721187591553,
          7.145338535308838,
          6.928956508636475,
          7.003388404846191,
          7.298698902130127,
          7.087430477142334,
          7.049382209777832,
          7.02340030670166
         ],
         "y": [
          4.830873966217041,
          4.780429363250732,
          4.743702411651611,
          4.765801906585693,
          4.8611836433410645,
          4.8224663734436035,
          4.734396457672119,
          4.643148422241211,
          4.759099960327148,
          4.804844856262207,
          4.831301212310791,
          4.829339504241943,
          4.817173957824707,
          4.779763221740723,
          4.702132701873779,
          4.673092365264893,
          4.739943027496338,
          4.7716875076293945
         ]
        },
        {
         "hoverinfo": "text",
         "hovertext": [
          "Healthy Tips at Hawker Centres to Survive the Hawker Paradise - Topic 8",
          "Say Yes To Lower-Calorie Hawker Foods - Topic 8",
          "Healthy Herbs and Spices for Cooking - Topic 8",
          "7 Healthy Lunch Tips for the Busy Executive - Topic 8",
          "Who Says Healthy Food Can’t Taste Good? - Topic 8",
          "Cut 100 Calories From Your Breakfast, Lunch and Dinner Every Day - Topic 8",
          "Want to lower your sodium intake? Try lower-sodium salt! - Topic 8",
          "Eating Light At A Hawker Centre Is Possible - Topic 8",
          "Mushrooms, Mushrooms! - Topic 8",
          "Healthy Hawker Food - Topic 8",
          "5 Healthier CBD Lunchtime Dining Options - Topic 8",
          "7 Tricks for Surviving the Food Court at Lunchtime - Topic 8",
          "Healthy Eating tips by Winner of MasterChef Asia - Topic 8",
          "Eat to Lower Blood Pressure - Topic 8",
          "Restaurant Guide to Healthier Eating - Topic 8",
          "Spice Up Your Cooking With Spices - Topic 8",
          null
         ],
         "marker": {
          "opacity": 0.5,
          "size": 5
         },
         "mode": "markers+text",
         "name": "8_hawker_healthier_sodium",
         "text": [
          "",
          "",
          "",
          "",
          "",
          "",
          "",
          "",
          "",
          "",
          "",
          "",
          "",
          "",
          "",
          "",
          "8_hawker_healthier_sodium"
         ],
         "textfont": {
          "size": 12
         },
         "type": "scattergl",
         "x": [
          9.729029655456543,
          9.695333480834961,
          10.085795402526855,
          9.677863121032715,
          9.868242263793945,
          9.534219741821289,
          10.087183952331543,
          9.640597343444824,
          10.065723419189453,
          9.683263778686523,
          9.583712577819824,
          9.616418838500977,
          9.816802978515625,
          10.122153282165527,
          9.782757759094238,
          10.261704444885254,
          9.82817554473877
         ],
         "y": [
          3.5906429290771484,
          3.448570489883423,
          3.606401205062866,
          3.56062912940979,
          3.62766170501709,
          3.5143370628356934,
          3.660696029663086,
          3.488058567047119,
          3.661937952041626,
          3.4685418605804443,
          3.5182576179504395,
          3.5091512203216553,
          3.6276590824127197,
          3.638185977935791,
          3.4960556030273438,
          3.543755292892456,
          3.5600337982177734
         ]
        },
        {
         "hoverinfo": "text",
         "hovertext": [
          "5 Fun Workouts For Those Who Hate Normal Exercises - Topic 9",
          "Fitness and Exercise Workouts In and Around Singapore - Topic 9",
          "Physical Activity Is Key to Active Ageing - Topic 9",
          "How Much Exercise Is Enough for a Healthier You - Topic 9",
          "Benefits of Playing Team Sports - Topic 9",
          "Health Benefits of Exercise and Physical Activity - Topic 9",
          "Physical Activity: How to Get Up and Go! - Topic 9",
          "Dance Your Way To Health - Topic 9",
          "How Much Exercise Is Enough? - Topic 9",
          "Why You Should Exercise and Get Your Heart Pumping! - Topic 9",
          "Age is only a Number - Move it, Feel young - Topic 9",
          "Aim for 150 Minutes of Physical Activity Every Week - Topic 9",
          "Getting Started on Health Qigong - Topic 9",
          "Understanding The Different Intensity Levels of Physical Activity - Topic 9",
          "5 Exercises to Prevent Chronic Illnesses - Topic 9",
          null
         ],
         "marker": {
          "opacity": 0.5,
          "size": 5
         },
         "mode": "markers+text",
         "name": "9_intensity_exercise_aerobic",
         "text": [
          "",
          "",
          "",
          "",
          "",
          "",
          "",
          "",
          "",
          "",
          "",
          "",
          "",
          "",
          "",
          "9_intensity_exercise_aerobic"
         ],
         "textfont": {
          "size": 12
         },
         "type": "scattergl",
         "x": [
          7.051670074462891,
          7.045330047607422,
          7.029378890991211,
          6.991601943969727,
          6.874639511108398,
          6.8928985595703125,
          7.077702522277832,
          6.935734272003174,
          7.013182163238525,
          7.080103874206543,
          6.9826531410217285,
          6.989612579345703,
          7.040380477905273,
          7.102585792541504,
          7.067432880401611,
          7.011660575866699
         ],
         "y": [
          4.104797840118408,
          4.181248664855957,
          4.044326305389404,
          4.133828639984131,
          4.10923957824707,
          4.1438188552856445,
          4.09612512588501,
          4.115550518035889,
          4.13835334777832,
          4.158416748046875,
          4.131282806396484,
          4.164159774780273,
          4.142743110656738,
          4.102953910827637,
          4.1745405197143555,
          4.129426002502441
         ]
        },
        {
         "hoverinfo": "text",
         "hovertext": [
          "Exam Stress Busting Tips - Topic 10",
          "8 Ways to Boost Your Child’s Confidence and Self-Esteem - Topic 10",
          "Raising Kids with Healthy Minds - Topic 10",
          "Saying NO to Peer Pressure - Topic 10",
          "14 Ways to Boost Your Child's Mental Well-being - Topic 10",
          "7 Habits of Highly Resilient Families - Topic 10",
          "Building Resilience In Your Child - Topic 10",
          "Nurturing Self-esteem - Topic 10",
          "7 Great Ways to Bond With Your Kids at Home - Topic 10",
          "Building Strong Family Ties - Topic 10",
          "Maintaining A Positive Attitude When Faced with Adversity - Topic 10",
          "What Should You Do If You Are Being Cyberbullied? - Topic 10",
          "How To Make Friends for Better Mental Well-being - Topic 10",
          null
         ],
         "marker": {
          "opacity": 0.5,
          "size": 5
         },
         "mode": "markers+text",
         "name": "10_self_esteem_children",
         "text": [
          "",
          "",
          "",
          "",
          "",
          "",
          "",
          "",
          "",
          "",
          "",
          "",
          "",
          "10_self_esteem_children"
         ],
         "textfont": {
          "size": 12
         },
         "type": "scattergl",
         "x": [
          5.503681659698486,
          5.587127685546875,
          5.477392196655273,
          5.1487579345703125,
          5.643930435180664,
          5.792208194732666,
          5.491270542144775,
          5.549910068511963,
          5.923764705657959,
          5.821500778198242,
          5.154526233673096,
          5.442262649536133,
          5.344529151916504,
          5.529296398162842
         ],
         "y": [
          4.196227550506592,
          4.31674337387085,
          4.200437545776367,
          4.205714225769043,
          4.367565155029297,
          4.339058876037598,
          4.266053676605225,
          4.296631336212158,
          4.462573528289795,
          4.382943630218506,
          4.143024921417236,
          4.222584247589111,
          4.192817211151123,
          4.276336193084717
         ]
        },
        {
         "hoverinfo": "text",
         "hovertext": [
          "Why Can't I Stop Drinking? - Topic 11",
          "Alcohol and Pregnancy: Don't Toast To Your Baby's Health - Topic 11",
          "Know Your Alcohol Limit: Don’t Be a Party Pooper! - Topic 11",
          "Why is Binge Drinking Bad for You? - Topic 11",
          "4 Things You Can Do To Keep Your Teens Sober - Topic 11",
          "Responsible Drinking: Know Your Alcohol Limit - Topic 11",
          "Alcohol and Health—Set Your Drinking Limits - Topic 11",
          "Drinking Myths Busted! - Topic 11",
          "Drinking (or not) to a Healthy Chinese New Year - Topic 11",
          "Alcohol — More than Meets the Eye - Topic 11",
          "Pint of No Return - Topic 11",
          "Staying Sober and Within the Alcohol Limit - Topic 11",
          "Life is Better When You're Sober - Topic 11",
          null
         ],
         "marker": {
          "opacity": 0.5,
          "size": 5
         },
         "mode": "markers+text",
         "name": "11_alcohol_drinking_alcoholic",
         "text": [
          "",
          "",
          "",
          "",
          "",
          "",
          "",
          "",
          "",
          "",
          "",
          "",
          "",
          "11_alcohol_drinking_alcoholic"
         ],
         "textfont": {
          "size": 12
         },
         "type": "scattergl",
         "x": [
          4.118117332458496,
          4.037395477294922,
          4.111813068389893,
          4.008280277252197,
          4.1250319480896,
          4.1044511795043945,
          4.0208282470703125,
          4.065731048583984,
          4.026784420013428,
          4.043190956115723,
          4.1585259437561035,
          4.124080657958984,
          4.098657608032227,
          4.080222129821777
         ],
         "y": [
          4.140209674835205,
          4.069753170013428,
          4.176405429840088,
          4.056009769439697,
          4.122520446777344,
          4.112908840179443,
          4.083059310913086,
          4.104363441467285,
          4.077861309051514,
          4.09554386138916,
          4.142364978790283,
          4.112552165985107,
          4.094308376312256,
          4.1067585945129395
         ]
        },
        {
         "hoverinfo": "text",
         "hovertext": [
          "Dementia Role Reversal: Who Is the Caregiver Now? - Topic 12",
          "Dementia: When The Brain Is Ill - Topic 12",
          "Reduce Your Risk of Developing Dementia - Topic 12",
          "Healthy Living: Ways to Live Healthy and Stay Healthy - Topic 12",
          "Caring for Dementia Patients - Handle Feelings with Care - Topic 12",
          "Healthy Mind: Tips For A Healthy Brain! - Topic 12",
          "How to Communicate With a Loved One With Dementia - Topic 12",
          "Your Guide to Understanding Dementia - Topic 12",
          "Warning Signs of Dementia - Topic 12",
          "My Loved One Has Dementia. What Do I Do? - Topic 12",
          "Healthy Ageing Tips to Ageing Gracefully - Topic 12",
          "Lead Healthy and Happy Lives with These Health Tips - Topic 12",
          "Never Too Early to Keep Dementia at Bay - Topic 12",
          null
         ],
         "marker": {
          "opacity": 0.5,
          "size": 5
         },
         "mode": "markers+text",
         "name": "12_dementia_brain_care",
         "text": [
          "",
          "",
          "",
          "",
          "",
          "",
          "",
          "",
          "",
          "",
          "",
          "",
          "",
          "12_dementia_brain_care"
         ],
         "textfont": {
          "size": 12
         },
         "type": "scattergl",
         "x": [
          6.5122971534729,
          6.498512268066406,
          6.636782169342041,
          6.723545074462891,
          6.491647720336914,
          6.6336894035339355,
          6.49983024597168,
          6.5127458572387695,
          6.505886554718018,
          6.534849166870117,
          6.65994119644165,
          6.771206855773926,
          6.599939346313477,
          6.583144187927246
         ],
         "y": [
          3.8927230834960938,
          3.8918631076812744,
          3.9099931716918945,
          3.992866277694702,
          3.8972978591918945,
          3.919530153274536,
          3.8975725173950195,
          3.889962911605835,
          3.894181251525879,
          3.881726026535034,
          3.937025785446167,
          3.9489362239837646,
          3.8913631439208984,
          3.9111568927764893
         ]
        },
        {
         "hoverinfo": "text",
         "hovertext": [
          "10 Ways Seniors Can Stay Healthy At Home - Topic 13",
          "12 Ways to Spruce Up Your Health at Home - Topic 13",
          "Manage Your Weight the Healthy Way - Topic 13",
          "Sign Up For These Fun Classes to Help Achieve Your Fitness Goals - Topic 13",
          "The A-Z Guide to Healthy Lifestyle Activities - Topic 13",
          "At-Home Workouts for Beginners: Endurance Training - Topic 13",
          "Here’s How To Exercise When You Have No Time - Topic 13",
          "Will Running Solve My Pot Belly Problem? - Topic 13",
          "Exercise at Home: Burn Calories While Watching TV! - Topic 13",
          "The A-Z Guide To A Healthy And Active Lifestyle - Topic 13",
          "No Time To Exercise? No Problem! - Topic 13",
          "How To Get Fit Fast At Home: Play Video Games! - Topic 13",
          null
         ],
         "marker": {
          "opacity": 0.5,
          "size": 5
         },
         "mode": "markers+text",
         "name": "13_exercise_workout_fitness",
         "text": [
          "",
          "",
          "",
          "",
          "",
          "",
          "",
          "",
          "",
          "",
          "",
          "",
          "13_exercise_workout_fitness"
         ],
         "textfont": {
          "size": 12
         },
         "type": "scattergl",
         "x": [
          6.818112373352051,
          6.825493812561035,
          7.207531929016113,
          7.1460862159729,
          7.076471328735352,
          7.076290130615234,
          7.135498523712158,
          7.328765392303467,
          6.934792995452881,
          7.1046833992004395,
          7.2386250495910645,
          7.049180030822754,
          7.078460693359375
         ],
         "y": [
          3.869879961013794,
          3.9315621852874756,
          4.185807228088379,
          4.214030742645264,
          4.006078720092773,
          3.893876075744629,
          4.202146053314209,
          4.0789971351623535,
          3.903557300567627,
          4.027624130249023,
          4.093545913696289,
          3.972365140914917,
          4.031622409820557
         ]
        },
        {
         "hoverinfo": "text",
         "hovertext": [
          "Makan Matters: What‘s a Balanced Diet? - Topic 14",
          "Plan Your Meals with My Healthy Plate - Topic 14",
          "How Much to Eat? Perfecting Portions - Topic 14",
          "Healthy Home Cooking Meal Tips - Topic 14",
          "Healthy Meals with My Healthy Plate - Topic 14",
          "Pasta Fiesta: Which is Healthier? - Topic 14",
          "Build a Healthy Diet Meal Plan - Topic 14",
          "Having a well-balanced diet is easier than you think! - Topic 14",
          "5 Good Eating Habits to Achieve Your Health Goals - Topic 14",
          "Out with extreme diets; In with balanced food choices - Topic 14",
          "You Are What You Eat - Topic 14",
          "10 Nutrition and Healthy Eating Myths - Topic 14",
          null
         ],
         "marker": {
          "opacity": 0.5,
          "size": 5
         },
         "mode": "markers+text",
         "name": "14_quarter_plate_healthy",
         "text": [
          "",
          "",
          "",
          "",
          "",
          "",
          "",
          "",
          "",
          "",
          "",
          "",
          "14_quarter_plate_healthy"
         ],
         "textfont": {
          "size": 12
         },
         "type": "scattergl",
         "x": [
          9.659477233886719,
          9.75760269165039,
          9.472137451171875,
          9.576122283935547,
          9.742709159851074,
          9.781289100646973,
          9.759532928466797,
          9.797707557678223,
          9.526254653930664,
          9.62145709991455,
          9.718918800354004,
          9.632305145263672,
          9.670459747314453
         ],
         "y": [
          3.970595598220825,
          3.8834903240203857,
          3.6132187843322754,
          3.6975836753845215,
          3.590230941772461,
          3.7779700756073,
          3.7064270973205566,
          3.6048994064331055,
          3.8711256980895996,
          3.692776679992676,
          3.7512128353118896,
          3.8077070713043213,
          3.747269868850708
         ]
        },
        {
         "hoverinfo": "text",
         "hovertext": [
          "Energy Balance — the Only Diet That Really Works - Topic 15",
          "Why Can't I Manage My Weight? - Topic 15",
          "How to Get in Shape Before Your Beach Holiday - Topic 15",
          "5 Myths and Facts About Metabolic Rates - Topic 15",
          "Weight, BMI and Health Problems - Topic 15",
          "What is a Healthy Weight? - Topic 15",
          "How to Stay Positive About Weight Management - Topic 15",
          "6 Tips on How to Manage Healthy Weight - Topic 15",
          "Tips for Successful Weight Management - Topic 15",
          "What to Eat to Lose Weight - Topic 15",
          "Diet vs Exercise: What Matters Most for Sustainable Weight Management? - Topic 15",
          null
         ],
         "marker": {
          "opacity": 0.5,
          "size": 5
         },
         "mode": "markers+text",
         "name": "15_bmi_metabolism_calorie",
         "text": [
          "",
          "",
          "",
          "",
          "",
          "",
          "",
          "",
          "",
          "",
          "",
          "15_bmi_metabolism_calorie"
         ],
         "textfont": {
          "size": 12
         },
         "type": "scattergl",
         "x": [
          8.70395565032959,
          8.647478103637695,
          8.863753318786621,
          8.738152503967285,
          8.40744400024414,
          8.482741355895996,
          8.478243827819824,
          8.737611770629883,
          8.755776405334473,
          8.876745223999023,
          8.588266372680664,
          8.661833763122559
         ],
         "y": [
          3.692960500717163,
          3.712606906890869,
          3.678879499435425,
          3.718238353729248,
          3.8066818714141846,
          3.7581772804260254,
          3.7224833965301514,
          3.6864988803863525,
          3.6604020595550537,
          3.6932015419006348,
          3.708571195602417,
          3.71260929107666
         ]
        },
        {
         "hoverinfo": "text",
         "hovertext": [
          "The Beginner’s Guide To Taking Care of Your Baby: 0 to 6 Months - Topic 16",
          "Gearing up for birth - Topic 16",
          "The Importance of Sleep - Topic 16",
          "Baby Up and About Safely - Topic 16",
          "Q&A: How Can I Get My Baby to Sleep Well and Safely? - Topic 16",
          "Why Is Sleep Important for Kids? - Topic 16",
          "Surviving Sleep Deprivation With a Baby - Topic 16",
          "3 Ways to Improve Sleep Quality - Topic 16",
          "Care of Your Newborn: To Have and to Hold - Topic 16",
          "Get Your Zs to Ace Your Game - Topic 16",
          "Time to unwind - Topic 16",
          null
         ],
         "marker": {
          "opacity": 0.5,
          "size": 5
         },
         "mode": "markers+text",
         "name": "16_sleep_bedtime_babys",
         "text": [
          "",
          "",
          "",
          "",
          "",
          "",
          "",
          "",
          "",
          "",
          "",
          "16_sleep_bedtime_babys"
         ],
         "textfont": {
          "size": 12
         },
         "type": "scattergl",
         "x": [
          5.851982116699219,
          6.004415988922119,
          5.762240409851074,
          5.980081081390381,
          5.84624719619751,
          5.811245441436768,
          5.831474781036377,
          5.761685848236084,
          5.962893009185791,
          5.756210803985596,
          5.885569095611572,
          5.859458923339844
         ],
         "y": [
          5.159231185913086,
          5.133514881134033,
          5.190307140350342,
          5.099961280822754,
          5.1537322998046875,
          5.163678169250488,
          5.160742282867432,
          5.190427780151367,
          5.102602481842041,
          5.183160305023193,
          5.126506328582764,
          5.1512603759765625
         ]
        },
        {
         "hoverinfo": "text",
         "hovertext": [
          "Soya Bean — The Unique Plant Protein - Topic 17",
          "A Vegetarian's Guide to Eating Right - Topic 17",
          "Are Nuts a Healthy Food to Eat? - Topic 17",
          "Why Protein Is More Important Than You May Think, And 5 Common Protein Myths - Topic 17",
          "Keeping Bones Strong With Exercise and Calcium-Rich Foods - Topic 17",
          "Older Adults Need More Protein - Topic 17",
          "Food For Healthy Hair, Skin and Nails - Topic 17",
          "Are Vegetarian Diets Also Balanced Diets? - Topic 17",
          "Developing Healthy Habits - A Guide for Teens - Topic 17",
          "Daily Calcium Intake - For Greater Bone Strength - Topic 17",
          "Age Well by Eating Well - Topic 17",
          null
         ],
         "marker": {
          "opacity": 0.5,
          "size": 5
         },
         "mode": "markers+text",
         "name": "17_protein_calcium_vitamin",
         "text": [
          "",
          "",
          "",
          "",
          "",
          "",
          "",
          "",
          "",
          "",
          "",
          "17_protein_calcium_vitamin"
         ],
         "textfont": {
          "size": 12
         },
         "type": "scattergl",
         "x": [
          9.678256034851074,
          9.680075645446777,
          9.670609474182129,
          9.52181339263916,
          9.336871147155762,
          9.478137969970703,
          9.648041725158691,
          9.703502655029297,
          9.47804069519043,
          9.438990592956543,
          9.52803897857666,
          9.560215950012207
         ],
         "y": [
          3.941378116607666,
          3.912982702255249,
          3.9086356163024902,
          3.843320608139038,
          3.810176372528076,
          3.7979602813720703,
          3.8613319396972656,
          3.9166347980499268,
          3.8038275241851807,
          3.800607204437256,
          3.7073283195495605,
          3.845834970474243
         ]
        },
        {
         "hoverinfo": "text",
         "hovertext": [
          "Minestrone Pasta Soup - Topic 18",
          "Wok Fried Broccoli with Assorted Mushroom - Topic 18",
          "Sliced Fish with Bee Hoon Soup - Topic 18",
          "Cooking with Chef Mel Dean... Ikan Tiga Rasa - Topic 18",
          "Pan-Fried Potato Patties - Topic 18",
          "Nonya Tomato Fish - Topic 18",
          "Miso Sliced Fish Soup - Topic 18",
          "Fried Beehoon Chicken Bolognaise - Topic 18",
          "Our recipes - Japanese Curry With Sweet Potatoes - Topic 18",
          "Unpolished Healthy Mixed Rice Stuffed in Braised Cabbage Roll - Topic 18",
          "Warm Tofu Salad - Topic 18",
          null
         ],
         "marker": {
          "opacity": 0.5,
          "size": 5
         },
         "mode": "markers+text",
         "name": "18_tbsp_stock_chopped",
         "text": [
          "",
          "",
          "",
          "",
          "",
          "",
          "",
          "",
          "",
          "",
          "",
          "18_tbsp_stock_chopped"
         ],
         "textfont": {
          "size": 12
         },
         "type": "scattergl",
         "x": [
          11.008211135864258,
          11.002007484436035,
          11.030524253845215,
          11.054302215576172,
          10.985186576843262,
          11.02999210357666,
          11.095340728759766,
          11.034652709960938,
          11.027400016784668,
          11.098038673400879,
          10.929195404052734,
          11.026803970336914
         ],
         "y": [
          3.347557783126831,
          3.2625179290771484,
          3.344186305999756,
          3.267202615737915,
          3.350224018096924,
          3.3100593090057373,
          3.395573377609253,
          3.360971689224243,
          3.354682683944702,
          3.3954663276672363,
          3.276024580001831,
          3.3331334590911865
         ]
        },
        {
         "hoverinfo": "text",
         "hovertext": [
          "Health Exploration for Kids with the H-Team - Topic 19",
          "Eating Healthily at The School Canteen - Topic 19",
          "Health Screening for Primary School - Topic 19",
          "Healthy Preschool Accreditation Framework - Topic 19",
          "Healthy Eating In School And At Home - Topic 19",
          "Healthy Meals in Pre-schools Programme - Topic 19",
          "Requesting a Medical Report - Topic 19",
          "Healthy and Delicious Meals in School Canteens - Topic 19",
          "Eat to Win in Your School Canteen - Topic 19",
          "Health Screening for Secondary School - Topic 19",
          "Healthy Eating for Life - Topic 19",
          null
         ],
         "marker": {
          "opacity": 0.5,
          "size": 5
         },
         "mode": "markers+text",
         "name": "19_students_screening_canteen",
         "text": [
          "",
          "",
          "",
          "",
          "",
          "",
          "",
          "",
          "",
          "",
          "",
          "19_students_screening_canteen"
         ],
         "textfont": {
          "size": 12
         },
         "type": "scattergl",
         "x": [
          7.809336185455322,
          7.990489959716797,
          7.948868751525879,
          7.903419494628906,
          8.002274513244629,
          7.936165809631348,
          7.943760395050049,
          8.040533065795898,
          8.12932300567627,
          7.956003189086914,
          7.96270227432251,
          7.965715408325195
         ],
         "y": [
          4.610090732574463,
          4.797165393829346,
          5.046012878417969,
          4.881446361541748,
          4.739495277404785,
          4.796334743499756,
          5.072140216827393,
          4.741329669952393,
          4.660932540893555,
          5.067565441131592,
          4.719088077545166,
          4.830145835876465
         ]
        },
        {
         "hoverinfo": "text",
         "hovertext": [
          "10 Hidden Sugar Bombshells in Your Diet - Topic 20",
          "4 Ways to Reduce Your Daily Sugar Intake - Topic 20",
          "Benefits of Tea - Topic 20",
          "How Well Do You Know Your Sugar? - Topic 20",
          "Reduce Sugar Content in Drinks - Say Siu Dai Instead for a Healthier Brew - Topic 20",
          "Hidden Sugars and Diabetes - Topic 20",
          "How To Order Healthier Drinks - Topic 20",
          "Reduce Sugar in Your Coffee for a Healthier Drink - Topic 20",
          "Getting Your Caffeine Hit - Topic 20",
          "5 “Must-Know” Facts About Sugar - Topic 20",
          null
         ],
         "marker": {
          "opacity": 0.5,
          "size": 5
         },
         "mode": "markers+text",
         "name": "20_sugar_tea_drinks",
         "text": [
          "",
          "",
          "",
          "",
          "",
          "",
          "",
          "",
          "",
          "",
          "20_sugar_tea_drinks"
         ],
         "textfont": {
          "size": 12
         },
         "type": "scattergl",
         "x": [
          9.689237594604492,
          9.688436508178711,
          9.69797420501709,
          9.687777519226074,
          9.683658599853516,
          9.686884880065918,
          9.671180725097656,
          9.613960266113281,
          9.685839653015137,
          9.692083358764648,
          9.679703712463379
         ],
         "y": [
          3.8950998783111572,
          3.968325614929199,
          4.0400543212890625,
          3.985292434692383,
          3.8994524478912354,
          4.057485103607178,
          3.940340280532837,
          3.987708568572998,
          4.003688335418701,
          4.0030293464660645,
          3.9780476093292236
         ]
        },
        {
         "hoverinfo": "text",
         "hovertext": [
          "Fun Family and School Holiday Activities in Singapore - Topic 21",
          "Best Nature Walks in Singapore to Unwind with Nature - Topic 21",
          "7 Outdoor Spots To Bring Your Family – And Catch Pokémon - Topic 21",
          "Step Right Up - Topic 21",
          "Where to go in Singapore: Adventure Time! - Topic 21",
          "Healthy Lifestyle Activities on a Shoestring - Topic 21",
          "Outdoor Activities That Make Fitness Fun in Singapore - Topic 21",
          "Kickstart Your Active Lifestyle with a Dose of Fitness and Heritage - Topic 21",
          "Hit the Walking Trails for Exercise and Culture - Topic 21",
          "Hiking Trails With Spellbinding Views - Topic 21",
          null
         ],
         "marker": {
          "opacity": 0.5,
          "size": 5
         },
         "mode": "markers+text",
         "name": "21_trail_park_tiong",
         "text": [
          "",
          "",
          "",
          "",
          "",
          "",
          "",
          "",
          "",
          "",
          "21_trail_park_tiong"
         ],
         "textfont": {
          "size": 12
         },
         "type": "scattergl",
         "x": [
          6.489522457122803,
          6.5613250732421875,
          6.523102283477783,
          6.541568756103516,
          6.507705211639404,
          6.6047587394714355,
          6.68163537979126,
          6.555033206939697,
          6.565857410430908,
          6.573986530303955,
          6.560450077056885
         ],
         "y": [
          4.436986923217773,
          4.458559036254883,
          4.4294281005859375,
          4.474437236785889,
          4.4371185302734375,
          4.435868263244629,
          4.3661651611328125,
          4.451961994171143,
          4.427215576171875,
          4.4702229499816895,
          4.438796043395996
         ]
        },
        {
         "hoverinfo": "text",
         "hovertext": [
          "Keeping your child safe - Topic 22",
          "Prevent Choking - Topic 22",
          "Growing Up Safe - Topic 22",
          "Prevent Falls and Keep Your Child Injury-Free - Topic 22",
          "Safe Home for Your Baby - Topic 22",
          "Head Injuries in Children - Topic 22",
          "Prevent Drowning - Topic 22",
          "The Facts of Childhood Fractures - Topic 22",
          "Keep Your Home Free From These Safety Hazards - Topic 22",
          "The Toy Story on Safety - Topic 22",
          null
         ],
         "marker": {
          "opacity": 0.5,
          "size": 5
         },
         "mode": "markers+text",
         "name": "22_toys_safety_prevent",
         "text": [
          "",
          "",
          "",
          "",
          "",
          "",
          "",
          "",
          "",
          "",
          "22_toys_safety_prevent"
         ],
         "textfont": {
          "size": 12
         },
         "type": "scattergl",
         "x": [
          6.200967788696289,
          6.332192420959473,
          6.2465715408325195,
          6.223361968994141,
          6.122659683227539,
          6.2244343757629395,
          6.229635238647461,
          6.203686237335205,
          6.23288106918335,
          6.303079128265381,
          6.2319464683532715
         ],
         "y": [
          4.97878885269165,
          4.959649085998535,
          4.961379528045654,
          4.98678731918335,
          4.967827320098877,
          4.993128299713135,
          4.984710693359375,
          5.057243824005127,
          4.994404315948486,
          4.920984268188477,
          4.980490207672119
         ]
        },
        {
         "hoverinfo": "text",
         "hovertext": [
          "Yawn! I’m Having A Food Coma - Topic 23",
          "How to Stop Craving for Junk Food and Be Happy with Healthier Food - Topic 23",
          "Chew on Mindless Eating - Topic 23",
          "Banish Nasty Nibbles With Healthy Snacks - Topic 23",
          "The Best Refreshment - Topic 23",
          "Make Drinking Water Tasty With These Tips - Topic 23",
          "Low In Energy? You Could Be Low In Iron - Topic 23",
          "3 Tips to Achieve A Healthy Weight the Right Way. - Topic 23",
          "The Drop of Life — 6 Reasons to Drink Water - Topic 23",
          null
         ],
         "marker": {
          "opacity": 0.5,
          "size": 5
         },
         "mode": "markers+text",
         "name": "23_iron_drinks_haem",
         "text": [
          "",
          "",
          "",
          "",
          "",
          "",
          "",
          "",
          "",
          "23_iron_drinks_haem"
         ],
         "textfont": {
          "size": 12
         },
         "type": "scattergl",
         "x": [
          8.936898231506348,
          8.903332710266113,
          8.831809997558594,
          9.127758979797363,
          9.101251602172852,
          9.145713806152344,
          9.021428108215332,
          9.031168937683105,
          9.133930206298828,
          9.025920867919922
         ],
         "y": [
          3.6803178787231445,
          3.7064149379730225,
          3.688760995864868,
          3.71047306060791,
          3.765892744064331,
          3.7712957859039307,
          3.793239116668701,
          3.722794532775879,
          3.7201833724975586,
          3.7288191318511963
         ]
        },
        {
         "hoverinfo": "text",
         "hovertext": [
          "Multi-Grain Smoked Chicken Sandwich - Topic 24",
          "Cooking with Chef Mel Dean... Nasi Ulam Istimewa - Topic 24",
          "Grilled Teriyaki Chicken - Topic 24",
          "Cooking with Chef Mel Dean... Kuih Bakar Cempedak - Topic 24",
          "Cooking with Chef Mel Dean... Sweet & Sour Prawns - Topic 24",
          "Cooking with Chef Mel Dean... Rendang Ayam Recipe - Topic 24",
          "Cooking with Chef Mel Dean... Ayam Masak Merah - Topic 24",
          "Cooking with Chef Mel Dean... Chap Chye - Topic 24",
          "Cooking with Chef Mel Dean... Sayur Lodeh - Topic 24",
          null
         ],
         "marker": {
          "opacity": 0.5,
          "size": 5
         },
         "mode": "markers+text",
         "name": "24_tbsp_sliced_recipe",
         "text": [
          "",
          "",
          "",
          "",
          "",
          "",
          "",
          "",
          "",
          "24_tbsp_sliced_recipe"
         ],
         "textfont": {
          "size": 12
         },
         "type": "scattergl",
         "x": [
          10.867210388183594,
          11.062747955322266,
          10.891615867614746,
          11.024039268493652,
          11.084724426269531,
          10.96049690246582,
          10.982473373413086,
          11.06385612487793,
          11.036794662475586,
          10.997106552124023
         ],
         "y": [
          3.297401189804077,
          3.2029008865356445,
          3.2620127201080322,
          3.203125238418579,
          3.1775383949279785,
          3.2322347164154053,
          3.215115547180176,
          3.193298816680908,
          3.178082227706909,
          3.2179677486419678
         ]
        },
        {
         "hoverinfo": "text",
         "hovertext": [
          "When Does My Child Need Antibiotics? - Topic 25",
          "Q&A: What Are Common Food Allergies? - Topic 25",
          "Guide to Toddler Medication - Topic 25",
          "Guide to Common Toddler Conditions - Topic 25",
          "When allergies occur - Topic 25",
          "Q&A: Help! My Baby Is Coughing and Wheezing! - Topic 25",
          "Guide to Infant Medication - Topic 25",
          "Does My Baby Have Allergies? - Topic 25",
          "Q&A: Is My Child Having a Cold? - Topic 25",
          null
         ],
         "marker": {
          "opacity": 0.5,
          "size": 5
         },
         "mode": "markers+text",
         "name": "25_allergies_allergy_allergic",
         "text": [
          "",
          "",
          "",
          "",
          "",
          "",
          "",
          "",
          "",
          "25_allergies_allergy_allergic"
         ],
         "textfont": {
          "size": 12
         },
         "type": "scattergl",
         "x": [
          6.638035297393799,
          6.733715534210205,
          6.587946891784668,
          6.594221591949463,
          6.69798469543457,
          6.488612174987793,
          6.5627055168151855,
          6.6985015869140625,
          6.578989028930664,
          6.620079040527344
         ],
         "y": [
          6.191436767578125,
          5.8099541664123535,
          6.095881938934326,
          5.944701194763184,
          5.949875354766846,
          5.9592719078063965,
          6.063600063323975,
          5.941518306732178,
          6.05823278427124,
          6.001607894897461
         ]
        },
        {
         "hoverinfo": "text",
         "hovertext": [
          "Nutrition and Healthy Food for Children 49-60 Months (Preschoolers) - Topic 26",
          "Food for 6-Year-Olds: What to Eat? Remember S, M, L - Topic 26",
          "Healthy Food for Kids in a Bento - Topic 26",
          "4 Things Parents Should Know About Nutrition Panels - Topic 26",
          "Nutritional Requirements for Toddlers 25-36 Months Old - Topic 26",
          "Look What I Brought for Recess! - Topic 26",
          "Guilt-free Healthier Snacks For Kids - Topic 26",
          "Healthier Snacks for Children - Topic 26",
          "Nutrition for Pre-Schoolers Aged 3-4 Years (Months 37-48) - Topic 26",
          null
         ],
         "marker": {
          "opacity": 0.5,
          "size": 5
         },
         "mode": "markers+text",
         "name": "26_food_kids_healthy",
         "text": [
          "",
          "",
          "",
          "",
          "",
          "",
          "",
          "",
          "",
          "26_food_kids_healthy"
         ],
         "textfont": {
          "size": 12
         },
         "type": "scattergl",
         "x": [
          7.545142650604248,
          7.558826923370361,
          7.664215087890625,
          7.682277202606201,
          7.653475761413574,
          7.763731002807617,
          7.775152206420898,
          7.7769060134887695,
          7.6123785972595215,
          7.670233726501465
         ],
         "y": [
          4.489027500152588,
          4.536390781402588,
          4.44810152053833,
          4.526795864105225,
          4.592417240142822,
          4.468409538269043,
          4.39459228515625,
          4.39845609664917,
          4.502886772155762,
          4.4841203689575195
         ]
        },
        {
         "hoverinfo": "text",
         "hovertext": [
          "Organic Food—Is It Better for You? - Topic 27",
          "High Fibre for a Fit and Fabulous You - Topic 27",
          "Eat Your Veggies! - Topic 27",
          "Benefits of Fruits: Fun Fruity Facts for Health - Topic 27",
          "Collagen Hotpot - Is It A Crock Of Lies? - Topic 27",
          "Fill Up on Fruits (and Vegetables) - Topic 27",
          "Harness the Goodness of Fruit and Vegetables - Topic 27",
          "Shopping for Fruits and Vegetables - Topic 27",
          null
         ],
         "marker": {
          "opacity": 0.5,
          "size": 5
         },
         "mode": "markers+text",
         "name": "27_vegetables_collagen_fruits",
         "text": [
          "",
          "",
          "",
          "",
          "",
          "",
          "",
          "",
          "27_vegetables_collagen_fruits"
         ],
         "textfont": {
          "size": 12
         },
         "type": "scattergl",
         "x": [
          9.821897506713867,
          9.776113510131836,
          9.773221969604492,
          9.69620418548584,
          9.714055061340332,
          9.785752296447754,
          9.80617904663086,
          9.725798606872559,
          9.762402534484863
         ],
         "y": [
          3.828909158706665,
          3.8524625301361084,
          3.753565549850464,
          3.7658488750457764,
          3.729454755783081,
          3.715437412261963,
          3.827148675918579,
          3.7706339359283447,
          3.78043270111084
         ]
        },
        {
         "hoverinfo": "text",
         "hovertext": [
          "Getting Support - Topic 28",
          "Smoking, Alcohol and Drugs - Why Teens Get Hooked On This Triple Threat - Topic 28",
          "Say No to Drugs, Here and Abroad - Topic 28",
          "You Wouldn't Trust A Stranger - Topic 28",
          "Say No To Drugs - Topic 28",
          "Help! Is My Friend Abusing Substances? - Topic 28",
          "Not a Perfect World: Drug Abuse Ruins Lives - Topic 28",
          "Narcotics Misuse: How to Prevent Teenage Drug Abuse - Topic 28",
          null
         ],
         "marker": {
          "opacity": 0.5,
          "size": 5
         },
         "mode": "markers+text",
         "name": "28_cnb_substances_illegal",
         "text": [
          "",
          "",
          "",
          "",
          "",
          "",
          "",
          "",
          "28_cnb_substances_illegal"
         ],
         "textfont": {
          "size": 12
         },
         "type": "scattergl",
         "x": [
          4.392549991607666,
          4.364894866943359,
          4.335775852203369,
          4.324278831481934,
          4.3423309326171875,
          4.340622425079346,
          4.341881275177002,
          4.418182373046875,
          4.357564449310303
         ],
         "y": [
          4.201835632324219,
          4.134068489074707,
          4.174052715301514,
          4.172762870788574,
          4.166238784790039,
          4.173550128936768,
          4.176246643066406,
          4.183736801147461,
          4.172811508178711
         ]
        },
        {
         "hoverinfo": "text",
         "hovertext": [
          "Reading Food Labels—Making Sense of the Fine Print - Topic 29",
          "Healthy Eating and a Balanced Diet with Wholegrain Foods - Topic 29",
          "Make a Healthier Choice Today! - Topic 29",
          "Tips on Cooking Wholegrains - Topic 29",
          "Easy, Healthy Recipes for Kids to Start on Wholegrain - Topic 29",
          "Two Easy Ways to Make Healthier Choices - Topic 29",
          "Looking Out for Your Wholegrains - Topic 29",
          "Wholegrains—The Wise Choice! - Topic 29",
          null
         ],
         "marker": {
          "opacity": 0.5,
          "size": 5
         },
         "mode": "markers+text",
         "name": "29_wholegrain_wholegrains_symbol",
         "text": [
          "",
          "",
          "",
          "",
          "",
          "",
          "",
          "",
          "29_wholegrain_wholegrains_symbol"
         ],
         "textfont": {
          "size": 12
         },
         "type": "scattergl",
         "x": [
          9.953069686889648,
          10.33639144897461,
          9.952247619628906,
          10.533061981201172,
          10.38243293762207,
          9.93388843536377,
          10.094762802124023,
          10.280537605285645,
          10.183300018310547
         ],
         "y": [
          3.8517868518829346,
          3.7819693088531494,
          3.8590526580810547,
          3.6804587841033936,
          3.806122303009033,
          3.859595537185669,
          3.835418462753296,
          3.812664270401001,
          3.8108835220336914
         ]
        },
        {
         "hoverinfo": "text",
         "hovertext": [
          "The Science of Happiness - Topic 30",
          "6 Ways to Develop Resilience for Better Mental Health - Topic 30",
          "Know Your Worth and Boost Your Self-Esteem - Topic 30",
          "Develop Your Emotional Intelligence to Give Your Mental Well-being a Boost - Topic 30",
          "Resilience Is Like a Fruit Bowl - Topic 30",
          "6 Ways to Improve Social Skills and Increase Social Intelligence - Topic 30",
          "Positive Mental Well-being—The Foundation for a Flourishing Life - Topic 30",
          "Look on the Bright Side for Greater Resilience - Topic 30",
          null
         ],
         "marker": {
          "opacity": 0.5,
          "size": 5
         },
         "mode": "markers+text",
         "name": "30_resilience_social_self",
         "text": [
          "",
          "",
          "",
          "",
          "",
          "",
          "",
          "",
          "30_resilience_social_self"
         ],
         "textfont": {
          "size": 12
         },
         "type": "scattergl",
         "x": [
          5.715612888336182,
          5.735089302062988,
          5.8000054359436035,
          5.729234218597412,
          5.744147300720215,
          5.6728105545043945,
          5.782485485076904,
          5.736856460571289,
          5.739530563354492
         ],
         "y": [
          3.999454975128174,
          4.073673725128174,
          4.106830596923828,
          4.048084735870361,
          4.038888931274414,
          4.073573112487793,
          4.041067600250244,
          4.0821146965026855,
          4.0579609870910645
         ]
        },
        {
         "hoverinfo": "text",
         "hovertext": [
          "The Beginner’s Guide To Taking Care of Your Toddler: 13 to 18 Months - Topic 31",
          "Stimulate Your Baby's First Year Brain Development - Topic 31",
          "Activities for 6-12 Months: Let’s Play, Mummy! - Topic 31",
          "Your Growing Baby - Topic 31",
          "Help Your Baby Develop - Topic 31",
          "The Beginner’s Guide To Taking Care of Your Toddler: 19 to 24 Months - Topic 31",
          "Is My Child Developing Well? - Topic 31",
          "The Beginner’s Guide To Taking Care of Your Infant: 7 to 12 Months - Topic 31",
          null
         ],
         "marker": {
          "opacity": 0.5,
          "size": 5
         },
         "mode": "markers+text",
         "name": "31_toddler_infant_objects",
         "text": [
          "",
          "",
          "",
          "",
          "",
          "",
          "",
          "",
          "31_toddler_infant_objects"
         ],
         "textfont": {
          "size": 12
         },
         "type": "scattergl",
         "x": [
          5.971721172332764,
          5.994714260101318,
          6.011464595794678,
          6.013708591461182,
          5.980838298797607,
          5.986516952514648,
          6.004998683929443,
          6.0690717697143555,
          6.004129409790039
         ],
         "y": [
          4.766088485717773,
          4.864854335784912,
          4.823368549346924,
          4.839144706726074,
          4.886651992797852,
          4.756267070770264,
          4.793743133544922,
          4.879995346069336,
          4.826264381408691
         ]
        },
        {
         "hoverinfo": "text",
         "hovertext": [
          "Causes of Child Obesity - Topic 32",
          "What Is a Healthy BMI range for Children? - Topic 32",
          "My Child Is Short for His Age. What Should I Do? - Topic 32",
          "My Child Is in the 75th Percentile in Terms of BMI. Is That Good? - Topic 32",
          "My Child Is Bigger than Average but Very Active. Should I Be Worried? - Topic 32",
          "Child BMI: Health Problems - Topic 32",
          "Childhood Obesity: 6 Practical Tips for Parents - Topic 32",
          "Did You Know BMI Isn’t The Same For Adults And Kids? - Topic 32",
          null
         ],
         "marker": {
          "opacity": 0.5,
          "size": 5
         },
         "mode": "markers+text",
         "name": "32_bmi_percentile_children",
         "text": [
          "",
          "",
          "",
          "",
          "",
          "",
          "",
          "",
          "32_bmi_percentile_children"
         ],
         "textfont": {
          "size": 12
         },
         "type": "scattergl",
         "x": [
          7.573208808898926,
          7.5214128494262695,
          7.370636463165283,
          7.495975494384766,
          7.483425617218018,
          7.541145324707031,
          7.5943284034729,
          7.536531925201416,
          7.514582633972168
         ],
         "y": [
          4.413828372955322,
          4.367250442504883,
          4.407298564910889,
          4.380334377288818,
          4.364688396453857,
          4.381350040435791,
          4.42872428894043,
          4.363199710845947,
          4.388334274291992
         ]
        },
        {
         "hoverinfo": "text",
         "hovertext": [
          "\"The Talk\": What to say to your Teen about Sex and Sexuality - Topic 33",
          "Mum, Dad, Where Do I Come From? - Topic 33",
          "Your Role in Sexuality Education - Topic 33",
          "Creating a Loving Relationship for Your Child and Your Newborn - Topic 33",
          "What Is Sexual Health - Topic 33",
          "Parenting Tips: Bonding with Your Teenager - Topic 33",
          "How to Talk to Your Kids About Sex - Topic 33",
          null
         ],
         "marker": {
          "opacity": 0.5,
          "size": 5
         },
         "mode": "markers+text",
         "name": "33_sexuality_teen_relationship",
         "text": [
          "",
          "",
          "",
          "",
          "",
          "",
          "",
          "33_sexuality_teen_relationship"
         ],
         "textfont": {
          "size": 12
         },
         "type": "scattergl",
         "x": [
          5.321272850036621,
          5.311615943908691,
          5.3304853439331055,
          5.325211524963379,
          5.4120001792907715,
          5.308629035949707,
          5.306455135345459,
          5.330810070037842
         ],
         "y": [
          4.443065166473389,
          4.458826541900635,
          4.4508466720581055,
          4.453239440917969,
          4.477529525756836,
          4.325451374053955,
          4.429014205932617,
          4.433995723724365
         ]
        },
        {
         "hoverinfo": "text",
         "hovertext": [
          "My Child Won’t Eat His Veggies! What Can I Do? - Topic 34",
          "Help! My Toddler Is a Fussy Eater! - Topic 34",
          "Should I Let My Child Decide When to Eat, or Should I Build a Fixed, Regular Routine? - Topic 34",
          "Healthy Eating Tips For Kids With Hearty Appetites - Topic 34",
          "The Dinner Table Is a Battlefield. What Can I Do? - Topic 34",
          "Should I Let My Child Choose What Food to Eat? - Topic 34",
          null
         ],
         "marker": {
          "opacity": 0.5,
          "size": 5
         },
         "mode": "markers+text",
         "name": "34_food_meal_eating",
         "text": [
          "",
          "",
          "",
          "",
          "",
          "",
          "34_food_meal_eating"
         ],
         "textfont": {
          "size": 12
         },
         "type": "scattergl",
         "x": [
          7.422971725463867,
          7.379423141479492,
          7.348394393920898,
          7.443027496337891,
          7.352687358856201,
          7.39499568939209,
          7.390249729156494
         ],
         "y": [
          4.364337921142578,
          4.358463764190674,
          4.32808256149292,
          4.333112716674805,
          4.327154159545898,
          4.352139472961426,
          4.343881607055664
         ]
        },
        {
         "hoverinfo": "text",
         "hovertext": [
          "Stay Healthy During the Chinese New Year - Topic 35",
          "Sweeten Your CNY by Reducing Sugar - Topic 35",
          "Healthy Eating Tips for Chinese New Year - Topic 35",
          "Spring to Health This Chinese New Year - Topic 35",
          "Healthy Christmas and Chinese New Year Food - Topic 35",
          "Nutritional Facts About Auspicious Chinese New Year Foods - Topic 35",
          null
         ],
         "marker": {
          "opacity": 0.5,
          "size": 5
         },
         "mode": "markers+text",
         "name": "35_chinese_lunar_healthier",
         "text": [
          "",
          "",
          "",
          "",
          "",
          "",
          "35_chinese_lunar_healthier"
         ],
         "textfont": {
          "size": 12
         },
         "type": "scattergl",
         "x": [
          9.623064994812012,
          9.651991844177246,
          9.676618576049805,
          9.660918235778809,
          9.653474807739258,
          9.666821479797363,
          9.655481338500977
         ],
         "y": [
          3.687818765640259,
          3.73481822013855,
          3.62209415435791,
          3.6900477409362793,
          3.687439203262329,
          3.6987557411193848,
          3.686828851699829
         ]
        },
        {
         "hoverinfo": "text",
         "hovertext": [
          "Your Guide to Stress Management - Topic 36",
          "7 Easy Tips for Better Mental Well-being - Topic 36",
          "Achieve Mental Wellness by Practising Mindfulness - Topic 36",
          "Improve Your Mental Well-being by Going Solo - Topic 36",
          "8 Quick Things You Can Do To De-Stress - Topic 36",
          "Mental Wellness Is About the Little Habits Too - Topic 36",
          null
         ],
         "marker": {
          "opacity": 0.5,
          "size": 5
         },
         "mode": "markers+text",
         "name": "36_stress_mind_mindfulness",
         "text": [
          "",
          "",
          "",
          "",
          "",
          "",
          "36_stress_mind_mindfulness"
         ],
         "textfont": {
          "size": 12
         },
         "type": "scattergl",
         "x": [
          5.729442119598389,
          5.806323051452637,
          5.825908660888672,
          5.812449932098389,
          5.727869510650635,
          5.762452602386475,
          5.777407169342041
         ],
         "y": [
          3.9672553539276123,
          3.9539835453033447,
          3.9160091876983643,
          3.9267008304595947,
          3.9038913249969482,
          3.9258055686950684,
          3.932274103164673
         ]
        },
        {
         "hoverinfo": "text",
         "hovertext": [
          "Choosing Healthy Hari Raya Food and Deepavali Snacks - Topic 37",
          "Toast to Healthier Eating This Holiday - Topic 37",
          "Eating Healthy During Deepavali - Topic 37",
          "Healthy Eating for Kids This Christmas - Topic 37",
          "Top 10 Tips to Dine Healthily This Festive Season - Topic 37",
          "6 Tips To Healthy Deepavali Eating Whether As A Host Or Guest - Topic 37",
          null
         ],
         "marker": {
          "opacity": 0.5,
          "size": 5
         },
         "mode": "markers+text",
         "name": "37_christmas_healthier_deepavali",
         "text": [
          "",
          "",
          "",
          "",
          "",
          "",
          "37_christmas_healthier_deepavali"
         ],
         "textfont": {
          "size": 12
         },
         "type": "scattergl",
         "x": [
          9.716079711914062,
          9.605195045471191,
          9.707226753234863,
          9.554980278015137,
          9.534785270690918,
          9.708629608154297,
          9.637816429138184
         ],
         "y": [
          3.768319845199585,
          3.726085901260376,
          3.7485170364379883,
          3.7580580711364746,
          3.7328927516937256,
          3.7377116680145264,
          3.7452640533447266
         ]
        },
        {
         "hoverinfo": "text",
         "hovertext": [
          "Work (out) From Home: Stretches for Flexibility - Topic 38",
          "Work (Out) from Home: Improve Your Balance - Topic 38",
          "3 Simple and Effective Home Workouts in Under 3 minutes - Topic 38",
          "9 Standing Exercises You Can Do at Work or While Waiting in Line - Topic 38",
          "4 Simple Exercises to Strengthen Your Core Muscles - Topic 38",
          "The Ultimate 20-minute Home Workout - Topic 38",
          null
         ],
         "marker": {
          "opacity": 0.5,
          "size": 5
         },
         "mode": "markers+text",
         "name": "38_core_position_arms",
         "text": [
          "",
          "",
          "",
          "",
          "",
          "",
          "38_core_position_arms"
         ],
         "textfont": {
          "size": 12
         },
         "type": "scattergl",
         "x": [
          6.986215591430664,
          7.012113571166992,
          7.0397162437438965,
          6.976329803466797,
          7.002129077911377,
          7.025450229644775,
          7.006992816925049
         ],
         "y": [
          3.7077624797821045,
          3.688131809234619,
          3.732630729675293,
          3.7318904399871826,
          3.6997036933898926,
          3.7294199466705322,
          3.714923143386841
         ]
        },
        {
         "hoverinfo": "text",
         "hovertext": [
          "What is the Glycaemic Index? - Topic 39",
          "Carbohydrates and Diabetes - Topic 39",
          "Does Red Meat Cause Diabetes? - Topic 39",
          "The GI Values of Common Foods - Topic 39",
          "Diabetes and High Blood Cholesterol - Topic 39",
          "Why are Wholegrains Good for Diabetes Prevention? - Topic 39",
          null
         ],
         "marker": {
          "opacity": 0.5,
          "size": 5
         },
         "mode": "markers+text",
         "name": "39_cholesterol_gi_glucose",
         "text": [
          "",
          "",
          "",
          "",
          "",
          "",
          "39_cholesterol_gi_glucose"
         ],
         "textfont": {
          "size": 12
         },
         "type": "scattergl",
         "x": [
          9.704256057739258,
          9.605936050415039,
          9.657155990600586,
          9.667923927307129,
          9.598628044128418,
          9.785459518432617,
          9.669894218444824
         ],
         "y": [
          4.185593128204346,
          4.2345662117004395,
          4.273934841156006,
          4.2127180099487305,
          4.404444694519043,
          4.178419589996338,
          4.248279094696045
         ]
        },
        {
         "hoverinfo": "text",
         "hovertext": [
          "Emotional Support for Those Living with HIV - Topic 40",
          "Busting the Myths of Mental Illness - Topic 40",
          "Helping Youth Fight Depression - Topic 40",
          "Managing Your Mental Health - Topic 40",
          "Loving and Accepting Yourself - Topic 40",
          "Myths and Misconceptions about Depression - Topic 40",
          null
         ],
         "marker": {
          "opacity": 0.5,
          "size": 5
         },
         "mode": "markers+text",
         "name": "40_depression_illness_mental",
         "text": [
          "",
          "",
          "",
          "",
          "",
          "",
          "40_depression_illness_mental"
         ],
         "textfont": {
          "size": 12
         },
         "type": "scattergl",
         "x": [
          5.899960994720459,
          6.022595405578613,
          5.888271331787109,
          5.871849060058594,
          5.9285454750061035,
          5.955315589904785,
          5.927755832672119
         ],
         "y": [
          4.1044087409973145,
          3.9674768447875977,
          4.0257792472839355,
          4.049559593200684,
          4.016791820526123,
          3.989063262939453,
          4.025513172149658
         ]
        },
        {
         "hoverinfo": "text",
         "hovertext": [
          "7 Reasons Why Your Baby's Crying - Topic 41",
          "Common infant problems and conditions - Topic 41",
          "Guide to Common Infant Conditions - Topic 41",
          "Q&A: Help! My Baby Won’t Stop Crying! - Topic 41",
          "Q&A: Is My Baby's Spit-Up Normal? - Topic 41",
          "Q&A: My Baby’s Stools Are Watery, What Should I Do? - Topic 41",
          null
         ],
         "marker": {
          "opacity": 0.5,
          "size": 5
         },
         "mode": "markers+text",
         "name": "41_crying_colic_diarrhoea",
         "text": [
          "",
          "",
          "",
          "",
          "",
          "",
          "41_crying_colic_diarrhoea"
         ],
         "textfont": {
          "size": 12
         },
         "type": "scattergl",
         "x": [
          6.322210788726807,
          6.398780345916748,
          6.387956619262695,
          6.341820240020752,
          6.365966796875,
          6.377435684204102,
          6.365694522857666
         ],
         "y": [
          5.76729679107666,
          5.848139762878418,
          5.824394702911377,
          5.781724452972412,
          5.804056167602539,
          5.805929660797119,
          5.805257320404053
         ]
        },
        {
         "hoverinfo": "text",
         "hovertext": [
          "Grocery Shopping on a Budget? Try These 10 Tips! - Topic 42",
          "Quick and Easy Healthy Cooking Tips - Topic 42",
          "Healthy Budget Meals For The Entire Family - Topic 42",
          "A Caregiver’s Guide: Planning Healthy Meals and Well-Balanced Diets - Topic 42",
          "Canola Oil, Olive Oil, Soybean Oil- How to choose Cooking Oil? - Topic 42",
          "Cooking for Health — Keeping It Quick and Easy - Topic 42",
          null
         ],
         "marker": {
          "opacity": 0.5,
          "size": 5
         },
         "mode": "markers+text",
         "name": "42_oil_buy_rice",
         "text": [
          "",
          "",
          "",
          "",
          "",
          "",
          "42_oil_buy_rice"
         ],
         "textfont": {
          "size": 12
         },
         "type": "scattergl",
         "x": [
          9.972065925598145,
          10.041908264160156,
          9.939094543457031,
          9.883345603942871,
          10.144530296325684,
          10.141319274902344,
          10.020377159118652
         ],
         "y": [
          3.422211170196533,
          3.4415793418884277,
          3.4200570583343506,
          3.438924551010132,
          3.5351016521453857,
          3.407532215118408,
          3.4442341327667236
         ]
        },
        {
         "hoverinfo": "text",
         "hovertext": [
          "Claypot Vegetable Brown Rice Recipe - Topic 43",
          "Healthy Lunch-at-Home Ideas for School Children - Topic 43",
          "Kashmiri Pulao - Topic 43",
          "Brown Rice Benefits - Topic 43",
          "Rice Pudding Served With Yoghurt Sauce - Topic 43",
          null
         ],
         "marker": {
          "opacity": 0.5,
          "size": 5
         },
         "mode": "markers+text",
         "name": "43_rice_cooking_cooker",
         "text": [
          "",
          "",
          "",
          "",
          "",
          "43_rice_cooking_cooker"
         ],
         "textfont": {
          "size": 12
         },
         "type": "scattergl",
         "x": [
          11.072269439697266,
          11.055294036865234,
          11.067635536193848,
          11.020193099975586,
          11.05305290222168,
          11.053689956665039
         ],
         "y": [
          3.399467945098877,
          3.382667303085327,
          3.3621325492858887,
          3.398711681365967,
          3.361374616622925,
          3.380870819091797
         ]
        },
        {
         "hoverinfo": "text",
         "hovertext": [
          "I’ve Been Giving My Child Dessert as a Reward. How Do I Undo It? - Topic 44",
          "5 Ways to Help Your 4-Year-Old with Portion Control - Topic 44",
          "4-Year-Old Birthday Party: How to Battle the Extra Calories from the Sweet Treats - Topic 44",
          "Is Your Child Eating Healthy Meals at Preschool? - Topic 44",
          "Raising Healthy Kids - Topic 44",
          null
         ],
         "marker": {
          "opacity": 0.5,
          "size": 5
         },
         "mode": "markers+text",
         "name": "44_meals_eating_healthier",
         "text": [
          "",
          "",
          "",
          "",
          "",
          "44_meals_eating_healthier"
         ],
         "textfont": {
          "size": 12
         },
         "type": "scattergl",
         "x": [
          7.568017482757568,
          7.592199325561523,
          7.514116287231445,
          7.589174270629883,
          7.623779773712158,
          7.577457427978516
         ],
         "y": [
          4.315876483917236,
          4.396415710449219,
          4.318698883056641,
          4.514520645141602,
          4.379011631011963,
          4.384904384613037
         ]
        },
        {
         "hoverinfo": "text",
         "hovertext": [
          "5 Reasons Why Men Suddenly Gain Weight - Topic 45",
          "Do You Know All There Is To Know About Your Belly Fat? - Topic 45",
          "Daily Habits To Help Fight The Belly Bulge - Topic 45",
          "5 Ways to Get Your Dad Bod Back into Shape after ORD - Topic 45",
          "30 Ways to Go from Uncle to Hunkle - Topic 45",
          null
         ],
         "marker": {
          "opacity": 0.5,
          "size": 5
         },
         "mode": "markers+text",
         "name": "45_bros_abdominal_uncle",
         "text": [
          "",
          "",
          "",
          "",
          "",
          "45_bros_abdominal_uncle"
         ],
         "textfont": {
          "size": 12
         },
         "type": "scattergl",
         "x": [
          7.96877908706665,
          8.155250549316406,
          8.030041694641113,
          7.985004425048828,
          7.82312536239624,
          7.992440223693848
         ],
         "y": [
          3.9941375255584717,
          4.02390193939209,
          4.024437427520752,
          4.030577182769775,
          4.0688862800598145,
          4.028388023376465
         ]
        },
        {
         "hoverinfo": "text",
         "hovertext": [
          "What She Gained When She Joined Lose To Win™ - Topic 46",
          "Blogger Kenneth Lee’s Amazing Weight-loss Journey - Topic 46",
          "Healthy Food Choices Is Helping Him Lose The Kilos - Topic 46",
          "She Lost 30 Kilos to Fit Into Her Old Clothes - Topic 46",
          "Losing Weight by Eating Well - One Man's Successful Weight Loss Story - Topic 46",
          null
         ],
         "marker": {
          "opacity": 0.5,
          "size": 5
         },
         "mode": "markers+text",
         "name": "46_ltw_ms_workshops",
         "text": [
          "",
          "",
          "",
          "",
          "",
          "46_ltw_ms_workshops"
         ],
         "textfont": {
          "size": 12
         },
         "type": "scattergl",
         "x": [
          8.016396522521973,
          7.94804573059082,
          8.069746017456055,
          8.0606689453125,
          8.06116771697998,
          8.031205177307129
         ],
         "y": [
          3.801234722137451,
          3.8636488914489746,
          3.786358118057251,
          3.7885446548461914,
          3.7900261878967285,
          3.805962324142456
         ]
        },
        {
         "hoverinfo": "text",
         "hovertext": [
          "7 Fall Prevention Tips for Seniors and Caregivers - Topic 47",
          "ABCs of Falls: Consequences of Falls in the Elderly - Topic 47",
          "Preventing Falls at Home - Topic 47",
          "Falls Prevention Programme - Topic 47",
          null
         ],
         "marker": {
          "opacity": 0.5,
          "size": 5
         },
         "mode": "markers+text",
         "name": "47_falls_falling_risk",
         "text": [
          "",
          "",
          "",
          "",
          "47_falls_falling_risk"
         ],
         "textfont": {
          "size": 12
         },
         "type": "scattergl",
         "x": [
          6.930259704589844,
          6.927188873291016,
          6.869965553283691,
          6.893699645996094,
          6.905278205871582
         ],
         "y": [
          4.002414226531982,
          4.005957126617432,
          3.9705376625061035,
          3.9834303855895996,
          3.9905848503112793
         ]
        },
        {
         "hoverinfo": "text",
         "hovertext": [
          "Daddy, You Are Important - Topic 48",
          "Parenting Tips for a Healthy Relationship with Your Child - Topic 48",
          "Creating a Happy Home for Your Child - Topic 48",
          "Children see, children do - Topic 48",
          null
         ],
         "marker": {
          "opacity": 0.5,
          "size": 5
         },
         "mode": "markers+text",
         "name": "48_fathers_role_important",
         "text": [
          "",
          "",
          "",
          "",
          "48_fathers_role_important"
         ],
         "textfont": {
          "size": 12
         },
         "type": "scattergl",
         "x": [
          5.812580585479736,
          5.783190727233887,
          5.797744274139404,
          5.794466018676758,
          5.796995639801025
         ],
         "y": [
          4.542632579803467,
          4.508242607116699,
          4.534407138824463,
          4.521213054656982,
          4.526623725891113
         ]
        }
       ],
       "layout": {
        "annotations": [
         {
          "showarrow": false,
          "text": "D1",
          "x": 2.109972667694092,
          "y": 5.1054358959198,
          "yshift": 10
         },
         {
          "showarrow": false,
          "text": "D2",
          "x": 7.458129668235779,
          "xshift": 10,
          "y": 7.509964156150818
         }
        ],
        "height": 750,
        "shapes": [
         {
          "line": {
           "color": "#CFD8DC",
           "width": 2
          },
          "type": "line",
          "x0": 7.458129668235779,
          "x1": 7.458129668235779,
          "y0": 2.7009076356887816,
          "y1": 7.509964156150818
         },
         {
          "line": {
           "color": "#9E9E9E",
           "width": 2
          },
          "type": "line",
          "x0": 2.109972667694092,
          "x1": 12.806286668777465,
          "y0": 5.1054358959198,
          "y1": 5.1054358959198
         }
        ],
        "template": {
         "data": {
          "bar": [
           {
            "error_x": {
             "color": "rgb(36,36,36)"
            },
            "error_y": {
             "color": "rgb(36,36,36)"
            },
            "marker": {
             "line": {
              "color": "white",
              "width": 0.5
             },
             "pattern": {
              "fillmode": "overlay",
              "size": 10,
              "solidity": 0.2
             }
            },
            "type": "bar"
           }
          ],
          "barpolar": [
           {
            "marker": {
             "line": {
              "color": "white",
              "width": 0.5
             },
             "pattern": {
              "fillmode": "overlay",
              "size": 10,
              "solidity": 0.2
             }
            },
            "type": "barpolar"
           }
          ],
          "carpet": [
           {
            "aaxis": {
             "endlinecolor": "rgb(36,36,36)",
             "gridcolor": "white",
             "linecolor": "white",
             "minorgridcolor": "white",
             "startlinecolor": "rgb(36,36,36)"
            },
            "baxis": {
             "endlinecolor": "rgb(36,36,36)",
             "gridcolor": "white",
             "linecolor": "white",
             "minorgridcolor": "white",
             "startlinecolor": "rgb(36,36,36)"
            },
            "type": "carpet"
           }
          ],
          "choropleth": [
           {
            "colorbar": {
             "outlinewidth": 1,
             "tickcolor": "rgb(36,36,36)",
             "ticks": "outside"
            },
            "type": "choropleth"
           }
          ],
          "contour": [
           {
            "colorbar": {
             "outlinewidth": 1,
             "tickcolor": "rgb(36,36,36)",
             "ticks": "outside"
            },
            "colorscale": [
             [
              0,
              "#440154"
             ],
             [
              0.1111111111111111,
              "#482878"
             ],
             [
              0.2222222222222222,
              "#3e4989"
             ],
             [
              0.3333333333333333,
              "#31688e"
             ],
             [
              0.4444444444444444,
              "#26828e"
             ],
             [
              0.5555555555555556,
              "#1f9e89"
             ],
             [
              0.6666666666666666,
              "#35b779"
             ],
             [
              0.7777777777777778,
              "#6ece58"
             ],
             [
              0.8888888888888888,
              "#b5de2b"
             ],
             [
              1,
              "#fde725"
             ]
            ],
            "type": "contour"
           }
          ],
          "contourcarpet": [
           {
            "colorbar": {
             "outlinewidth": 1,
             "tickcolor": "rgb(36,36,36)",
             "ticks": "outside"
            },
            "type": "contourcarpet"
           }
          ],
          "heatmap": [
           {
            "colorbar": {
             "outlinewidth": 1,
             "tickcolor": "rgb(36,36,36)",
             "ticks": "outside"
            },
            "colorscale": [
             [
              0,
              "#440154"
             ],
             [
              0.1111111111111111,
              "#482878"
             ],
             [
              0.2222222222222222,
              "#3e4989"
             ],
             [
              0.3333333333333333,
              "#31688e"
             ],
             [
              0.4444444444444444,
              "#26828e"
             ],
             [
              0.5555555555555556,
              "#1f9e89"
             ],
             [
              0.6666666666666666,
              "#35b779"
             ],
             [
              0.7777777777777778,
              "#6ece58"
             ],
             [
              0.8888888888888888,
              "#b5de2b"
             ],
             [
              1,
              "#fde725"
             ]
            ],
            "type": "heatmap"
           }
          ],
          "heatmapgl": [
           {
            "colorbar": {
             "outlinewidth": 1,
             "tickcolor": "rgb(36,36,36)",
             "ticks": "outside"
            },
            "colorscale": [
             [
              0,
              "#440154"
             ],
             [
              0.1111111111111111,
              "#482878"
             ],
             [
              0.2222222222222222,
              "#3e4989"
             ],
             [
              0.3333333333333333,
              "#31688e"
             ],
             [
              0.4444444444444444,
              "#26828e"
             ],
             [
              0.5555555555555556,
              "#1f9e89"
             ],
             [
              0.6666666666666666,
              "#35b779"
             ],
             [
              0.7777777777777778,
              "#6ece58"
             ],
             [
              0.8888888888888888,
              "#b5de2b"
             ],
             [
              1,
              "#fde725"
             ]
            ],
            "type": "heatmapgl"
           }
          ],
          "histogram": [
           {
            "marker": {
             "line": {
              "color": "white",
              "width": 0.6
             }
            },
            "type": "histogram"
           }
          ],
          "histogram2d": [
           {
            "colorbar": {
             "outlinewidth": 1,
             "tickcolor": "rgb(36,36,36)",
             "ticks": "outside"
            },
            "colorscale": [
             [
              0,
              "#440154"
             ],
             [
              0.1111111111111111,
              "#482878"
             ],
             [
              0.2222222222222222,
              "#3e4989"
             ],
             [
              0.3333333333333333,
              "#31688e"
             ],
             [
              0.4444444444444444,
              "#26828e"
             ],
             [
              0.5555555555555556,
              "#1f9e89"
             ],
             [
              0.6666666666666666,
              "#35b779"
             ],
             [
              0.7777777777777778,
              "#6ece58"
             ],
             [
              0.8888888888888888,
              "#b5de2b"
             ],
             [
              1,
              "#fde725"
             ]
            ],
            "type": "histogram2d"
           }
          ],
          "histogram2dcontour": [
           {
            "colorbar": {
             "outlinewidth": 1,
             "tickcolor": "rgb(36,36,36)",
             "ticks": "outside"
            },
            "colorscale": [
             [
              0,
              "#440154"
             ],
             [
              0.1111111111111111,
              "#482878"
             ],
             [
              0.2222222222222222,
              "#3e4989"
             ],
             [
              0.3333333333333333,
              "#31688e"
             ],
             [
              0.4444444444444444,
              "#26828e"
             ],
             [
              0.5555555555555556,
              "#1f9e89"
             ],
             [
              0.6666666666666666,
              "#35b779"
             ],
             [
              0.7777777777777778,
              "#6ece58"
             ],
             [
              0.8888888888888888,
              "#b5de2b"
             ],
             [
              1,
              "#fde725"
             ]
            ],
            "type": "histogram2dcontour"
           }
          ],
          "mesh3d": [
           {
            "colorbar": {
             "outlinewidth": 1,
             "tickcolor": "rgb(36,36,36)",
             "ticks": "outside"
            },
            "type": "mesh3d"
           }
          ],
          "parcoords": [
           {
            "line": {
             "colorbar": {
              "outlinewidth": 1,
              "tickcolor": "rgb(36,36,36)",
              "ticks": "outside"
             }
            },
            "type": "parcoords"
           }
          ],
          "pie": [
           {
            "automargin": true,
            "type": "pie"
           }
          ],
          "scatter": [
           {
            "fillpattern": {
             "fillmode": "overlay",
             "size": 10,
             "solidity": 0.2
            },
            "type": "scatter"
           }
          ],
          "scatter3d": [
           {
            "line": {
             "colorbar": {
              "outlinewidth": 1,
              "tickcolor": "rgb(36,36,36)",
              "ticks": "outside"
             }
            },
            "marker": {
             "colorbar": {
              "outlinewidth": 1,
              "tickcolor": "rgb(36,36,36)",
              "ticks": "outside"
             }
            },
            "type": "scatter3d"
           }
          ],
          "scattercarpet": [
           {
            "marker": {
             "colorbar": {
              "outlinewidth": 1,
              "tickcolor": "rgb(36,36,36)",
              "ticks": "outside"
             }
            },
            "type": "scattercarpet"
           }
          ],
          "scattergeo": [
           {
            "marker": {
             "colorbar": {
              "outlinewidth": 1,
              "tickcolor": "rgb(36,36,36)",
              "ticks": "outside"
             }
            },
            "type": "scattergeo"
           }
          ],
          "scattergl": [
           {
            "marker": {
             "colorbar": {
              "outlinewidth": 1,
              "tickcolor": "rgb(36,36,36)",
              "ticks": "outside"
             }
            },
            "type": "scattergl"
           }
          ],
          "scattermapbox": [
           {
            "marker": {
             "colorbar": {
              "outlinewidth": 1,
              "tickcolor": "rgb(36,36,36)",
              "ticks": "outside"
             }
            },
            "type": "scattermapbox"
           }
          ],
          "scatterpolar": [
           {
            "marker": {
             "colorbar": {
              "outlinewidth": 1,
              "tickcolor": "rgb(36,36,36)",
              "ticks": "outside"
             }
            },
            "type": "scatterpolar"
           }
          ],
          "scatterpolargl": [
           {
            "marker": {
             "colorbar": {
              "outlinewidth": 1,
              "tickcolor": "rgb(36,36,36)",
              "ticks": "outside"
             }
            },
            "type": "scatterpolargl"
           }
          ],
          "scatterternary": [
           {
            "marker": {
             "colorbar": {
              "outlinewidth": 1,
              "tickcolor": "rgb(36,36,36)",
              "ticks": "outside"
             }
            },
            "type": "scatterternary"
           }
          ],
          "surface": [
           {
            "colorbar": {
             "outlinewidth": 1,
             "tickcolor": "rgb(36,36,36)",
             "ticks": "outside"
            },
            "colorscale": [
             [
              0,
              "#440154"
             ],
             [
              0.1111111111111111,
              "#482878"
             ],
             [
              0.2222222222222222,
              "#3e4989"
             ],
             [
              0.3333333333333333,
              "#31688e"
             ],
             [
              0.4444444444444444,
              "#26828e"
             ],
             [
              0.5555555555555556,
              "#1f9e89"
             ],
             [
              0.6666666666666666,
              "#35b779"
             ],
             [
              0.7777777777777778,
              "#6ece58"
             ],
             [
              0.8888888888888888,
              "#b5de2b"
             ],
             [
              1,
              "#fde725"
             ]
            ],
            "type": "surface"
           }
          ],
          "table": [
           {
            "cells": {
             "fill": {
              "color": "rgb(237,237,237)"
             },
             "line": {
              "color": "white"
             }
            },
            "header": {
             "fill": {
              "color": "rgb(217,217,217)"
             },
             "line": {
              "color": "white"
             }
            },
            "type": "table"
           }
          ]
         },
         "layout": {
          "annotationdefaults": {
           "arrowhead": 0,
           "arrowwidth": 1
          },
          "autotypenumbers": "strict",
          "coloraxis": {
           "colorbar": {
            "outlinewidth": 1,
            "tickcolor": "rgb(36,36,36)",
            "ticks": "outside"
           }
          },
          "colorscale": {
           "diverging": [
            [
             0,
             "rgb(103,0,31)"
            ],
            [
             0.1,
             "rgb(178,24,43)"
            ],
            [
             0.2,
             "rgb(214,96,77)"
            ],
            [
             0.3,
             "rgb(244,165,130)"
            ],
            [
             0.4,
             "rgb(253,219,199)"
            ],
            [
             0.5,
             "rgb(247,247,247)"
            ],
            [
             0.6,
             "rgb(209,229,240)"
            ],
            [
             0.7,
             "rgb(146,197,222)"
            ],
            [
             0.8,
             "rgb(67,147,195)"
            ],
            [
             0.9,
             "rgb(33,102,172)"
            ],
            [
             1,
             "rgb(5,48,97)"
            ]
           ],
           "sequential": [
            [
             0,
             "#440154"
            ],
            [
             0.1111111111111111,
             "#482878"
            ],
            [
             0.2222222222222222,
             "#3e4989"
            ],
            [
             0.3333333333333333,
             "#31688e"
            ],
            [
             0.4444444444444444,
             "#26828e"
            ],
            [
             0.5555555555555556,
             "#1f9e89"
            ],
            [
             0.6666666666666666,
             "#35b779"
            ],
            [
             0.7777777777777778,
             "#6ece58"
            ],
            [
             0.8888888888888888,
             "#b5de2b"
            ],
            [
             1,
             "#fde725"
            ]
           ],
           "sequentialminus": [
            [
             0,
             "#440154"
            ],
            [
             0.1111111111111111,
             "#482878"
            ],
            [
             0.2222222222222222,
             "#3e4989"
            ],
            [
             0.3333333333333333,
             "#31688e"
            ],
            [
             0.4444444444444444,
             "#26828e"
            ],
            [
             0.5555555555555556,
             "#1f9e89"
            ],
            [
             0.6666666666666666,
             "#35b779"
            ],
            [
             0.7777777777777778,
             "#6ece58"
            ],
            [
             0.8888888888888888,
             "#b5de2b"
            ],
            [
             1,
             "#fde725"
            ]
           ]
          },
          "colorway": [
           "#1F77B4",
           "#FF7F0E",
           "#2CA02C",
           "#D62728",
           "#9467BD",
           "#8C564B",
           "#E377C2",
           "#7F7F7F",
           "#BCBD22",
           "#17BECF"
          ],
          "font": {
           "color": "rgb(36,36,36)"
          },
          "geo": {
           "bgcolor": "white",
           "lakecolor": "white",
           "landcolor": "white",
           "showlakes": true,
           "showland": true,
           "subunitcolor": "white"
          },
          "hoverlabel": {
           "align": "left"
          },
          "hovermode": "closest",
          "mapbox": {
           "style": "light"
          },
          "paper_bgcolor": "white",
          "plot_bgcolor": "white",
          "polar": {
           "angularaxis": {
            "gridcolor": "rgb(232,232,232)",
            "linecolor": "rgb(36,36,36)",
            "showgrid": false,
            "showline": true,
            "ticks": "outside"
           },
           "bgcolor": "white",
           "radialaxis": {
            "gridcolor": "rgb(232,232,232)",
            "linecolor": "rgb(36,36,36)",
            "showgrid": false,
            "showline": true,
            "ticks": "outside"
           }
          },
          "scene": {
           "xaxis": {
            "backgroundcolor": "white",
            "gridcolor": "rgb(232,232,232)",
            "gridwidth": 2,
            "linecolor": "rgb(36,36,36)",
            "showbackground": true,
            "showgrid": false,
            "showline": true,
            "ticks": "outside",
            "zeroline": false,
            "zerolinecolor": "rgb(36,36,36)"
           },
           "yaxis": {
            "backgroundcolor": "white",
            "gridcolor": "rgb(232,232,232)",
            "gridwidth": 2,
            "linecolor": "rgb(36,36,36)",
            "showbackground": true,
            "showgrid": false,
            "showline": true,
            "ticks": "outside",
            "zeroline": false,
            "zerolinecolor": "rgb(36,36,36)"
           },
           "zaxis": {
            "backgroundcolor": "white",
            "gridcolor": "rgb(232,232,232)",
            "gridwidth": 2,
            "linecolor": "rgb(36,36,36)",
            "showbackground": true,
            "showgrid": false,
            "showline": true,
            "ticks": "outside",
            "zeroline": false,
            "zerolinecolor": "rgb(36,36,36)"
           }
          },
          "shapedefaults": {
           "fillcolor": "black",
           "line": {
            "width": 0
           },
           "opacity": 0.3
          },
          "ternary": {
           "aaxis": {
            "gridcolor": "rgb(232,232,232)",
            "linecolor": "rgb(36,36,36)",
            "showgrid": false,
            "showline": true,
            "ticks": "outside"
           },
           "baxis": {
            "gridcolor": "rgb(232,232,232)",
            "linecolor": "rgb(36,36,36)",
            "showgrid": false,
            "showline": true,
            "ticks": "outside"
           },
           "bgcolor": "white",
           "caxis": {
            "gridcolor": "rgb(232,232,232)",
            "linecolor": "rgb(36,36,36)",
            "showgrid": false,
            "showline": true,
            "ticks": "outside"
           }
          },
          "title": {
           "x": 0.05
          },
          "xaxis": {
           "automargin": true,
           "gridcolor": "rgb(232,232,232)",
           "linecolor": "rgb(36,36,36)",
           "showgrid": false,
           "showline": true,
           "ticks": "outside",
           "title": {
            "standoff": 15
           },
           "zeroline": false,
           "zerolinecolor": "rgb(36,36,36)"
          },
          "yaxis": {
           "automargin": true,
           "gridcolor": "rgb(232,232,232)",
           "linecolor": "rgb(36,36,36)",
           "showgrid": false,
           "showline": true,
           "ticks": "outside",
           "title": {
            "standoff": 15
           },
           "zeroline": false,
           "zerolinecolor": "rgb(36,36,36)"
          }
         }
        },
        "title": {
         "font": {
          "color": "Black",
          "size": 22
         },
         "text": "Top 50 Topics",
         "x": 0.5,
         "xanchor": "center",
         "yanchor": "top"
        },
        "width": 1200,
        "xaxis": {
         "visible": false
        },
        "yaxis": {
         "visible": false
        }
       }
      }
     },
     "metadata": {},
     "output_type": "display_data"
    },
    {
     "data": {
      "application/vnd.plotly.v1+json": {
       "config": {
        "plotlyServerURL": "https://plot.ly"
       },
       "data": [
        {
         "marker": {
          "color": "#D55E00"
         },
         "orientation": "h",
         "type": "bar",
         "x": [
          0.022696029573619103,
          0.027004189240646768,
          0.039042531608098306,
          0.04074503511429605,
          0.07336807781286218
         ],
         "xaxis": "x",
         "y": [
          "smokers  ",
          "cigarette  ",
          "quitting  ",
          "nicotine  ",
          "smoking  "
         ],
         "yaxis": "y"
        },
        {
         "marker": {
          "color": "#0072B2"
         },
         "orientation": "h",
         "type": "bar",
         "x": [
          0.014554140094336598,
          0.015589264874022455,
          0.01858442141937428,
          0.028210264134818357,
          0.062057125700772174
         ],
         "xaxis": "x2",
         "y": [
          "bleeding  ",
          "pregnant  ",
          "womb  ",
          "weeks  ",
          "pregnancy  "
         ],
         "yaxis": "y2"
        },
        {
         "marker": {
          "color": "#CC79A7"
         },
         "orientation": "h",
         "type": "bar",
         "x": [
          0.022085441119766246,
          0.023400143859999053,
          0.024043542607100836,
          0.02466716496378302,
          0.03582645737581763
         ],
         "xaxis": "x3",
         "y": [
          "screen  ",
          "myopia  ",
          "lenses  ",
          "eyes  ",
          "eye  "
         ],
         "yaxis": "y3"
        },
        {
         "marker": {
          "color": "#E69F00"
         },
         "orientation": "h",
         "type": "bar",
         "x": [
          0.02711455251191122,
          0.03902101535110716,
          0.04087258707568318,
          0.0847262236692095,
          0.09968087587892131
         ],
         "xaxis": "x4",
         "y": [
          "brushing  ",
          "toothpaste  ",
          "dentist  ",
          "dental  ",
          "teeth  "
         ],
         "yaxis": "y4"
        },
        {
         "marker": {
          "color": "#56B4E9"
         },
         "orientation": "h",
         "type": "bar",
         "x": [
          0.025988293118032017,
          0.02687865469315009,
          0.02862006709794166,
          0.029619706832121586,
          0.06690603788519671
         ],
         "xaxis": "x5",
         "y": [
          "vaccines  ",
          "mumps  ",
          "infectious  ",
          "diseases  ",
          "flu  "
         ],
         "yaxis": "y5"
        },
        {
         "marker": {
          "color": "#009E73"
         },
         "orientation": "h",
         "type": "bar",
         "x": [
          0.018244664867046317,
          0.02674311307627439,
          0.043592210358008754,
          0.06355320475646535,
          0.1256774035537073
         ],
         "xaxis": "x6",
         "y": [
          "control  ",
          "risk  ",
          "type  ",
          "glucose  ",
          "diabetes  "
         ],
         "yaxis": "y6"
        },
        {
         "marker": {
          "color": "#F0E442"
         },
         "orientation": "h",
         "type": "bar",
         "x": [
          0.01654558889795779,
          0.020254400065926586,
          0.02411629539950387,
          0.02640991223035103,
          0.029579834640983085
         ],
         "xaxis": "x7",
         "y": [
          "tracker  ",
          "step  ",
          "activity  ",
          "fitness  ",
          "exercise  "
         ],
         "yaxis": "y7"
        },
        {
         "marker": {
          "color": "#D55E00"
         },
         "orientation": "h",
         "type": "bar",
         "x": [
          0.02324007366631569,
          0.023287203777285735,
          0.023369374416841546,
          0.025471670801877844,
          0.048987341024396655
         ],
         "xaxis": "x8",
         "y": [
          "little  ",
          "solids  ",
          "nutrition  ",
          "formula  ",
          "milk  "
         ],
         "yaxis": "y8"
        },
        {
         "marker": {
          "color": "#0072B2"
         },
         "orientation": "h",
         "type": "bar",
         "x": [
          0.021410754389772964,
          0.023000478906378165,
          0.023832411562960537,
          0.02966702052900372,
          0.03868852062960262
         ],
         "xaxis": "x9",
         "y": [
          "rice  ",
          "soup  ",
          "sodium  ",
          "healthier  ",
          "hawker  "
         ],
         "yaxis": "y9"
        },
        {
         "marker": {
          "color": "#CC79A7"
         },
         "orientation": "h",
         "type": "bar",
         "x": [
          0.022623574420312598,
          0.02756526538336464,
          0.03132030243953818,
          0.03554402620944911,
          0.0408732768230009
         ],
         "xaxis": "x10",
         "y": [
          "moderate  ",
          "heart  ",
          "aerobic  ",
          "exercise  ",
          "intensity  "
         ],
         "yaxis": "y10"
        },
        {
         "marker": {
          "color": "#E69F00"
         },
         "orientation": "h",
         "type": "bar",
         "x": [
          0.02276114710556502,
          0.02552771670771756,
          0.02871588516677351,
          0.029622058862318442,
          0.035500516390562696
         ],
         "xaxis": "x11",
         "y": [
          "confidence  ",
          "positive  ",
          "children  ",
          "esteem  ",
          "self  "
         ],
         "yaxis": "y11"
        },
        {
         "marker": {
          "color": "#56B4E9"
         },
         "orientation": "h",
         "type": "bar",
         "x": [
          0.024484319697024772,
          0.03129314554035991,
          0.03233608646059467,
          0.09737812683775691,
          0.14491844964123085
         ],
         "xaxis": "x12",
         "y": [
          "ml  ",
          "binge  ",
          "alcoholic  ",
          "drinking  ",
          "alcohol  "
         ],
         "yaxis": "y12"
        },
        {
         "marker": {
          "color": "#009E73"
         },
         "orientation": "h",
         "type": "bar",
         "x": [
          0.01479849092232521,
          0.016256861758392426,
          0.019226366654605098,
          0.024487813621293392,
          0.12219040075890693
         ],
         "xaxis": "x13",
         "y": [
          "healthy  ",
          "memory  ",
          "care  ",
          "brain  ",
          "dementia  "
         ],
         "yaxis": "y13"
        },
        {
         "marker": {
          "color": "#F0E442"
         },
         "orientation": "h",
         "type": "bar",
         "x": [
          0.017848171487778283,
          0.021437597197042156,
          0.027823843747358853,
          0.02787233900166373,
          0.03996132958150017
         ],
         "xaxis": "x14",
         "y": [
          "exercises  ",
          "workouts  ",
          "fitness  ",
          "workout  ",
          "exercise  "
         ],
         "yaxis": "y14"
        },
        {
         "marker": {
          "color": "#D55E00"
         },
         "orientation": "h",
         "type": "bar",
         "x": [
          0.026025523410394755,
          0.027197040064044557,
          0.03149792108029048,
          0.05015945489322225,
          0.05161423549402436
         ],
         "xaxis": "x15",
         "y": [
          "wholegrains  ",
          "vegetables  ",
          "healthy  ",
          "plate  ",
          "quarter  "
         ],
         "yaxis": "y15"
        },
        {
         "marker": {
          "color": "#0072B2"
         },
         "orientation": "h",
         "type": "bar",
         "x": [
          0.021281517128662202,
          0.022593862544990902,
          0.023191679858474534,
          0.025066091931951254,
          0.02975393420528272
         ],
         "xaxis": "x16",
         "y": [
          "gain  ",
          "healthy  ",
          "calorie  ",
          "metabolism  ",
          "bmi  "
         ],
         "yaxis": "y16"
        },
        {
         "marker": {
          "color": "#CC79A7"
         },
         "orientation": "h",
         "type": "bar",
         "x": [
          0.01816664973173564,
          0.019859283277668782,
          0.027781257215121844,
          0.03313642194529999,
          0.12961634661594063
         ],
         "xaxis": "x17",
         "y": [
          "cot  ",
          "blanket  ",
          "babys  ",
          "bedtime  ",
          "sleep  "
         ],
         "yaxis": "y17"
        },
        {
         "marker": {
          "color": "#E69F00"
         },
         "orientation": "h",
         "type": "bar",
         "x": [
          0.025195288786335802,
          0.02652967846377089,
          0.028335339763146627,
          0.03956109989512021,
          0.05026569015411818
         ],
         "xaxis": "x18",
         "y": [
          "bone  ",
          "diet  ",
          "vitamin  ",
          "calcium  ",
          "protein  "
         ],
         "yaxis": "y18"
        },
        {
         "marker": {
          "color": "#56B4E9"
         },
         "orientation": "h",
         "type": "bar",
         "x": [
          0.0357499723411616,
          0.048165294540243216,
          0.05276068149742388,
          0.05801348234227607,
          0.07275837190817407
         ],
         "xaxis": "x19",
         "y": [
          "seasoning  ",
          "sauce  ",
          "chopped  ",
          "stock  ",
          "tbsp  "
         ],
         "yaxis": "y19"
        },
        {
         "marker": {
          "color": "#009E73"
         },
         "orientation": "h",
         "type": "bar",
         "x": [
          0.02349515495897867,
          0.026826572319178652,
          0.03522999630296042,
          0.036961933669917915,
          0.0610345573512093
         ],
         "xaxis": "x20",
         "y": [
          "hmsp  ",
          "primary  ",
          "canteen  ",
          "screening  ",
          "students  "
         ],
         "yaxis": "y20"
        },
        {
         "marker": {
          "color": "#F0E442"
         },
         "orientation": "h",
         "type": "bar",
         "x": [
          0.021568755324074974,
          0.024307786824984245,
          0.03981530924317837,
          0.08201380335239689,
          0.14653527434434888
         ],
         "xaxis": "x21",
         "y": [
          "contains  ",
          "teas  ",
          "drinks  ",
          "tea  ",
          "sugar  "
         ],
         "yaxis": "y21"
        },
        {
         "marker": {
          "color": "#D55E00"
         },
         "orientation": "h",
         "type": "bar",
         "x": [
          0.02751012565172258,
          0.029786900964787547,
          0.03072370258223864,
          0.04850934073276252,
          0.05086787680746779
         ],
         "xaxis": "x22",
         "y": [
          "bahru  ",
          "singapores  ",
          "tiong  ",
          "park  ",
          "trail  "
         ],
         "yaxis": "y22"
        },
        {
         "marker": {
          "color": "#0072B2"
         },
         "orientation": "h",
         "type": "bar",
         "x": [
          0.027796008530826907,
          0.02819679211549057,
          0.03438605998673819,
          0.040241034063816086,
          0.04520164836384571
         ],
         "xaxis": "x23",
         "y": [
          "safe  ",
          "children  ",
          "prevent  ",
          "safety  ",
          "toys  "
         ],
         "yaxis": "y23"
        },
        {
         "marker": {
          "color": "#CC79A7"
         },
         "orientation": "h",
         "type": "bar",
         "x": [
          0.017783328753030053,
          0.017922881555176597,
          0.018979600321547163,
          0.02387806912638822,
          0.03899093920162349
         ],
         "xaxis": "x24",
         "y": [
          "eating  ",
          "ice  ",
          "haem  ",
          "drinks  ",
          "iron  "
         ],
         "yaxis": "y24"
        },
        {
         "marker": {
          "color": "#E69F00"
         },
         "orientation": "h",
         "type": "bar",
         "x": [
          0.03204167268034959,
          0.0412478307540371,
          0.04947491900564841,
          0.05057493922980921,
          0.06914581367856064
         ],
         "xaxis": "x25",
         "y": [
          "sauce  ",
          "chicken  ",
          "recipe  ",
          "sliced  ",
          "tbsp  "
         ],
         "yaxis": "y25"
        },
        {
         "marker": {
          "color": "#56B4E9"
         },
         "orientation": "h",
         "type": "bar",
         "x": [
          0.029485587135831423,
          0.03652447058840899,
          0.03909562217642051,
          0.05176160008604925,
          0.05328500970884316
         ],
         "xaxis": "x26",
         "y": [
          "common  ",
          "antibiotics  ",
          "allergic  ",
          "allergy  ",
          "allergies  "
         ],
         "yaxis": "y26"
        },
        {
         "marker": {
          "color": "#009E73"
         },
         "orientation": "h",
         "type": "bar",
         "x": [
          0.024704441659477373,
          0.02745169616196959,
          0.02854524274217305,
          0.03346923179888804,
          0.03347673562431982
         ],
         "xaxis": "x27",
         "y": [
          "fruit  ",
          "bento  ",
          "healthy  ",
          "kids  ",
          "food  "
         ],
         "yaxis": "y27"
        },
        {
         "marker": {
          "color": "#F0E442"
         },
         "orientation": "h",
         "type": "bar",
         "x": [
          0.039404130465637816,
          0.041952430412657345,
          0.04374313427673298,
          0.04394499759230889,
          0.09058788705697739
         ],
         "xaxis": "x28",
         "y": [
          "fibre  ",
          "organic  ",
          "fruits  ",
          "collagen  ",
          "vegetables  "
         ],
         "yaxis": "y28"
        },
        {
         "marker": {
          "color": "#D55E00"
         },
         "orientation": "h",
         "type": "bar",
         "x": [
          0.028481404916106443,
          0.030579976798900864,
          0.030942972656455604,
          0.03411251886236657,
          0.03511327549071807
         ],
         "xaxis": "x29",
         "y": [
          "nams  ",
          "addictions  ",
          "illegal  ",
          "substances  ",
          "cnb  "
         ],
         "yaxis": "y29"
        },
        {
         "marker": {
          "color": "#0072B2"
         },
         "orientation": "h",
         "type": "bar",
         "x": [
          0.029828460143572027,
          0.03975205317057143,
          0.04327504004624037,
          0.06933831403777291,
          0.0946971428033387
         ],
         "xaxis": "x30",
         "y": [
          "healthier  ",
          "rice  ",
          "symbol  ",
          "wholegrains  ",
          "wholegrain  "
         ],
         "yaxis": "y30"
        },
        {
         "marker": {
          "color": "#CC79A7"
         },
         "orientation": "h",
         "type": "bar",
         "x": [
          0.033069338931651676,
          0.03427931041077099,
          0.034299956381584035,
          0.03706102783218218,
          0.059359983164552266
         ],
         "xaxis": "x31",
         "y": [
          "intelligence  ",
          "esteem  ",
          "self  ",
          "social  ",
          "resilience  "
         ],
         "yaxis": "y31"
        },
        {
         "marker": {
          "color": "#E69F00"
         },
         "orientation": "h",
         "type": "bar",
         "x": [
          0.020979380814069887,
          0.023734499496217813,
          0.02835420352447372,
          0.04884816716478767,
          0.07846724568242577
         ],
         "xaxis": "x32",
         "y": [
          "toddlers  ",
          "developmental  ",
          "objects  ",
          "infant  ",
          "toddler  "
         ],
         "yaxis": "y32"
        },
        {
         "marker": {
          "color": "#56B4E9"
         },
         "orientation": "h",
         "type": "bar",
         "x": [
          0.04111444627397537,
          0.04331608393547961,
          0.047495439137834404,
          0.06955643545227229,
          0.07601344164126013
         ],
         "xaxis": "x33",
         "y": [
          "height  ",
          "age  ",
          "children  ",
          "percentile  ",
          "bmi  "
         ],
         "yaxis": "y33"
        },
        {
         "marker": {
          "color": "#009E73"
         },
         "orientation": "h",
         "type": "bar",
         "x": [
          0.023802031448999096,
          0.024526642320047982,
          0.024625185496775857,
          0.05712579543269798,
          0.06971506818573941
         ],
         "xaxis": "x34",
         "y": [
          "attitudes  ",
          "esteem  ",
          "relationship  ",
          "teen  ",
          "sexuality  "
         ],
         "yaxis": "y34"
        },
        {
         "marker": {
          "color": "#F0E442"
         },
         "orientation": "h",
         "type": "bar",
         "x": [
          0.019278596249333334,
          0.02088964316090951,
          0.03112082531780259,
          0.04205501664261114,
          0.043804964712952914
         ],
         "xaxis": "x35",
         "y": [
          "snacks  ",
          "meals  ",
          "eating  ",
          "meal  ",
          "food  "
         ],
         "yaxis": "y35"
        },
        {
         "marker": {
          "color": "#D55E00"
         },
         "orientation": "h",
         "type": "bar",
         "x": [
          0.025945974054095097,
          0.0315735478115945,
          0.03614136176125923,
          0.03710465338313148,
          0.062339836320266226
         ],
         "xaxis": "x36",
         "y": [
          "rolls  ",
          "festive  ",
          "healthier  ",
          "lunar  ",
          "chinese  "
         ],
         "yaxis": "y36"
        },
        {
         "marker": {
          "color": "#0072B2"
         },
         "orientation": "h",
         "type": "bar",
         "x": [
          0.019330544980660398,
          0.020567717847202287,
          0.03490428360322257,
          0.036787544957537645,
          0.05242927075429293
         ],
         "xaxis": "x37",
         "y": [
          "relax  ",
          "present  ",
          "mindfulness  ",
          "mind  ",
          "stress  "
         ],
         "yaxis": "y37"
        },
        {
         "marker": {
          "color": "#CC79A7"
         },
         "orientation": "h",
         "type": "bar",
         "x": [
          0.022646560009147346,
          0.03606020529969286,
          0.036102863190508885,
          0.03740738434774088,
          0.03981085189192258
         ],
         "xaxis": "x38",
         "y": [
          "fat  ",
          "festive  ",
          "deepavali  ",
          "healthier  ",
          "christmas  "
         ],
         "yaxis": "y38"
        },
        {
         "marker": {
          "color": "#E69F00"
         },
         "orientation": "h",
         "type": "bar",
         "x": [
          0.04795945959469129,
          0.048096488488762704,
          0.05307176965850508,
          0.06387624835556174,
          0.06829230054118925
         ],
         "xaxis": "x39",
         "y": [
          "muscles  ",
          "legs  ",
          "arms  ",
          "position  ",
          "core  "
         ],
         "yaxis": "y39"
        },
        {
         "marker": {
          "color": "#56B4E9"
         },
         "orientation": "h",
         "type": "bar",
         "x": [
          0.04179174542484814,
          0.04203931702510233,
          0.04600956592171585,
          0.06855138722968004,
          0.07648359400722125
         ],
         "xaxis": "x40",
         "y": [
          "meat  ",
          "carbs  ",
          "glucose  ",
          "gi  ",
          "cholesterol  "
         ],
         "yaxis": "y40"
        },
        {
         "marker": {
          "color": "#009E73"
         },
         "orientation": "h",
         "type": "bar",
         "x": [
          0.030137020343028804,
          0.030485422831732063,
          0.09016947872784538,
          0.09347691453327803,
          0.11088729638969784
         ],
         "xaxis": "x41",
         "y": [
          "hiv  ",
          "stigma  ",
          "mental  ",
          "illness  ",
          "depression  "
         ],
         "yaxis": "y41"
        },
        {
         "marker": {
          "color": "#F0E442"
         },
         "orientation": "h",
         "type": "bar",
         "x": [
          0.02736222073230209,
          0.04207455252015421,
          0.04554124241991449,
          0.057843845281212045,
          0.0720240696440647
         ],
         "xaxis": "x42",
         "y": [
          "feeding  ",
          "spit  ",
          "diarrhoea  ",
          "colic  ",
          "crying  "
         ],
         "yaxis": "y42"
        },
        {
         "marker": {
          "color": "#D55E00"
         },
         "orientation": "h",
         "type": "bar",
         "x": [
          0.021409418642942032,
          0.02300194947032414,
          0.029995436088472802,
          0.03974323331198258,
          0.05100649640960876
         ],
         "xaxis": "x43",
         "y": [
          "fat  ",
          "meals  ",
          "rice  ",
          "buy  ",
          "oil  "
         ],
         "yaxis": "y43"
        },
        {
         "marker": {
          "color": "#0072B2"
         },
         "orientation": "h",
         "type": "bar",
         "x": [
          0.03208132074871075,
          0.04012251201512725,
          0.04491384904819506,
          0.05817545583525336,
          0.1874292255570904
         ],
         "xaxis": "x44",
         "y": [
          "raisins  ",
          "cooked  ",
          "cooker  ",
          "cooking  ",
          "rice  "
         ],
         "yaxis": "y44"
        },
        {
         "marker": {
          "color": "#CC79A7"
         },
         "orientation": "h",
         "type": "bar",
         "x": [
          0.022089594923394913,
          0.02239981557481413,
          0.02297970520732715,
          0.025374954732146595,
          0.03922697729428378
         ],
         "xaxis": "x45",
         "y": [
          "plate  ",
          "snacks  ",
          "healthier  ",
          "eating  ",
          "meals  "
         ],
         "yaxis": "y45"
        },
        {
         "marker": {
          "color": "#E69F00"
         },
         "orientation": "h",
         "type": "bar",
         "x": [
          0.021971105952922242,
          0.022239178003178678,
          0.029585454577520202,
          0.0350823774165564,
          0.03875105874455984
         ],
         "xaxis": "x46",
         "y": [
          "bod  ",
          "waist  ",
          "uncle  ",
          "abdominal  ",
          "bros  "
         ],
         "yaxis": "y46"
        },
        {
         "marker": {
          "color": "#56B4E9"
         },
         "orientation": "h",
         "type": "bar",
         "x": [
          0.025801782528953137,
          0.03006728940901098,
          0.03215599407359983,
          0.04000385615107197,
          0.07733599166449769
         ],
         "xaxis": "x47",
         "y": [
          "yeo  ",
          "soh  ",
          "workshops  ",
          "ms  ",
          "ltw  "
         ],
         "yaxis": "y47"
        },
        {
         "marker": {
          "color": "#009E73"
         },
         "orientation": "h",
         "type": "bar",
         "x": [
          0.04331436577980644,
          0.049072486936152404,
          0.051027128161962775,
          0.0827417238712664,
          0.15857432094208426
         ],
         "xaxis": "x48",
         "y": [
          "consequences  ",
          "fractures  ",
          "risk  ",
          "falling  ",
          "falls  "
         ],
         "yaxis": "y48"
        },
        {
         "marker": {
          "color": "#F0E442"
         },
         "orientation": "h",
         "type": "bar",
         "x": [
          0.02562985666028854,
          0.029789150451120898,
          0.03785622909953567,
          0.04702771356829211,
          0.05785115247158236
         ],
         "xaxis": "x49",
         "y": [
          "bonding  ",
          "values  ",
          "important  ",
          "role  ",
          "fathers  "
         ],
         "yaxis": "y49"
        },
        {
         "marker": {
          "color": "#D55E00"
         },
         "orientation": "h",
         "type": "bar",
         "x": [
          0.020864641713995394,
          0.02144660468513756,
          0.02650016356759012,
          0.030670808477660707,
          0.03713311435123191
         ],
         "xaxis": "x50",
         "y": [
          "desk  ",
          "workspace  ",
          "sit  ",
          "chair  ",
          "sedentary  "
         ],
         "yaxis": "y50"
        }
       ],
       "layout": {
        "annotations": [
         {
          "font": {
           "size": 16
          },
          "showarrow": false,
          "text": "Topic 0",
          "x": 0.0875,
          "xanchor": "center",
          "xref": "paper",
          "y": 0.9999999999999999,
          "yanchor": "bottom",
          "yref": "paper"
         },
         {
          "font": {
           "size": 16
          },
          "showarrow": false,
          "text": "Topic 1",
          "x": 0.36250000000000004,
          "xanchor": "center",
          "xref": "paper",
          "y": 0.9999999999999999,
          "yanchor": "bottom",
          "yref": "paper"
         },
         {
          "font": {
           "size": 16
          },
          "showarrow": false,
          "text": "Topic 2",
          "x": 0.6375000000000001,
          "xanchor": "center",
          "xref": "paper",
          "y": 0.9999999999999999,
          "yanchor": "bottom",
          "yref": "paper"
         },
         {
          "font": {
           "size": 16
          },
          "showarrow": false,
          "text": "Topic 3",
          "x": 0.9125,
          "xanchor": "center",
          "xref": "paper",
          "y": 0.9999999999999999,
          "yanchor": "bottom",
          "yref": "paper"
         },
         {
          "font": {
           "size": 16
          },
          "showarrow": false,
          "text": "Topic 4",
          "x": 0.0875,
          "xanchor": "center",
          "xref": "paper",
          "y": 0.9207100591715975,
          "yanchor": "bottom",
          "yref": "paper"
         },
         {
          "font": {
           "size": 16
          },
          "showarrow": false,
          "text": "Topic 5",
          "x": 0.36250000000000004,
          "xanchor": "center",
          "xref": "paper",
          "y": 0.9207100591715975,
          "yanchor": "bottom",
          "yref": "paper"
         },
         {
          "font": {
           "size": 16
          },
          "showarrow": false,
          "text": "Topic 6",
          "x": 0.6375000000000001,
          "xanchor": "center",
          "xref": "paper",
          "y": 0.9207100591715975,
          "yanchor": "bottom",
          "yref": "paper"
         },
         {
          "font": {
           "size": 16
          },
          "showarrow": false,
          "text": "Topic 7",
          "x": 0.9125,
          "xanchor": "center",
          "xref": "paper",
          "y": 0.9207100591715975,
          "yanchor": "bottom",
          "yref": "paper"
         },
         {
          "font": {
           "size": 16
          },
          "showarrow": false,
          "text": "Topic 8",
          "x": 0.0875,
          "xanchor": "center",
          "xref": "paper",
          "y": 0.8414201183431951,
          "yanchor": "bottom",
          "yref": "paper"
         },
         {
          "font": {
           "size": 16
          },
          "showarrow": false,
          "text": "Topic 9",
          "x": 0.36250000000000004,
          "xanchor": "center",
          "xref": "paper",
          "y": 0.8414201183431951,
          "yanchor": "bottom",
          "yref": "paper"
         },
         {
          "font": {
           "size": 16
          },
          "showarrow": false,
          "text": "Topic 10",
          "x": 0.6375000000000001,
          "xanchor": "center",
          "xref": "paper",
          "y": 0.8414201183431951,
          "yanchor": "bottom",
          "yref": "paper"
         },
         {
          "font": {
           "size": 16
          },
          "showarrow": false,
          "text": "Topic 11",
          "x": 0.9125,
          "xanchor": "center",
          "xref": "paper",
          "y": 0.8414201183431951,
          "yanchor": "bottom",
          "yref": "paper"
         },
         {
          "font": {
           "size": 16
          },
          "showarrow": false,
          "text": "Topic 12",
          "x": 0.0875,
          "xanchor": "center",
          "xref": "paper",
          "y": 0.7621301775147928,
          "yanchor": "bottom",
          "yref": "paper"
         },
         {
          "font": {
           "size": 16
          },
          "showarrow": false,
          "text": "Topic 13",
          "x": 0.36250000000000004,
          "xanchor": "center",
          "xref": "paper",
          "y": 0.7621301775147928,
          "yanchor": "bottom",
          "yref": "paper"
         },
         {
          "font": {
           "size": 16
          },
          "showarrow": false,
          "text": "Topic 14",
          "x": 0.6375000000000001,
          "xanchor": "center",
          "xref": "paper",
          "y": 0.7621301775147928,
          "yanchor": "bottom",
          "yref": "paper"
         },
         {
          "font": {
           "size": 16
          },
          "showarrow": false,
          "text": "Topic 15",
          "x": 0.9125,
          "xanchor": "center",
          "xref": "paper",
          "y": 0.7621301775147928,
          "yanchor": "bottom",
          "yref": "paper"
         },
         {
          "font": {
           "size": 16
          },
          "showarrow": false,
          "text": "Topic 16",
          "x": 0.0875,
          "xanchor": "center",
          "xref": "paper",
          "y": 0.6828402366863904,
          "yanchor": "bottom",
          "yref": "paper"
         },
         {
          "font": {
           "size": 16
          },
          "showarrow": false,
          "text": "Topic 17",
          "x": 0.36250000000000004,
          "xanchor": "center",
          "xref": "paper",
          "y": 0.6828402366863904,
          "yanchor": "bottom",
          "yref": "paper"
         },
         {
          "font": {
           "size": 16
          },
          "showarrow": false,
          "text": "Topic 18",
          "x": 0.6375000000000001,
          "xanchor": "center",
          "xref": "paper",
          "y": 0.6828402366863904,
          "yanchor": "bottom",
          "yref": "paper"
         },
         {
          "font": {
           "size": 16
          },
          "showarrow": false,
          "text": "Topic 19",
          "x": 0.9125,
          "xanchor": "center",
          "xref": "paper",
          "y": 0.6828402366863904,
          "yanchor": "bottom",
          "yref": "paper"
         },
         {
          "font": {
           "size": 16
          },
          "showarrow": false,
          "text": "Topic 20",
          "x": 0.0875,
          "xanchor": "center",
          "xref": "paper",
          "y": 0.6035502958579881,
          "yanchor": "bottom",
          "yref": "paper"
         },
         {
          "font": {
           "size": 16
          },
          "showarrow": false,
          "text": "Topic 21",
          "x": 0.36250000000000004,
          "xanchor": "center",
          "xref": "paper",
          "y": 0.6035502958579881,
          "yanchor": "bottom",
          "yref": "paper"
         },
         {
          "font": {
           "size": 16
          },
          "showarrow": false,
          "text": "Topic 22",
          "x": 0.6375000000000001,
          "xanchor": "center",
          "xref": "paper",
          "y": 0.6035502958579881,
          "yanchor": "bottom",
          "yref": "paper"
         },
         {
          "font": {
           "size": 16
          },
          "showarrow": false,
          "text": "Topic 23",
          "x": 0.9125,
          "xanchor": "center",
          "xref": "paper",
          "y": 0.6035502958579881,
          "yanchor": "bottom",
          "yref": "paper"
         },
         {
          "font": {
           "size": 16
          },
          "showarrow": false,
          "text": "Topic 24",
          "x": 0.0875,
          "xanchor": "center",
          "xref": "paper",
          "y": 0.5242603550295858,
          "yanchor": "bottom",
          "yref": "paper"
         },
         {
          "font": {
           "size": 16
          },
          "showarrow": false,
          "text": "Topic 25",
          "x": 0.36250000000000004,
          "xanchor": "center",
          "xref": "paper",
          "y": 0.5242603550295858,
          "yanchor": "bottom",
          "yref": "paper"
         },
         {
          "font": {
           "size": 16
          },
          "showarrow": false,
          "text": "Topic 26",
          "x": 0.6375000000000001,
          "xanchor": "center",
          "xref": "paper",
          "y": 0.5242603550295858,
          "yanchor": "bottom",
          "yref": "paper"
         },
         {
          "font": {
           "size": 16
          },
          "showarrow": false,
          "text": "Topic 27",
          "x": 0.9125,
          "xanchor": "center",
          "xref": "paper",
          "y": 0.5242603550295858,
          "yanchor": "bottom",
          "yref": "paper"
         },
         {
          "font": {
           "size": 16
          },
          "showarrow": false,
          "text": "Topic 28",
          "x": 0.0875,
          "xanchor": "center",
          "xref": "paper",
          "y": 0.4449704142011834,
          "yanchor": "bottom",
          "yref": "paper"
         },
         {
          "font": {
           "size": 16
          },
          "showarrow": false,
          "text": "Topic 29",
          "x": 0.36250000000000004,
          "xanchor": "center",
          "xref": "paper",
          "y": 0.4449704142011834,
          "yanchor": "bottom",
          "yref": "paper"
         },
         {
          "font": {
           "size": 16
          },
          "showarrow": false,
          "text": "Topic 30",
          "x": 0.6375000000000001,
          "xanchor": "center",
          "xref": "paper",
          "y": 0.4449704142011834,
          "yanchor": "bottom",
          "yref": "paper"
         },
         {
          "font": {
           "size": 16
          },
          "showarrow": false,
          "text": "Topic 31",
          "x": 0.9125,
          "xanchor": "center",
          "xref": "paper",
          "y": 0.4449704142011834,
          "yanchor": "bottom",
          "yref": "paper"
         },
         {
          "font": {
           "size": 16
          },
          "showarrow": false,
          "text": "Topic 32",
          "x": 0.0875,
          "xanchor": "center",
          "xref": "paper",
          "y": 0.36568047337278103,
          "yanchor": "bottom",
          "yref": "paper"
         },
         {
          "font": {
           "size": 16
          },
          "showarrow": false,
          "text": "Topic 33",
          "x": 0.36250000000000004,
          "xanchor": "center",
          "xref": "paper",
          "y": 0.36568047337278103,
          "yanchor": "bottom",
          "yref": "paper"
         },
         {
          "font": {
           "size": 16
          },
          "showarrow": false,
          "text": "Topic 34",
          "x": 0.6375000000000001,
          "xanchor": "center",
          "xref": "paper",
          "y": 0.36568047337278103,
          "yanchor": "bottom",
          "yref": "paper"
         },
         {
          "font": {
           "size": 16
          },
          "showarrow": false,
          "text": "Topic 35",
          "x": 0.9125,
          "xanchor": "center",
          "xref": "paper",
          "y": 0.36568047337278103,
          "yanchor": "bottom",
          "yref": "paper"
         },
         {
          "font": {
           "size": 16
          },
          "showarrow": false,
          "text": "Topic 36",
          "x": 0.0875,
          "xanchor": "center",
          "xref": "paper",
          "y": 0.2863905325443787,
          "yanchor": "bottom",
          "yref": "paper"
         },
         {
          "font": {
           "size": 16
          },
          "showarrow": false,
          "text": "Topic 37",
          "x": 0.36250000000000004,
          "xanchor": "center",
          "xref": "paper",
          "y": 0.2863905325443787,
          "yanchor": "bottom",
          "yref": "paper"
         },
         {
          "font": {
           "size": 16
          },
          "showarrow": false,
          "text": "Topic 38",
          "x": 0.6375000000000001,
          "xanchor": "center",
          "xref": "paper",
          "y": 0.2863905325443787,
          "yanchor": "bottom",
          "yref": "paper"
         },
         {
          "font": {
           "size": 16
          },
          "showarrow": false,
          "text": "Topic 39",
          "x": 0.9125,
          "xanchor": "center",
          "xref": "paper",
          "y": 0.2863905325443787,
          "yanchor": "bottom",
          "yref": "paper"
         },
         {
          "font": {
           "size": 16
          },
          "showarrow": false,
          "text": "Topic 40",
          "x": 0.0875,
          "xanchor": "center",
          "xref": "paper",
          "y": 0.20710059171597633,
          "yanchor": "bottom",
          "yref": "paper"
         },
         {
          "font": {
           "size": 16
          },
          "showarrow": false,
          "text": "Topic 41",
          "x": 0.36250000000000004,
          "xanchor": "center",
          "xref": "paper",
          "y": 0.20710059171597633,
          "yanchor": "bottom",
          "yref": "paper"
         },
         {
          "font": {
           "size": 16
          },
          "showarrow": false,
          "text": "Topic 42",
          "x": 0.6375000000000001,
          "xanchor": "center",
          "xref": "paper",
          "y": 0.20710059171597633,
          "yanchor": "bottom",
          "yref": "paper"
         },
         {
          "font": {
           "size": 16
          },
          "showarrow": false,
          "text": "Topic 43",
          "x": 0.9125,
          "xanchor": "center",
          "xref": "paper",
          "y": 0.20710059171597633,
          "yanchor": "bottom",
          "yref": "paper"
         },
         {
          "font": {
           "size": 16
          },
          "showarrow": false,
          "text": "Topic 44",
          "x": 0.0875,
          "xanchor": "center",
          "xref": "paper",
          "y": 0.12781065088757396,
          "yanchor": "bottom",
          "yref": "paper"
         },
         {
          "font": {
           "size": 16
          },
          "showarrow": false,
          "text": "Topic 45",
          "x": 0.36250000000000004,
          "xanchor": "center",
          "xref": "paper",
          "y": 0.12781065088757396,
          "yanchor": "bottom",
          "yref": "paper"
         },
         {
          "font": {
           "size": 16
          },
          "showarrow": false,
          "text": "Topic 46",
          "x": 0.6375000000000001,
          "xanchor": "center",
          "xref": "paper",
          "y": 0.12781065088757396,
          "yanchor": "bottom",
          "yref": "paper"
         },
         {
          "font": {
           "size": 16
          },
          "showarrow": false,
          "text": "Topic 47",
          "x": 0.9125,
          "xanchor": "center",
          "xref": "paper",
          "y": 0.12781065088757396,
          "yanchor": "bottom",
          "yref": "paper"
         },
         {
          "font": {
           "size": 16
          },
          "showarrow": false,
          "text": "Topic 48",
          "x": 0.0875,
          "xanchor": "center",
          "xref": "paper",
          "y": 0.04852071005917159,
          "yanchor": "bottom",
          "yref": "paper"
         },
         {
          "font": {
           "size": 16
          },
          "showarrow": false,
          "text": "Topic 49",
          "x": 0.36250000000000004,
          "xanchor": "center",
          "xref": "paper",
          "y": 0.04852071005917159,
          "yanchor": "bottom",
          "yref": "paper"
         }
        ],
        "height": 3250,
        "hoverlabel": {
         "bgcolor": "white",
         "font": {
          "family": "Rockwell",
          "size": 16
         }
        },
        "showlegend": false,
        "template": {
         "data": {
          "bar": [
           {
            "error_x": {
             "color": "#2a3f5f"
            },
            "error_y": {
             "color": "#2a3f5f"
            },
            "marker": {
             "line": {
              "color": "white",
              "width": 0.5
             },
             "pattern": {
              "fillmode": "overlay",
              "size": 10,
              "solidity": 0.2
             }
            },
            "type": "bar"
           }
          ],
          "barpolar": [
           {
            "marker": {
             "line": {
              "color": "white",
              "width": 0.5
             },
             "pattern": {
              "fillmode": "overlay",
              "size": 10,
              "solidity": 0.2
             }
            },
            "type": "barpolar"
           }
          ],
          "carpet": [
           {
            "aaxis": {
             "endlinecolor": "#2a3f5f",
             "gridcolor": "#C8D4E3",
             "linecolor": "#C8D4E3",
             "minorgridcolor": "#C8D4E3",
             "startlinecolor": "#2a3f5f"
            },
            "baxis": {
             "endlinecolor": "#2a3f5f",
             "gridcolor": "#C8D4E3",
             "linecolor": "#C8D4E3",
             "minorgridcolor": "#C8D4E3",
             "startlinecolor": "#2a3f5f"
            },
            "type": "carpet"
           }
          ],
          "choropleth": [
           {
            "colorbar": {
             "outlinewidth": 0,
             "ticks": ""
            },
            "type": "choropleth"
           }
          ],
          "contour": [
           {
            "colorbar": {
             "outlinewidth": 0,
             "ticks": ""
            },
            "colorscale": [
             [
              0,
              "#0d0887"
             ],
             [
              0.1111111111111111,
              "#46039f"
             ],
             [
              0.2222222222222222,
              "#7201a8"
             ],
             [
              0.3333333333333333,
              "#9c179e"
             ],
             [
              0.4444444444444444,
              "#bd3786"
             ],
             [
              0.5555555555555556,
              "#d8576b"
             ],
             [
              0.6666666666666666,
              "#ed7953"
             ],
             [
              0.7777777777777778,
              "#fb9f3a"
             ],
             [
              0.8888888888888888,
              "#fdca26"
             ],
             [
              1,
              "#f0f921"
             ]
            ],
            "type": "contour"
           }
          ],
          "contourcarpet": [
           {
            "colorbar": {
             "outlinewidth": 0,
             "ticks": ""
            },
            "type": "contourcarpet"
           }
          ],
          "heatmap": [
           {
            "colorbar": {
             "outlinewidth": 0,
             "ticks": ""
            },
            "colorscale": [
             [
              0,
              "#0d0887"
             ],
             [
              0.1111111111111111,
              "#46039f"
             ],
             [
              0.2222222222222222,
              "#7201a8"
             ],
             [
              0.3333333333333333,
              "#9c179e"
             ],
             [
              0.4444444444444444,
              "#bd3786"
             ],
             [
              0.5555555555555556,
              "#d8576b"
             ],
             [
              0.6666666666666666,
              "#ed7953"
             ],
             [
              0.7777777777777778,
              "#fb9f3a"
             ],
             [
              0.8888888888888888,
              "#fdca26"
             ],
             [
              1,
              "#f0f921"
             ]
            ],
            "type": "heatmap"
           }
          ],
          "heatmapgl": [
           {
            "colorbar": {
             "outlinewidth": 0,
             "ticks": ""
            },
            "colorscale": [
             [
              0,
              "#0d0887"
             ],
             [
              0.1111111111111111,
              "#46039f"
             ],
             [
              0.2222222222222222,
              "#7201a8"
             ],
             [
              0.3333333333333333,
              "#9c179e"
             ],
             [
              0.4444444444444444,
              "#bd3786"
             ],
             [
              0.5555555555555556,
              "#d8576b"
             ],
             [
              0.6666666666666666,
              "#ed7953"
             ],
             [
              0.7777777777777778,
              "#fb9f3a"
             ],
             [
              0.8888888888888888,
              "#fdca26"
             ],
             [
              1,
              "#f0f921"
             ]
            ],
            "type": "heatmapgl"
           }
          ],
          "histogram": [
           {
            "marker": {
             "pattern": {
              "fillmode": "overlay",
              "size": 10,
              "solidity": 0.2
             }
            },
            "type": "histogram"
           }
          ],
          "histogram2d": [
           {
            "colorbar": {
             "outlinewidth": 0,
             "ticks": ""
            },
            "colorscale": [
             [
              0,
              "#0d0887"
             ],
             [
              0.1111111111111111,
              "#46039f"
             ],
             [
              0.2222222222222222,
              "#7201a8"
             ],
             [
              0.3333333333333333,
              "#9c179e"
             ],
             [
              0.4444444444444444,
              "#bd3786"
             ],
             [
              0.5555555555555556,
              "#d8576b"
             ],
             [
              0.6666666666666666,
              "#ed7953"
             ],
             [
              0.7777777777777778,
              "#fb9f3a"
             ],
             [
              0.8888888888888888,
              "#fdca26"
             ],
             [
              1,
              "#f0f921"
             ]
            ],
            "type": "histogram2d"
           }
          ],
          "histogram2dcontour": [
           {
            "colorbar": {
             "outlinewidth": 0,
             "ticks": ""
            },
            "colorscale": [
             [
              0,
              "#0d0887"
             ],
             [
              0.1111111111111111,
              "#46039f"
             ],
             [
              0.2222222222222222,
              "#7201a8"
             ],
             [
              0.3333333333333333,
              "#9c179e"
             ],
             [
              0.4444444444444444,
              "#bd3786"
             ],
             [
              0.5555555555555556,
              "#d8576b"
             ],
             [
              0.6666666666666666,
              "#ed7953"
             ],
             [
              0.7777777777777778,
              "#fb9f3a"
             ],
             [
              0.8888888888888888,
              "#fdca26"
             ],
             [
              1,
              "#f0f921"
             ]
            ],
            "type": "histogram2dcontour"
           }
          ],
          "mesh3d": [
           {
            "colorbar": {
             "outlinewidth": 0,
             "ticks": ""
            },
            "type": "mesh3d"
           }
          ],
          "parcoords": [
           {
            "line": {
             "colorbar": {
              "outlinewidth": 0,
              "ticks": ""
             }
            },
            "type": "parcoords"
           }
          ],
          "pie": [
           {
            "automargin": true,
            "type": "pie"
           }
          ],
          "scatter": [
           {
            "fillpattern": {
             "fillmode": "overlay",
             "size": 10,
             "solidity": 0.2
            },
            "type": "scatter"
           }
          ],
          "scatter3d": [
           {
            "line": {
             "colorbar": {
              "outlinewidth": 0,
              "ticks": ""
             }
            },
            "marker": {
             "colorbar": {
              "outlinewidth": 0,
              "ticks": ""
             }
            },
            "type": "scatter3d"
           }
          ],
          "scattercarpet": [
           {
            "marker": {
             "colorbar": {
              "outlinewidth": 0,
              "ticks": ""
             }
            },
            "type": "scattercarpet"
           }
          ],
          "scattergeo": [
           {
            "marker": {
             "colorbar": {
              "outlinewidth": 0,
              "ticks": ""
             }
            },
            "type": "scattergeo"
           }
          ],
          "scattergl": [
           {
            "marker": {
             "colorbar": {
              "outlinewidth": 0,
              "ticks": ""
             }
            },
            "type": "scattergl"
           }
          ],
          "scattermapbox": [
           {
            "marker": {
             "colorbar": {
              "outlinewidth": 0,
              "ticks": ""
             }
            },
            "type": "scattermapbox"
           }
          ],
          "scatterpolar": [
           {
            "marker": {
             "colorbar": {
              "outlinewidth": 0,
              "ticks": ""
             }
            },
            "type": "scatterpolar"
           }
          ],
          "scatterpolargl": [
           {
            "marker": {
             "colorbar": {
              "outlinewidth": 0,
              "ticks": ""
             }
            },
            "type": "scatterpolargl"
           }
          ],
          "scatterternary": [
           {
            "marker": {
             "colorbar": {
              "outlinewidth": 0,
              "ticks": ""
             }
            },
            "type": "scatterternary"
           }
          ],
          "surface": [
           {
            "colorbar": {
             "outlinewidth": 0,
             "ticks": ""
            },
            "colorscale": [
             [
              0,
              "#0d0887"
             ],
             [
              0.1111111111111111,
              "#46039f"
             ],
             [
              0.2222222222222222,
              "#7201a8"
             ],
             [
              0.3333333333333333,
              "#9c179e"
             ],
             [
              0.4444444444444444,
              "#bd3786"
             ],
             [
              0.5555555555555556,
              "#d8576b"
             ],
             [
              0.6666666666666666,
              "#ed7953"
             ],
             [
              0.7777777777777778,
              "#fb9f3a"
             ],
             [
              0.8888888888888888,
              "#fdca26"
             ],
             [
              1,
              "#f0f921"
             ]
            ],
            "type": "surface"
           }
          ],
          "table": [
           {
            "cells": {
             "fill": {
              "color": "#EBF0F8"
             },
             "line": {
              "color": "white"
             }
            },
            "header": {
             "fill": {
              "color": "#C8D4E3"
             },
             "line": {
              "color": "white"
             }
            },
            "type": "table"
           }
          ]
         },
         "layout": {
          "annotationdefaults": {
           "arrowcolor": "#2a3f5f",
           "arrowhead": 0,
           "arrowwidth": 1
          },
          "autotypenumbers": "strict",
          "coloraxis": {
           "colorbar": {
            "outlinewidth": 0,
            "ticks": ""
           }
          },
          "colorscale": {
           "diverging": [
            [
             0,
             "#8e0152"
            ],
            [
             0.1,
             "#c51b7d"
            ],
            [
             0.2,
             "#de77ae"
            ],
            [
             0.3,
             "#f1b6da"
            ],
            [
             0.4,
             "#fde0ef"
            ],
            [
             0.5,
             "#f7f7f7"
            ],
            [
             0.6,
             "#e6f5d0"
            ],
            [
             0.7,
             "#b8e186"
            ],
            [
             0.8,
             "#7fbc41"
            ],
            [
             0.9,
             "#4d9221"
            ],
            [
             1,
             "#276419"
            ]
           ],
           "sequential": [
            [
             0,
             "#0d0887"
            ],
            [
             0.1111111111111111,
             "#46039f"
            ],
            [
             0.2222222222222222,
             "#7201a8"
            ],
            [
             0.3333333333333333,
             "#9c179e"
            ],
            [
             0.4444444444444444,
             "#bd3786"
            ],
            [
             0.5555555555555556,
             "#d8576b"
            ],
            [
             0.6666666666666666,
             "#ed7953"
            ],
            [
             0.7777777777777778,
             "#fb9f3a"
            ],
            [
             0.8888888888888888,
             "#fdca26"
            ],
            [
             1,
             "#f0f921"
            ]
           ],
           "sequentialminus": [
            [
             0,
             "#0d0887"
            ],
            [
             0.1111111111111111,
             "#46039f"
            ],
            [
             0.2222222222222222,
             "#7201a8"
            ],
            [
             0.3333333333333333,
             "#9c179e"
            ],
            [
             0.4444444444444444,
             "#bd3786"
            ],
            [
             0.5555555555555556,
             "#d8576b"
            ],
            [
             0.6666666666666666,
             "#ed7953"
            ],
            [
             0.7777777777777778,
             "#fb9f3a"
            ],
            [
             0.8888888888888888,
             "#fdca26"
            ],
            [
             1,
             "#f0f921"
            ]
           ]
          },
          "colorway": [
           "#636efa",
           "#EF553B",
           "#00cc96",
           "#ab63fa",
           "#FFA15A",
           "#19d3f3",
           "#FF6692",
           "#B6E880",
           "#FF97FF",
           "#FECB52"
          ],
          "font": {
           "color": "#2a3f5f"
          },
          "geo": {
           "bgcolor": "white",
           "lakecolor": "white",
           "landcolor": "white",
           "showlakes": true,
           "showland": true,
           "subunitcolor": "#C8D4E3"
          },
          "hoverlabel": {
           "align": "left"
          },
          "hovermode": "closest",
          "mapbox": {
           "style": "light"
          },
          "paper_bgcolor": "white",
          "plot_bgcolor": "white",
          "polar": {
           "angularaxis": {
            "gridcolor": "#EBF0F8",
            "linecolor": "#EBF0F8",
            "ticks": ""
           },
           "bgcolor": "white",
           "radialaxis": {
            "gridcolor": "#EBF0F8",
            "linecolor": "#EBF0F8",
            "ticks": ""
           }
          },
          "scene": {
           "xaxis": {
            "backgroundcolor": "white",
            "gridcolor": "#DFE8F3",
            "gridwidth": 2,
            "linecolor": "#EBF0F8",
            "showbackground": true,
            "ticks": "",
            "zerolinecolor": "#EBF0F8"
           },
           "yaxis": {
            "backgroundcolor": "white",
            "gridcolor": "#DFE8F3",
            "gridwidth": 2,
            "linecolor": "#EBF0F8",
            "showbackground": true,
            "ticks": "",
            "zerolinecolor": "#EBF0F8"
           },
           "zaxis": {
            "backgroundcolor": "white",
            "gridcolor": "#DFE8F3",
            "gridwidth": 2,
            "linecolor": "#EBF0F8",
            "showbackground": true,
            "ticks": "",
            "zerolinecolor": "#EBF0F8"
           }
          },
          "shapedefaults": {
           "line": {
            "color": "#2a3f5f"
           }
          },
          "ternary": {
           "aaxis": {
            "gridcolor": "#DFE8F3",
            "linecolor": "#A2B1C6",
            "ticks": ""
           },
           "baxis": {
            "gridcolor": "#DFE8F3",
            "linecolor": "#A2B1C6",
            "ticks": ""
           },
           "bgcolor": "white",
           "caxis": {
            "gridcolor": "#DFE8F3",
            "linecolor": "#A2B1C6",
            "ticks": ""
           }
          },
          "title": {
           "x": 0.05
          },
          "xaxis": {
           "automargin": true,
           "gridcolor": "#EBF0F8",
           "linecolor": "#EBF0F8",
           "ticks": "",
           "title": {
            "standoff": 15
           },
           "zerolinecolor": "#EBF0F8",
           "zerolinewidth": 2
          },
          "yaxis": {
           "automargin": true,
           "gridcolor": "#EBF0F8",
           "linecolor": "#EBF0F8",
           "ticks": "",
           "title": {
            "standoff": 15
           },
           "zerolinecolor": "#EBF0F8",
           "zerolinewidth": 2
          }
         }
        },
        "title": {
         "font": {
          "color": "Black",
          "size": 22
         },
         "text": "Topic Word Scores",
         "x": 0.5,
         "xanchor": "center",
         "yanchor": "top"
        },
        "width": 1000,
        "xaxis": {
         "anchor": "y",
         "domain": [
          0,
          0.175
         ],
         "showgrid": true
        },
        "xaxis10": {
         "anchor": "y10",
         "domain": [
          0.275,
          0.45
         ],
         "showgrid": true
        },
        "xaxis11": {
         "anchor": "y11",
         "domain": [
          0.55,
          0.7250000000000001
         ],
         "showgrid": true
        },
        "xaxis12": {
         "anchor": "y12",
         "domain": [
          0.825,
          1
         ],
         "showgrid": true
        },
        "xaxis13": {
         "anchor": "y13",
         "domain": [
          0,
          0.175
         ],
         "showgrid": true
        },
        "xaxis14": {
         "anchor": "y14",
         "domain": [
          0.275,
          0.45
         ],
         "showgrid": true
        },
        "xaxis15": {
         "anchor": "y15",
         "domain": [
          0.55,
          0.7250000000000001
         ],
         "showgrid": true
        },
        "xaxis16": {
         "anchor": "y16",
         "domain": [
          0.825,
          1
         ],
         "showgrid": true
        },
        "xaxis17": {
         "anchor": "y17",
         "domain": [
          0,
          0.175
         ],
         "showgrid": true
        },
        "xaxis18": {
         "anchor": "y18",
         "domain": [
          0.275,
          0.45
         ],
         "showgrid": true
        },
        "xaxis19": {
         "anchor": "y19",
         "domain": [
          0.55,
          0.7250000000000001
         ],
         "showgrid": true
        },
        "xaxis2": {
         "anchor": "y2",
         "domain": [
          0.275,
          0.45
         ],
         "showgrid": true
        },
        "xaxis20": {
         "anchor": "y20",
         "domain": [
          0.825,
          1
         ],
         "showgrid": true
        },
        "xaxis21": {
         "anchor": "y21",
         "domain": [
          0,
          0.175
         ],
         "showgrid": true
        },
        "xaxis22": {
         "anchor": "y22",
         "domain": [
          0.275,
          0.45
         ],
         "showgrid": true
        },
        "xaxis23": {
         "anchor": "y23",
         "domain": [
          0.55,
          0.7250000000000001
         ],
         "showgrid": true
        },
        "xaxis24": {
         "anchor": "y24",
         "domain": [
          0.825,
          1
         ],
         "showgrid": true
        },
        "xaxis25": {
         "anchor": "y25",
         "domain": [
          0,
          0.175
         ],
         "showgrid": true
        },
        "xaxis26": {
         "anchor": "y26",
         "domain": [
          0.275,
          0.45
         ],
         "showgrid": true
        },
        "xaxis27": {
         "anchor": "y27",
         "domain": [
          0.55,
          0.7250000000000001
         ],
         "showgrid": true
        },
        "xaxis28": {
         "anchor": "y28",
         "domain": [
          0.825,
          1
         ],
         "showgrid": true
        },
        "xaxis29": {
         "anchor": "y29",
         "domain": [
          0,
          0.175
         ],
         "showgrid": true
        },
        "xaxis3": {
         "anchor": "y3",
         "domain": [
          0.55,
          0.7250000000000001
         ],
         "showgrid": true
        },
        "xaxis30": {
         "anchor": "y30",
         "domain": [
          0.275,
          0.45
         ],
         "showgrid": true
        },
        "xaxis31": {
         "anchor": "y31",
         "domain": [
          0.55,
          0.7250000000000001
         ],
         "showgrid": true
        },
        "xaxis32": {
         "anchor": "y32",
         "domain": [
          0.825,
          1
         ],
         "showgrid": true
        },
        "xaxis33": {
         "anchor": "y33",
         "domain": [
          0,
          0.175
         ],
         "showgrid": true
        },
        "xaxis34": {
         "anchor": "y34",
         "domain": [
          0.275,
          0.45
         ],
         "showgrid": true
        },
        "xaxis35": {
         "anchor": "y35",
         "domain": [
          0.55,
          0.7250000000000001
         ],
         "showgrid": true
        },
        "xaxis36": {
         "anchor": "y36",
         "domain": [
          0.825,
          1
         ],
         "showgrid": true
        },
        "xaxis37": {
         "anchor": "y37",
         "domain": [
          0,
          0.175
         ],
         "showgrid": true
        },
        "xaxis38": {
         "anchor": "y38",
         "domain": [
          0.275,
          0.45
         ],
         "showgrid": true
        },
        "xaxis39": {
         "anchor": "y39",
         "domain": [
          0.55,
          0.7250000000000001
         ],
         "showgrid": true
        },
        "xaxis4": {
         "anchor": "y4",
         "domain": [
          0.825,
          1
         ],
         "showgrid": true
        },
        "xaxis40": {
         "anchor": "y40",
         "domain": [
          0.825,
          1
         ],
         "showgrid": true
        },
        "xaxis41": {
         "anchor": "y41",
         "domain": [
          0,
          0.175
         ],
         "showgrid": true
        },
        "xaxis42": {
         "anchor": "y42",
         "domain": [
          0.275,
          0.45
         ],
         "showgrid": true
        },
        "xaxis43": {
         "anchor": "y43",
         "domain": [
          0.55,
          0.7250000000000001
         ],
         "showgrid": true
        },
        "xaxis44": {
         "anchor": "y44",
         "domain": [
          0.825,
          1
         ],
         "showgrid": true
        },
        "xaxis45": {
         "anchor": "y45",
         "domain": [
          0,
          0.175
         ],
         "showgrid": true
        },
        "xaxis46": {
         "anchor": "y46",
         "domain": [
          0.275,
          0.45
         ],
         "showgrid": true
        },
        "xaxis47": {
         "anchor": "y47",
         "domain": [
          0.55,
          0.7250000000000001
         ],
         "showgrid": true
        },
        "xaxis48": {
         "anchor": "y48",
         "domain": [
          0.825,
          1
         ],
         "showgrid": true
        },
        "xaxis49": {
         "anchor": "y49",
         "domain": [
          0,
          0.175
         ],
         "showgrid": true
        },
        "xaxis5": {
         "anchor": "y5",
         "domain": [
          0,
          0.175
         ],
         "showgrid": true
        },
        "xaxis50": {
         "anchor": "y50",
         "domain": [
          0.275,
          0.45
         ],
         "showgrid": true
        },
        "xaxis51": {
         "anchor": "y51",
         "domain": [
          0.55,
          0.7250000000000001
         ],
         "showgrid": true
        },
        "xaxis52": {
         "anchor": "y52",
         "domain": [
          0.825,
          1
         ],
         "showgrid": true
        },
        "xaxis6": {
         "anchor": "y6",
         "domain": [
          0.275,
          0.45
         ],
         "showgrid": true
        },
        "xaxis7": {
         "anchor": "y7",
         "domain": [
          0.55,
          0.7250000000000001
         ],
         "showgrid": true
        },
        "xaxis8": {
         "anchor": "y8",
         "domain": [
          0.825,
          1
         ],
         "showgrid": true
        },
        "xaxis9": {
         "anchor": "y9",
         "domain": [
          0,
          0.175
         ],
         "showgrid": true
        },
        "yaxis": {
         "anchor": "x",
         "domain": [
          0.9514792899408283,
          0.9999999999999999
         ],
         "showgrid": true
        },
        "yaxis10": {
         "anchor": "x10",
         "domain": [
          0.7928994082840235,
          0.8414201183431951
         ],
         "showgrid": true
        },
        "yaxis11": {
         "anchor": "x11",
         "domain": [
          0.7928994082840235,
          0.8414201183431951
         ],
         "showgrid": true
        },
        "yaxis12": {
         "anchor": "x12",
         "domain": [
          0.7928994082840235,
          0.8414201183431951
         ],
         "showgrid": true
        },
        "yaxis13": {
         "anchor": "x13",
         "domain": [
          0.7136094674556213,
          0.7621301775147928
         ],
         "showgrid": true
        },
        "yaxis14": {
         "anchor": "x14",
         "domain": [
          0.7136094674556213,
          0.7621301775147928
         ],
         "showgrid": true
        },
        "yaxis15": {
         "anchor": "x15",
         "domain": [
          0.7136094674556213,
          0.7621301775147928
         ],
         "showgrid": true
        },
        "yaxis16": {
         "anchor": "x16",
         "domain": [
          0.7136094674556213,
          0.7621301775147928
         ],
         "showgrid": true
        },
        "yaxis17": {
         "anchor": "x17",
         "domain": [
          0.6343195266272188,
          0.6828402366863904
         ],
         "showgrid": true
        },
        "yaxis18": {
         "anchor": "x18",
         "domain": [
          0.6343195266272188,
          0.6828402366863904
         ],
         "showgrid": true
        },
        "yaxis19": {
         "anchor": "x19",
         "domain": [
          0.6343195266272188,
          0.6828402366863904
         ],
         "showgrid": true
        },
        "yaxis2": {
         "anchor": "x2",
         "domain": [
          0.9514792899408283,
          0.9999999999999999
         ],
         "showgrid": true
        },
        "yaxis20": {
         "anchor": "x20",
         "domain": [
          0.6343195266272188,
          0.6828402366863904
         ],
         "showgrid": true
        },
        "yaxis21": {
         "anchor": "x21",
         "domain": [
          0.5550295857988166,
          0.6035502958579881
         ],
         "showgrid": true
        },
        "yaxis22": {
         "anchor": "x22",
         "domain": [
          0.5550295857988166,
          0.6035502958579881
         ],
         "showgrid": true
        },
        "yaxis23": {
         "anchor": "x23",
         "domain": [
          0.5550295857988166,
          0.6035502958579881
         ],
         "showgrid": true
        },
        "yaxis24": {
         "anchor": "x24",
         "domain": [
          0.5550295857988166,
          0.6035502958579881
         ],
         "showgrid": true
        },
        "yaxis25": {
         "anchor": "x25",
         "domain": [
          0.47573964497041416,
          0.5242603550295858
         ],
         "showgrid": true
        },
        "yaxis26": {
         "anchor": "x26",
         "domain": [
          0.47573964497041416,
          0.5242603550295858
         ],
         "showgrid": true
        },
        "yaxis27": {
         "anchor": "x27",
         "domain": [
          0.47573964497041416,
          0.5242603550295858
         ],
         "showgrid": true
        },
        "yaxis28": {
         "anchor": "x28",
         "domain": [
          0.47573964497041416,
          0.5242603550295858
         ],
         "showgrid": true
        },
        "yaxis29": {
         "anchor": "x29",
         "domain": [
          0.3964497041420118,
          0.4449704142011834
         ],
         "showgrid": true
        },
        "yaxis3": {
         "anchor": "x3",
         "domain": [
          0.9514792899408283,
          0.9999999999999999
         ],
         "showgrid": true
        },
        "yaxis30": {
         "anchor": "x30",
         "domain": [
          0.3964497041420118,
          0.4449704142011834
         ],
         "showgrid": true
        },
        "yaxis31": {
         "anchor": "x31",
         "domain": [
          0.3964497041420118,
          0.4449704142011834
         ],
         "showgrid": true
        },
        "yaxis32": {
         "anchor": "x32",
         "domain": [
          0.3964497041420118,
          0.4449704142011834
         ],
         "showgrid": true
        },
        "yaxis33": {
         "anchor": "x33",
         "domain": [
          0.31715976331360946,
          0.36568047337278103
         ],
         "showgrid": true
        },
        "yaxis34": {
         "anchor": "x34",
         "domain": [
          0.31715976331360946,
          0.36568047337278103
         ],
         "showgrid": true
        },
        "yaxis35": {
         "anchor": "x35",
         "domain": [
          0.31715976331360946,
          0.36568047337278103
         ],
         "showgrid": true
        },
        "yaxis36": {
         "anchor": "x36",
         "domain": [
          0.31715976331360946,
          0.36568047337278103
         ],
         "showgrid": true
        },
        "yaxis37": {
         "anchor": "x37",
         "domain": [
          0.2378698224852071,
          0.2863905325443787
         ],
         "showgrid": true
        },
        "yaxis38": {
         "anchor": "x38",
         "domain": [
          0.2378698224852071,
          0.2863905325443787
         ],
         "showgrid": true
        },
        "yaxis39": {
         "anchor": "x39",
         "domain": [
          0.2378698224852071,
          0.2863905325443787
         ],
         "showgrid": true
        },
        "yaxis4": {
         "anchor": "x4",
         "domain": [
          0.9514792899408283,
          0.9999999999999999
         ],
         "showgrid": true
        },
        "yaxis40": {
         "anchor": "x40",
         "domain": [
          0.2378698224852071,
          0.2863905325443787
         ],
         "showgrid": true
        },
        "yaxis41": {
         "anchor": "x41",
         "domain": [
          0.15857988165680473,
          0.20710059171597633
         ],
         "showgrid": true
        },
        "yaxis42": {
         "anchor": "x42",
         "domain": [
          0.15857988165680473,
          0.20710059171597633
         ],
         "showgrid": true
        },
        "yaxis43": {
         "anchor": "x43",
         "domain": [
          0.15857988165680473,
          0.20710059171597633
         ],
         "showgrid": true
        },
        "yaxis44": {
         "anchor": "x44",
         "domain": [
          0.15857988165680473,
          0.20710059171597633
         ],
         "showgrid": true
        },
        "yaxis45": {
         "anchor": "x45",
         "domain": [
          0.07928994082840236,
          0.12781065088757396
         ],
         "showgrid": true
        },
        "yaxis46": {
         "anchor": "x46",
         "domain": [
          0.07928994082840236,
          0.12781065088757396
         ],
         "showgrid": true
        },
        "yaxis47": {
         "anchor": "x47",
         "domain": [
          0.07928994082840236,
          0.12781065088757396
         ],
         "showgrid": true
        },
        "yaxis48": {
         "anchor": "x48",
         "domain": [
          0.07928994082840236,
          0.12781065088757396
         ],
         "showgrid": true
        },
        "yaxis49": {
         "anchor": "x49",
         "domain": [
          0,
          0.04852071005917159
         ],
         "showgrid": true
        },
        "yaxis5": {
         "anchor": "x5",
         "domain": [
          0.872189349112426,
          0.9207100591715975
         ],
         "showgrid": true
        },
        "yaxis50": {
         "anchor": "x50",
         "domain": [
          0,
          0.04852071005917159
         ],
         "showgrid": true
        },
        "yaxis51": {
         "anchor": "x51",
         "domain": [
          0,
          0.04852071005917159
         ],
         "showgrid": true
        },
        "yaxis52": {
         "anchor": "x52",
         "domain": [
          0,
          0.04852071005917159
         ],
         "showgrid": true
        },
        "yaxis6": {
         "anchor": "x6",
         "domain": [
          0.872189349112426,
          0.9207100591715975
         ],
         "showgrid": true
        },
        "yaxis7": {
         "anchor": "x7",
         "domain": [
          0.872189349112426,
          0.9207100591715975
         ],
         "showgrid": true
        },
        "yaxis8": {
         "anchor": "x8",
         "domain": [
          0.872189349112426,
          0.9207100591715975
         ],
         "showgrid": true
        },
        "yaxis9": {
         "anchor": "x9",
         "domain": [
          0.7928994082840235,
          0.8414201183431951
         ],
         "showgrid": true
        }
       }
      }
     },
     "metadata": {},
     "output_type": "display_data"
    }
   ],
   "source": [
    "top_n = 50\n",
    "top_topics = topic_model.get_topic_freq().head(top_n)['Topic'].tolist()\n",
    "reduced_embeddings = topic_model.umap_model.embedding_\n",
    "hover_data = [f\"{title} - Topic {topic}\" for title, topic in zip(doc_titles, topics)]\n",
    "visualization = topic_model.visualize_documents(hover_data, reduced_embeddings=reduced_embeddings,topics=top_topics, title=f'Top {top_n} Topics') \n",
    "visualization.show() \n",
    "\n",
    "visualization_barchart = topic_model.visualize_barchart(top_n_topics=top_n)\n",
    "visualization_barchart.show()\n",
    "\n",
    "# visualization_path = f\"visualization.html\"\n",
    "# barchart_path = f\"visualization_barchart.html\"\n",
    "\n",
    "# visualization.write_html(visualization_path)\n",
    "# visualization_barchart.write_html(barchart_path)"
   ]
  },
  {
   "cell_type": "markdown",
   "metadata": {},
   "source": [
    "### Search for best parameters for hdbscan\n",
    "- Get the parameters that gives the best DBCV scores\n",
    "- Update the parmeters in Step 3 if needed\n",
    "- Rerun BertTopic\n"
   ]
  },
  {
   "cell_type": "code",
   "execution_count": 8,
   "metadata": {},
   "outputs": [
    {
     "name": "stdout",
     "output_type": "stream",
     "text": [
      "Best DBCV score: 0.362\n",
      "Best parameters: {'min_cluster_size': 4, ' min_samples': 2, 'cluster_selection_method': 'eom', 'metric': 'manhattan'}\n"
     ]
    }
   ],
   "source": [
    "embeddings = topic_model.umap_model.embedding_  #reduced embeddings from umap\n",
    "\n",
    "best_score = 0\n",
    "\n",
    "for min_cluster_size in [2,3,4,5,6]:\n",
    "    for min_samples in [1,2,3,4,5,6,7]:\n",
    "        for cluster_selection_method in ['eom','leaf']:\n",
    "            for metric in ['euclidean','manhattan']:\n",
    "                # for each combination of parameters of hdbscan\n",
    "                hdb = hdbscan.HDBSCAN(min_cluster_size=min_cluster_size,min_samples=min_samples,\n",
    "                                      cluster_selection_method=cluster_selection_method, metric=metric, \n",
    "                                      gen_min_span_tree=True).fit(embeddings)\n",
    "                # DBCV score\n",
    "                score = hdb.relative_validity_\n",
    "                if score > best_score:\n",
    "                    best_score = score\n",
    "                    best_parameters = {'min_cluster_size': min_cluster_size, \n",
    "                               ' min_samples':  min_samples, 'cluster_selection_method': cluster_selection_method,\n",
    "                              'metric': metric}\n",
    "\n",
    "print(\"Best DBCV score: {:.3f}\".format(best_score))\n",
    "print(\"Best parameters: {}\".format(best_parameters))"
   ]
  },
  {
   "cell_type": "markdown",
   "metadata": {},
   "source": [
    "### Hierachical clustering of topics\n"
   ]
  },
  {
   "cell_type": "code",
   "execution_count": 9,
   "metadata": {},
   "outputs": [
    {
     "name": "stderr",
     "output_type": "stream",
     "text": [
      "100%|██████████| 50/50 [00:36<00:00,  1.37it/s]\n"
     ]
    },
    {
     "data": {
      "text/html": [
       "<div>\n",
       "<style scoped>\n",
       "    .dataframe tbody tr th:only-of-type {\n",
       "        vertical-align: middle;\n",
       "    }\n",
       "\n",
       "    .dataframe tbody tr th {\n",
       "        vertical-align: top;\n",
       "    }\n",
       "\n",
       "    .dataframe thead th {\n",
       "        text-align: right;\n",
       "    }\n",
       "</style>\n",
       "<table border=\"1\" class=\"dataframe\">\n",
       "  <thead>\n",
       "    <tr style=\"text-align: right;\">\n",
       "      <th></th>\n",
       "      <th>Parent_ID</th>\n",
       "      <th>Parent_Name</th>\n",
       "      <th>Topics</th>\n",
       "      <th>Child_Left_ID</th>\n",
       "      <th>Child_Left_Name</th>\n",
       "      <th>Child_Right_ID</th>\n",
       "      <th>Child_Right_Name</th>\n",
       "      <th>Distance</th>\n",
       "    </tr>\n",
       "  </thead>\n",
       "  <tbody>\n",
       "    <tr>\n",
       "      <th>49</th>\n",
       "      <td>100</td>\n",
       "      <td>food_healthy_health_sugar_body</td>\n",
       "      <td>[0, 1, 2, 3, 4, 5, 6, 7, 8, 9, 10, 11, 12, 13,...</td>\n",
       "      <td>98</td>\n",
       "      <td>food_healthy_sugar_rice_eat</td>\n",
       "      <td>99</td>\n",
       "      <td>baby_smoking_health_exercise_children</td>\n",
       "      <td>2.025874</td>\n",
       "    </tr>\n",
       "    <tr>\n",
       "      <th>48</th>\n",
       "      <td>99</td>\n",
       "      <td>baby_smoking_health_exercise_children</td>\n",
       "      <td>[0, 1, 2, 3, 4, 6, 9, 10, 11, 12, 13, 16, 21, ...</td>\n",
       "      <td>91</td>\n",
       "      <td>exercise_fitness_intensity_exercises_activities</td>\n",
       "      <td>97</td>\n",
       "      <td>baby_smoking_quit_children_dental</td>\n",
       "      <td>1.394843</td>\n",
       "    </tr>\n",
       "    <tr>\n",
       "      <th>47</th>\n",
       "      <td>98</td>\n",
       "      <td>food_healthy_sugar_rice_eat</td>\n",
       "      <td>[5, 7, 8, 14, 15, 17, 18, 19, 20, 23, 24, 26, ...</td>\n",
       "      <td>88</td>\n",
       "      <td>rice_tbsp_cooking_chicken_wholegrain</td>\n",
       "      <td>95</td>\n",
       "      <td>diabetes_healthy_fruit_eating_diet</td>\n",
       "      <td>1.332233</td>\n",
       "    </tr>\n",
       "    <tr>\n",
       "      <th>46</th>\n",
       "      <td>97</td>\n",
       "      <td>baby_smoking_quit_children_dental</td>\n",
       "      <td>[0, 1, 2, 3, 4, 10, 11, 12, 16, 22, 25, 28, 30...</td>\n",
       "      <td>94</td>\n",
       "      <td>smoking_quit_alcohol_nicotine_dementia</td>\n",
       "      <td>96</td>\n",
       "      <td>teeth_children_dental_flu_babys</td>\n",
       "      <td>1.285195</td>\n",
       "    </tr>\n",
       "    <tr>\n",
       "      <th>45</th>\n",
       "      <td>96</td>\n",
       "      <td>teeth_children_dental_flu_babys</td>\n",
       "      <td>[1, 2, 3, 4, 16, 22, 25, 31, 33, 41, 48]</td>\n",
       "      <td>87</td>\n",
       "      <td>teeth_dental_tooth_toddler_toothpaste</td>\n",
       "      <td>82</td>\n",
       "      <td>sleep_pregnancy_flu_doctor_babys</td>\n",
       "      <td>1.120715</td>\n",
       "    </tr>\n",
       "    <tr>\n",
       "      <th>44</th>\n",
       "      <td>95</td>\n",
       "      <td>diabetes_healthy_fruit_eating_diet</td>\n",
       "      <td>[5, 7, 14, 15, 17, 19, 20, 23, 26, 27, 32, 34,...</td>\n",
       "      <td>93</td>\n",
       "      <td>food_sugar_healthy_eating_healthier</td>\n",
       "      <td>58</td>\n",
       "      <td>diabetes_glucose_type_risk_cholesterol</td>\n",
       "      <td>1.109521</td>\n",
       "    </tr>\n",
       "    <tr>\n",
       "      <th>43</th>\n",
       "      <td>94</td>\n",
       "      <td>smoking_quit_alcohol_nicotine_dementia</td>\n",
       "      <td>[0, 10, 11, 12, 28, 30, 36, 40, 50]</td>\n",
       "      <td>86</td>\n",
       "      <td>smoking_nicotine_quitting_drinking_smokers</td>\n",
       "      <td>85</td>\n",
       "      <td>dementia_mental_self_positive_social</td>\n",
       "      <td>1.075867</td>\n",
       "    </tr>\n",
       "    <tr>\n",
       "      <th>42</th>\n",
       "      <td>93</td>\n",
       "      <td>food_sugar_healthy_eating_healthier</td>\n",
       "      <td>[7, 14, 15, 17, 19, 20, 23, 26, 27, 32, 34, 35...</td>\n",
       "      <td>92</td>\n",
       "      <td>vegetables_healthy_eating_meals_diet</td>\n",
       "      <td>79</td>\n",
       "      <td>sugar_tea_healthier_drinks_chinese</td>\n",
       "      <td>1.056618</td>\n",
       "    </tr>\n",
       "    <tr>\n",
       "      <th>41</th>\n",
       "      <td>92</td>\n",
       "      <td>vegetables_healthy_eating_meals_diet</td>\n",
       "      <td>[7, 14, 15, 17, 19, 26, 27, 32, 34, 44, 46]</td>\n",
       "      <td>84</td>\n",
       "      <td>weight_bmi_healthy_percentile_calories</td>\n",
       "      <td>81</td>\n",
       "      <td>vegetables_milk_healthy_protein_meal</td>\n",
       "      <td>1.046121</td>\n",
       "    </tr>\n",
       "    <tr>\n",
       "      <th>40</th>\n",
       "      <td>91</td>\n",
       "      <td>exercise_fitness_intensity_exercises_activities</td>\n",
       "      <td>[6, 9, 13, 21, 38, 45, 47, 49]</td>\n",
       "      <td>90</td>\n",
       "      <td>falls_park_tiong_singapores_bahru</td>\n",
       "      <td>89</td>\n",
       "      <td>exercise_physical_fitness_intensity_exercises</td>\n",
       "      <td>0.979286</td>\n",
       "    </tr>\n",
       "    <tr>\n",
       "      <th>39</th>\n",
       "      <td>90</td>\n",
       "      <td>falls_park_tiong_singapores_bahru</td>\n",
       "      <td>[21, 47]</td>\n",
       "      <td>47</td>\n",
       "      <td>falls_falling_risk_fractures_consequences</td>\n",
       "      <td>21</td>\n",
       "      <td>trail_park_tiong_singapores_bahru</td>\n",
       "      <td>0.945573</td>\n",
       "    </tr>\n",
       "    <tr>\n",
       "      <th>38</th>\n",
       "      <td>89</td>\n",
       "      <td>exercise_physical_fitness_intensity_exercises</td>\n",
       "      <td>[6, 9, 13, 38, 45, 49]</td>\n",
       "      <td>75</td>\n",
       "      <td>exercise_physical_fitness_intensity_aerobic</td>\n",
       "      <td>62</td>\n",
       "      <td>position_core_arms_feet_muscles</td>\n",
       "      <td>0.940769</td>\n",
       "    </tr>\n",
       "    <tr>\n",
       "      <th>37</th>\n",
       "      <td>88</td>\n",
       "      <td>rice_tbsp_cooking_chicken_wholegrain</td>\n",
       "      <td>[8, 18, 24, 29, 42, 43]</td>\n",
       "      <td>51</td>\n",
       "      <td>tbsp_sauce_chicken_chopped_recipe</td>\n",
       "      <td>73</td>\n",
       "      <td>rice_healthier_wholegrain_cooking_hawker</td>\n",
       "      <td>0.899034</td>\n",
       "    </tr>\n",
       "    <tr>\n",
       "      <th>36</th>\n",
       "      <td>87</td>\n",
       "      <td>teeth_dental_tooth_toddler_toothpaste</td>\n",
       "      <td>[2, 3, 22, 31, 33, 48]</td>\n",
       "      <td>70</td>\n",
       "      <td>sexuality_teen_talk_relationship_esteem</td>\n",
       "      <td>83</td>\n",
       "      <td>teeth_dental_children_tooth_toddler</td>\n",
       "      <td>0.882974</td>\n",
       "    </tr>\n",
       "    <tr>\n",
       "      <th>35</th>\n",
       "      <td>86</td>\n",
       "      <td>smoking_nicotine_quitting_drinking_smokers</td>\n",
       "      <td>[0, 11, 28]</td>\n",
       "      <td>11</td>\n",
       "      <td>alcohol_drinking_alcoholic_binge_ml</td>\n",
       "      <td>80</td>\n",
       "      <td>smoking_nicotine_quitting_cigarette_smokers</td>\n",
       "      <td>0.862459</td>\n",
       "    </tr>\n",
       "    <tr>\n",
       "      <th>34</th>\n",
       "      <td>85</td>\n",
       "      <td>dementia_mental_self_positive_social</td>\n",
       "      <td>[10, 12, 30, 36, 40, 50]</td>\n",
       "      <td>74</td>\n",
       "      <td>dementia_mental_depression_brain_social</td>\n",
       "      <td>77</td>\n",
       "      <td>self_mental_stress_resilience_esteem</td>\n",
       "      <td>0.856245</td>\n",
       "    </tr>\n",
       "    <tr>\n",
       "      <th>33</th>\n",
       "      <td>84</td>\n",
       "      <td>weight_bmi_healthy_percentile_calories</td>\n",
       "      <td>[15, 19, 32, 46]</td>\n",
       "      <td>78</td>\n",
       "      <td>weight_bmi_healthy_lose_percentile</td>\n",
       "      <td>19</td>\n",
       "      <td>students_screening_canteen_primary_hmsp</td>\n",
       "      <td>0.856110</td>\n",
       "    </tr>\n",
       "    <tr>\n",
       "      <th>32</th>\n",
       "      <td>83</td>\n",
       "      <td>teeth_dental_children_tooth_toddler</td>\n",
       "      <td>[2, 3, 22, 31]</td>\n",
       "      <td>72</td>\n",
       "      <td>toddler_children_screen_eyes_toys</td>\n",
       "      <td>3</td>\n",
       "      <td>teeth_dental_dentist_toothpaste_brushing</td>\n",
       "      <td>0.847628</td>\n",
       "    </tr>\n",
       "    <tr>\n",
       "      <th>31</th>\n",
       "      <td>82</td>\n",
       "      <td>sleep_pregnancy_flu_doctor_babys</td>\n",
       "      <td>[1, 4, 16, 25, 41]</td>\n",
       "      <td>71</td>\n",
       "      <td>pregnancy_babys_birth_newborn_womb</td>\n",
       "      <td>76</td>\n",
       "      <td>flu_doctor_common_allergies_mumps</td>\n",
       "      <td>0.841889</td>\n",
       "    </tr>\n",
       "    <tr>\n",
       "      <th>30</th>\n",
       "      <td>81</td>\n",
       "      <td>vegetables_milk_healthy_protein_meal</td>\n",
       "      <td>[7, 14, 17, 26, 27, 34, 44]</td>\n",
       "      <td>65</td>\n",
       "      <td>milk_baby_nutrition_little_breast</td>\n",
       "      <td>64</td>\n",
       "      <td>vegetables_food_plate_healthy_diet</td>\n",
       "      <td>0.836224</td>\n",
       "    </tr>\n",
       "    <tr>\n",
       "      <th>29</th>\n",
       "      <td>80</td>\n",
       "      <td>smoking_nicotine_quitting_cigarette_smokers</td>\n",
       "      <td>[0, 28]</td>\n",
       "      <td>28</td>\n",
       "      <td>cnb_substances_illegal_addictions_nams</td>\n",
       "      <td>0</td>\n",
       "      <td>smoking_nicotine_quitting_cigarette_smokers</td>\n",
       "      <td>0.826814</td>\n",
       "    </tr>\n",
       "    <tr>\n",
       "      <th>28</th>\n",
       "      <td>79</td>\n",
       "      <td>sugar_tea_healthier_drinks_chinese</td>\n",
       "      <td>[20, 23, 35, 37]</td>\n",
       "      <td>69</td>\n",
       "      <td>sugar_tea_drinks_iron_healthier</td>\n",
       "      <td>59</td>\n",
       "      <td>healthier_festive_chinese_sugar_deepavali</td>\n",
       "      <td>0.816790</td>\n",
       "    </tr>\n",
       "    <tr>\n",
       "      <th>27</th>\n",
       "      <td>78</td>\n",
       "      <td>weight_bmi_healthy_lose_percentile</td>\n",
       "      <td>[15, 32, 46]</td>\n",
       "      <td>46</td>\n",
       "      <td>ltw_ms_workshops_soh_yeo</td>\n",
       "      <td>63</td>\n",
       "      <td>weight_bmi_percentile_healthy_height</td>\n",
       "      <td>0.811201</td>\n",
       "    </tr>\n",
       "    <tr>\n",
       "      <th>26</th>\n",
       "      <td>77</td>\n",
       "      <td>self_mental_stress_resilience_esteem</td>\n",
       "      <td>[10, 30, 36, 50]</td>\n",
       "      <td>68</td>\n",
       "      <td>self_mental_resilience_esteem_social</td>\n",
       "      <td>50</td>\n",
       "      <td>remember_school_studying_ll_exam</td>\n",
       "      <td>0.801412</td>\n",
       "    </tr>\n",
       "    <tr>\n",
       "      <th>25</th>\n",
       "      <td>76</td>\n",
       "      <td>flu_doctor_common_allergies_mumps</td>\n",
       "      <td>[4, 25, 41]</td>\n",
       "      <td>60</td>\n",
       "      <td>doctor_allergies_crying_allergic_diarrhoea</td>\n",
       "      <td>4</td>\n",
       "      <td>flu_diseases_infectious_mumps_vaccines</td>\n",
       "      <td>0.796246</td>\n",
       "    </tr>\n",
       "    <tr>\n",
       "      <th>24</th>\n",
       "      <td>75</td>\n",
       "      <td>exercise_physical_fitness_intensity_aerobic</td>\n",
       "      <td>[6, 9, 13, 45]</td>\n",
       "      <td>45</td>\n",
       "      <td>bros_abdominal_uncle_waist_bod</td>\n",
       "      <td>55</td>\n",
       "      <td>exercise_fitness_intensity_aerobic_heart</td>\n",
       "      <td>0.779573</td>\n",
       "    </tr>\n",
       "    <tr>\n",
       "      <th>23</th>\n",
       "      <td>74</td>\n",
       "      <td>dementia_mental_depression_brain_social</td>\n",
       "      <td>[12, 40]</td>\n",
       "      <td>12</td>\n",
       "      <td>dementia_brain_care_memory_healthy</td>\n",
       "      <td>40</td>\n",
       "      <td>depression_illness_mental_stigma_hiv</td>\n",
       "      <td>0.777833</td>\n",
       "    </tr>\n",
       "    <tr>\n",
       "      <th>22</th>\n",
       "      <td>73</td>\n",
       "      <td>rice_healthier_wholegrain_cooking_hawker</td>\n",
       "      <td>[8, 29, 42, 43]</td>\n",
       "      <td>67</td>\n",
       "      <td>rice_wholegrain_wholegrains_hcs_healthier</td>\n",
       "      <td>61</td>\n",
       "      <td>hawker_salt_healthier_rice_cooking</td>\n",
       "      <td>0.738105</td>\n",
       "    </tr>\n",
       "    <tr>\n",
       "      <th>21</th>\n",
       "      <td>72</td>\n",
       "      <td>toddler_children_screen_eyes_toys</td>\n",
       "      <td>[2, 22, 31]</td>\n",
       "      <td>22</td>\n",
       "      <td>toys_safety_prevent_children_safe</td>\n",
       "      <td>66</td>\n",
       "      <td>toddler_screen_eyes_lenses_activities</td>\n",
       "      <td>0.737545</td>\n",
       "    </tr>\n",
       "    <tr>\n",
       "      <th>20</th>\n",
       "      <td>71</td>\n",
       "      <td>pregnancy_babys_birth_newborn_womb</td>\n",
       "      <td>[1, 16]</td>\n",
       "      <td>16</td>\n",
       "      <td>sleep_bedtime_babys_blanket_cot</td>\n",
       "      <td>1</td>\n",
       "      <td>pregnancy_weeks_womb_pregnant_bleeding</td>\n",
       "      <td>0.737279</td>\n",
       "    </tr>\n",
       "    <tr>\n",
       "      <th>19</th>\n",
       "      <td>70</td>\n",
       "      <td>sexuality_teen_talk_relationship_esteem</td>\n",
       "      <td>[33, 48]</td>\n",
       "      <td>33</td>\n",
       "      <td>sexuality_teen_relationship_esteem_attitudes</td>\n",
       "      <td>48</td>\n",
       "      <td>fathers_role_important_values_bonding</td>\n",
       "      <td>0.727909</td>\n",
       "    </tr>\n",
       "    <tr>\n",
       "      <th>18</th>\n",
       "      <td>69</td>\n",
       "      <td>sugar_tea_drinks_iron_healthier</td>\n",
       "      <td>[20, 23]</td>\n",
       "      <td>23</td>\n",
       "      <td>iron_drinks_haem_ice_eating</td>\n",
       "      <td>20</td>\n",
       "      <td>sugar_tea_drinks_teas_contains</td>\n",
       "      <td>0.686893</td>\n",
       "    </tr>\n",
       "    <tr>\n",
       "      <th>17</th>\n",
       "      <td>68</td>\n",
       "      <td>self_mental_resilience_esteem_social</td>\n",
       "      <td>[10, 30, 36]</td>\n",
       "      <td>36</td>\n",
       "      <td>stress_mind_mindfulness_present_relax</td>\n",
       "      <td>54</td>\n",
       "      <td>self_resilience_esteem_positive_social</td>\n",
       "      <td>0.684133</td>\n",
       "    </tr>\n",
       "    <tr>\n",
       "      <th>16</th>\n",
       "      <td>67</td>\n",
       "      <td>rice_wholegrain_wholegrains_hcs_healthier</td>\n",
       "      <td>[29, 43]</td>\n",
       "      <td>43</td>\n",
       "      <td>rice_cooking_cooker_cooked_raisins</td>\n",
       "      <td>29</td>\n",
       "      <td>wholegrain_wholegrains_symbol_rice_healthier</td>\n",
       "      <td>0.672481</td>\n",
       "    </tr>\n",
       "    <tr>\n",
       "      <th>15</th>\n",
       "      <td>66</td>\n",
       "      <td>toddler_screen_eyes_lenses_activities</td>\n",
       "      <td>[2, 31]</td>\n",
       "      <td>2</td>\n",
       "      <td>eye_eyes_lenses_myopia_screen</td>\n",
       "      <td>31</td>\n",
       "      <td>toddler_infant_objects_developmental_toddlers</td>\n",
       "      <td>0.665638</td>\n",
       "    </tr>\n",
       "    <tr>\n",
       "      <th>14</th>\n",
       "      <td>65</td>\n",
       "      <td>milk_baby_nutrition_little_breast</td>\n",
       "      <td>[7, 34, 44]</td>\n",
       "      <td>7</td>\n",
       "      <td>milk_formula_nutrition_solids_little</td>\n",
       "      <td>56</td>\n",
       "      <td>meal_eating_snacks_children_portions</td>\n",
       "      <td>0.657600</td>\n",
       "    </tr>\n",
       "    <tr>\n",
       "      <th>13</th>\n",
       "      <td>64</td>\n",
       "      <td>vegetables_food_plate_healthy_diet</td>\n",
       "      <td>[14, 17, 26, 27]</td>\n",
       "      <td>57</td>\n",
       "      <td>protein_plate_healthy_vegetables_calcium</td>\n",
       "      <td>27</td>\n",
       "      <td>vegetables_collagen_fruits_organic_fibre</td>\n",
       "      <td>0.655063</td>\n",
       "    </tr>\n",
       "    <tr>\n",
       "      <th>12</th>\n",
       "      <td>63</td>\n",
       "      <td>weight_bmi_percentile_healthy_height</td>\n",
       "      <td>[15, 32]</td>\n",
       "      <td>15</td>\n",
       "      <td>bmi_metabolism_calorie_healthy_gain</td>\n",
       "      <td>32</td>\n",
       "      <td>bmi_percentile_children_age_height</td>\n",
       "      <td>0.653023</td>\n",
       "    </tr>\n",
       "    <tr>\n",
       "      <th>11</th>\n",
       "      <td>62</td>\n",
       "      <td>position_core_arms_feet_muscles</td>\n",
       "      <td>[38, 49]</td>\n",
       "      <td>49</td>\n",
       "      <td>sedentary_chair_sit_workspace_desk</td>\n",
       "      <td>38</td>\n",
       "      <td>core_position_arms_legs_muscles</td>\n",
       "      <td>0.652814</td>\n",
       "    </tr>\n",
       "    <tr>\n",
       "      <th>10</th>\n",
       "      <td>61</td>\n",
       "      <td>hawker_salt_healthier_rice_cooking</td>\n",
       "      <td>[8, 42]</td>\n",
       "      <td>8</td>\n",
       "      <td>hawker_healthier_sodium_soup_rice</td>\n",
       "      <td>42</td>\n",
       "      <td>oil_buy_rice_meals_fat</td>\n",
       "      <td>0.636988</td>\n",
       "    </tr>\n",
       "    <tr>\n",
       "      <th>9</th>\n",
       "      <td>60</td>\n",
       "      <td>doctor_allergies_crying_allergic_diarrhoea</td>\n",
       "      <td>[25, 41]</td>\n",
       "      <td>41</td>\n",
       "      <td>crying_colic_diarrhoea_spit_feeding</td>\n",
       "      <td>25</td>\n",
       "      <td>allergies_allergy_allergic_antibiotics_common</td>\n",
       "      <td>0.608915</td>\n",
       "    </tr>\n",
       "    <tr>\n",
       "      <th>8</th>\n",
       "      <td>59</td>\n",
       "      <td>healthier_festive_chinese_sugar_deepavali</td>\n",
       "      <td>[35, 37]</td>\n",
       "      <td>37</td>\n",
       "      <td>christmas_healthier_deepavali_festive_fat</td>\n",
       "      <td>35</td>\n",
       "      <td>chinese_lunar_healthier_festive_rolls</td>\n",
       "      <td>0.601318</td>\n",
       "    </tr>\n",
       "    <tr>\n",
       "      <th>7</th>\n",
       "      <td>58</td>\n",
       "      <td>diabetes_glucose_type_risk_cholesterol</td>\n",
       "      <td>[5, 39]</td>\n",
       "      <td>39</td>\n",
       "      <td>cholesterol_gi_glucose_carbs_meat</td>\n",
       "      <td>5</td>\n",
       "      <td>diabetes_glucose_type_risk_control</td>\n",
       "      <td>0.595579</td>\n",
       "    </tr>\n",
       "    <tr>\n",
       "      <th>6</th>\n",
       "      <td>57</td>\n",
       "      <td>protein_plate_healthy_vegetables_calcium</td>\n",
       "      <td>[14, 17, 26]</td>\n",
       "      <td>17</td>\n",
       "      <td>protein_calcium_vitamin_diet_bone</td>\n",
       "      <td>53</td>\n",
       "      <td>plate_healthy_quarter_vegetables_eat</td>\n",
       "      <td>0.569602</td>\n",
       "    </tr>\n",
       "    <tr>\n",
       "      <th>5</th>\n",
       "      <td>56</td>\n",
       "      <td>meal_eating_snacks_children_portions</td>\n",
       "      <td>[34, 44]</td>\n",
       "      <td>34</td>\n",
       "      <td>food_meal_eating_meals_snacks</td>\n",
       "      <td>44</td>\n",
       "      <td>meals_eating_healthier_snacks_plate</td>\n",
       "      <td>0.543580</td>\n",
       "    </tr>\n",
       "    <tr>\n",
       "      <th>4</th>\n",
       "      <td>55</td>\n",
       "      <td>exercise_fitness_intensity_aerobic_heart</td>\n",
       "      <td>[6, 9, 13]</td>\n",
       "      <td>13</td>\n",
       "      <td>exercise_workout_fitness_workouts_exercises</td>\n",
       "      <td>52</td>\n",
       "      <td>physical_exercise_intensity_fitness_aerobic</td>\n",
       "      <td>0.511790</td>\n",
       "    </tr>\n",
       "    <tr>\n",
       "      <th>3</th>\n",
       "      <td>54</td>\n",
       "      <td>self_resilience_esteem_positive_social</td>\n",
       "      <td>[10, 30]</td>\n",
       "      <td>30</td>\n",
       "      <td>resilience_social_self_esteem_intelligence</td>\n",
       "      <td>10</td>\n",
       "      <td>self_esteem_children_positive_confidence</td>\n",
       "      <td>0.508808</td>\n",
       "    </tr>\n",
       "    <tr>\n",
       "      <th>2</th>\n",
       "      <td>53</td>\n",
       "      <td>plate_healthy_quarter_vegetables_eat</td>\n",
       "      <td>[14, 26]</td>\n",
       "      <td>14</td>\n",
       "      <td>quarter_plate_healthy_vegetables_wholegrains</td>\n",
       "      <td>26</td>\n",
       "      <td>food_kids_healthy_bento_fruit</td>\n",
       "      <td>0.471883</td>\n",
       "    </tr>\n",
       "    <tr>\n",
       "      <th>1</th>\n",
       "      <td>52</td>\n",
       "      <td>physical_exercise_intensity_fitness_aerobic</td>\n",
       "      <td>[6, 9]</td>\n",
       "      <td>6</td>\n",
       "      <td>exercise_fitness_activity_step_tracker</td>\n",
       "      <td>9</td>\n",
       "      <td>intensity_exercise_aerobic_heart_moderate</td>\n",
       "      <td>0.457291</td>\n",
       "    </tr>\n",
       "    <tr>\n",
       "      <th>0</th>\n",
       "      <td>51</td>\n",
       "      <td>tbsp_sauce_chicken_chopped_recipe</td>\n",
       "      <td>[18, 24]</td>\n",
       "      <td>24</td>\n",
       "      <td>tbsp_sliced_recipe_chicken_sauce</td>\n",
       "      <td>18</td>\n",
       "      <td>tbsp_stock_chopped_sauce_seasoning</td>\n",
       "      <td>0.414114</td>\n",
       "    </tr>\n",
       "  </tbody>\n",
       "</table>\n",
       "</div>"
      ],
      "text/plain": [
       "   Parent_ID                                      Parent_Name  \\\n",
       "49       100                   food_healthy_health_sugar_body   \n",
       "48        99            baby_smoking_health_exercise_children   \n",
       "47        98                      food_healthy_sugar_rice_eat   \n",
       "46        97                baby_smoking_quit_children_dental   \n",
       "45        96                  teeth_children_dental_flu_babys   \n",
       "44        95               diabetes_healthy_fruit_eating_diet   \n",
       "43        94           smoking_quit_alcohol_nicotine_dementia   \n",
       "42        93              food_sugar_healthy_eating_healthier   \n",
       "41        92             vegetables_healthy_eating_meals_diet   \n",
       "40        91  exercise_fitness_intensity_exercises_activities   \n",
       "39        90                falls_park_tiong_singapores_bahru   \n",
       "38        89    exercise_physical_fitness_intensity_exercises   \n",
       "37        88             rice_tbsp_cooking_chicken_wholegrain   \n",
       "36        87            teeth_dental_tooth_toddler_toothpaste   \n",
       "35        86       smoking_nicotine_quitting_drinking_smokers   \n",
       "34        85             dementia_mental_self_positive_social   \n",
       "33        84           weight_bmi_healthy_percentile_calories   \n",
       "32        83              teeth_dental_children_tooth_toddler   \n",
       "31        82                 sleep_pregnancy_flu_doctor_babys   \n",
       "30        81             vegetables_milk_healthy_protein_meal   \n",
       "29        80      smoking_nicotine_quitting_cigarette_smokers   \n",
       "28        79               sugar_tea_healthier_drinks_chinese   \n",
       "27        78               weight_bmi_healthy_lose_percentile   \n",
       "26        77             self_mental_stress_resilience_esteem   \n",
       "25        76                flu_doctor_common_allergies_mumps   \n",
       "24        75      exercise_physical_fitness_intensity_aerobic   \n",
       "23        74          dementia_mental_depression_brain_social   \n",
       "22        73         rice_healthier_wholegrain_cooking_hawker   \n",
       "21        72                toddler_children_screen_eyes_toys   \n",
       "20        71               pregnancy_babys_birth_newborn_womb   \n",
       "19        70          sexuality_teen_talk_relationship_esteem   \n",
       "18        69                  sugar_tea_drinks_iron_healthier   \n",
       "17        68             self_mental_resilience_esteem_social   \n",
       "16        67        rice_wholegrain_wholegrains_hcs_healthier   \n",
       "15        66            toddler_screen_eyes_lenses_activities   \n",
       "14        65                milk_baby_nutrition_little_breast   \n",
       "13        64               vegetables_food_plate_healthy_diet   \n",
       "12        63             weight_bmi_percentile_healthy_height   \n",
       "11        62                  position_core_arms_feet_muscles   \n",
       "10        61               hawker_salt_healthier_rice_cooking   \n",
       "9         60       doctor_allergies_crying_allergic_diarrhoea   \n",
       "8         59        healthier_festive_chinese_sugar_deepavali   \n",
       "7         58           diabetes_glucose_type_risk_cholesterol   \n",
       "6         57         protein_plate_healthy_vegetables_calcium   \n",
       "5         56             meal_eating_snacks_children_portions   \n",
       "4         55         exercise_fitness_intensity_aerobic_heart   \n",
       "3         54           self_resilience_esteem_positive_social   \n",
       "2         53             plate_healthy_quarter_vegetables_eat   \n",
       "1         52      physical_exercise_intensity_fitness_aerobic   \n",
       "0         51                tbsp_sauce_chicken_chopped_recipe   \n",
       "\n",
       "                                               Topics Child_Left_ID  \\\n",
       "49  [0, 1, 2, 3, 4, 5, 6, 7, 8, 9, 10, 11, 12, 13,...            98   \n",
       "48  [0, 1, 2, 3, 4, 6, 9, 10, 11, 12, 13, 16, 21, ...            91   \n",
       "47  [5, 7, 8, 14, 15, 17, 18, 19, 20, 23, 24, 26, ...            88   \n",
       "46  [0, 1, 2, 3, 4, 10, 11, 12, 16, 22, 25, 28, 30...            94   \n",
       "45           [1, 2, 3, 4, 16, 22, 25, 31, 33, 41, 48]            87   \n",
       "44  [5, 7, 14, 15, 17, 19, 20, 23, 26, 27, 32, 34,...            93   \n",
       "43                [0, 10, 11, 12, 28, 30, 36, 40, 50]            86   \n",
       "42  [7, 14, 15, 17, 19, 20, 23, 26, 27, 32, 34, 35...            92   \n",
       "41        [7, 14, 15, 17, 19, 26, 27, 32, 34, 44, 46]            84   \n",
       "40                     [6, 9, 13, 21, 38, 45, 47, 49]            90   \n",
       "39                                           [21, 47]            47   \n",
       "38                             [6, 9, 13, 38, 45, 49]            75   \n",
       "37                            [8, 18, 24, 29, 42, 43]            51   \n",
       "36                             [2, 3, 22, 31, 33, 48]            70   \n",
       "35                                        [0, 11, 28]            11   \n",
       "34                           [10, 12, 30, 36, 40, 50]            74   \n",
       "33                                   [15, 19, 32, 46]            78   \n",
       "32                                     [2, 3, 22, 31]            72   \n",
       "31                                 [1, 4, 16, 25, 41]            71   \n",
       "30                        [7, 14, 17, 26, 27, 34, 44]            65   \n",
       "29                                            [0, 28]            28   \n",
       "28                                   [20, 23, 35, 37]            69   \n",
       "27                                       [15, 32, 46]            46   \n",
       "26                                   [10, 30, 36, 50]            68   \n",
       "25                                        [4, 25, 41]            60   \n",
       "24                                     [6, 9, 13, 45]            45   \n",
       "23                                           [12, 40]            12   \n",
       "22                                    [8, 29, 42, 43]            67   \n",
       "21                                        [2, 22, 31]            22   \n",
       "20                                            [1, 16]            16   \n",
       "19                                           [33, 48]            33   \n",
       "18                                           [20, 23]            23   \n",
       "17                                       [10, 30, 36]            36   \n",
       "16                                           [29, 43]            43   \n",
       "15                                            [2, 31]             2   \n",
       "14                                        [7, 34, 44]             7   \n",
       "13                                   [14, 17, 26, 27]            57   \n",
       "12                                           [15, 32]            15   \n",
       "11                                           [38, 49]            49   \n",
       "10                                            [8, 42]             8   \n",
       "9                                            [25, 41]            41   \n",
       "8                                            [35, 37]            37   \n",
       "7                                             [5, 39]            39   \n",
       "6                                        [14, 17, 26]            17   \n",
       "5                                            [34, 44]            34   \n",
       "4                                          [6, 9, 13]            13   \n",
       "3                                            [10, 30]            30   \n",
       "2                                            [14, 26]            14   \n",
       "1                                              [6, 9]             6   \n",
       "0                                            [18, 24]            24   \n",
       "\n",
       "                                    Child_Left_Name Child_Right_ID  \\\n",
       "49                      food_healthy_sugar_rice_eat             99   \n",
       "48  exercise_fitness_intensity_exercises_activities             97   \n",
       "47             rice_tbsp_cooking_chicken_wholegrain             95   \n",
       "46           smoking_quit_alcohol_nicotine_dementia             96   \n",
       "45            teeth_dental_tooth_toddler_toothpaste             82   \n",
       "44              food_sugar_healthy_eating_healthier             58   \n",
       "43       smoking_nicotine_quitting_drinking_smokers             85   \n",
       "42             vegetables_healthy_eating_meals_diet             79   \n",
       "41           weight_bmi_healthy_percentile_calories             81   \n",
       "40                falls_park_tiong_singapores_bahru             89   \n",
       "39        falls_falling_risk_fractures_consequences             21   \n",
       "38      exercise_physical_fitness_intensity_aerobic             62   \n",
       "37                tbsp_sauce_chicken_chopped_recipe             73   \n",
       "36          sexuality_teen_talk_relationship_esteem             83   \n",
       "35              alcohol_drinking_alcoholic_binge_ml             80   \n",
       "34          dementia_mental_depression_brain_social             77   \n",
       "33               weight_bmi_healthy_lose_percentile             19   \n",
       "32                toddler_children_screen_eyes_toys              3   \n",
       "31               pregnancy_babys_birth_newborn_womb             76   \n",
       "30                milk_baby_nutrition_little_breast             64   \n",
       "29           cnb_substances_illegal_addictions_nams              0   \n",
       "28                  sugar_tea_drinks_iron_healthier             59   \n",
       "27                         ltw_ms_workshops_soh_yeo             63   \n",
       "26             self_mental_resilience_esteem_social             50   \n",
       "25       doctor_allergies_crying_allergic_diarrhoea              4   \n",
       "24                   bros_abdominal_uncle_waist_bod             55   \n",
       "23               dementia_brain_care_memory_healthy             40   \n",
       "22        rice_wholegrain_wholegrains_hcs_healthier             61   \n",
       "21                toys_safety_prevent_children_safe             66   \n",
       "20                  sleep_bedtime_babys_blanket_cot              1   \n",
       "19     sexuality_teen_relationship_esteem_attitudes             48   \n",
       "18                      iron_drinks_haem_ice_eating             20   \n",
       "17            stress_mind_mindfulness_present_relax             54   \n",
       "16               rice_cooking_cooker_cooked_raisins             29   \n",
       "15                    eye_eyes_lenses_myopia_screen             31   \n",
       "14             milk_formula_nutrition_solids_little             56   \n",
       "13         protein_plate_healthy_vegetables_calcium             27   \n",
       "12              bmi_metabolism_calorie_healthy_gain             32   \n",
       "11               sedentary_chair_sit_workspace_desk             38   \n",
       "10                hawker_healthier_sodium_soup_rice             42   \n",
       "9               crying_colic_diarrhoea_spit_feeding             25   \n",
       "8         christmas_healthier_deepavali_festive_fat             35   \n",
       "7                 cholesterol_gi_glucose_carbs_meat              5   \n",
       "6                 protein_calcium_vitamin_diet_bone             53   \n",
       "5                     food_meal_eating_meals_snacks             44   \n",
       "4       exercise_workout_fitness_workouts_exercises             52   \n",
       "3        resilience_social_self_esteem_intelligence             10   \n",
       "2      quarter_plate_healthy_vegetables_wholegrains             26   \n",
       "1            exercise_fitness_activity_step_tracker              9   \n",
       "0                  tbsp_sliced_recipe_chicken_sauce             18   \n",
       "\n",
       "                                 Child_Right_Name  Distance  \n",
       "49          baby_smoking_health_exercise_children  2.025874  \n",
       "48              baby_smoking_quit_children_dental  1.394843  \n",
       "47             diabetes_healthy_fruit_eating_diet  1.332233  \n",
       "46                teeth_children_dental_flu_babys  1.285195  \n",
       "45               sleep_pregnancy_flu_doctor_babys  1.120715  \n",
       "44         diabetes_glucose_type_risk_cholesterol  1.109521  \n",
       "43           dementia_mental_self_positive_social  1.075867  \n",
       "42             sugar_tea_healthier_drinks_chinese  1.056618  \n",
       "41           vegetables_milk_healthy_protein_meal  1.046121  \n",
       "40  exercise_physical_fitness_intensity_exercises  0.979286  \n",
       "39              trail_park_tiong_singapores_bahru  0.945573  \n",
       "38                position_core_arms_feet_muscles  0.940769  \n",
       "37       rice_healthier_wholegrain_cooking_hawker  0.899034  \n",
       "36            teeth_dental_children_tooth_toddler  0.882974  \n",
       "35    smoking_nicotine_quitting_cigarette_smokers  0.862459  \n",
       "34           self_mental_stress_resilience_esteem  0.856245  \n",
       "33        students_screening_canteen_primary_hmsp  0.856110  \n",
       "32       teeth_dental_dentist_toothpaste_brushing  0.847628  \n",
       "31              flu_doctor_common_allergies_mumps  0.841889  \n",
       "30             vegetables_food_plate_healthy_diet  0.836224  \n",
       "29    smoking_nicotine_quitting_cigarette_smokers  0.826814  \n",
       "28      healthier_festive_chinese_sugar_deepavali  0.816790  \n",
       "27           weight_bmi_percentile_healthy_height  0.811201  \n",
       "26               remember_school_studying_ll_exam  0.801412  \n",
       "25         flu_diseases_infectious_mumps_vaccines  0.796246  \n",
       "24       exercise_fitness_intensity_aerobic_heart  0.779573  \n",
       "23           depression_illness_mental_stigma_hiv  0.777833  \n",
       "22             hawker_salt_healthier_rice_cooking  0.738105  \n",
       "21          toddler_screen_eyes_lenses_activities  0.737545  \n",
       "20         pregnancy_weeks_womb_pregnant_bleeding  0.737279  \n",
       "19          fathers_role_important_values_bonding  0.727909  \n",
       "18                 sugar_tea_drinks_teas_contains  0.686893  \n",
       "17         self_resilience_esteem_positive_social  0.684133  \n",
       "16   wholegrain_wholegrains_symbol_rice_healthier  0.672481  \n",
       "15  toddler_infant_objects_developmental_toddlers  0.665638  \n",
       "14           meal_eating_snacks_children_portions  0.657600  \n",
       "13       vegetables_collagen_fruits_organic_fibre  0.655063  \n",
       "12             bmi_percentile_children_age_height  0.653023  \n",
       "11                core_position_arms_legs_muscles  0.652814  \n",
       "10                         oil_buy_rice_meals_fat  0.636988  \n",
       "9   allergies_allergy_allergic_antibiotics_common  0.608915  \n",
       "8           chinese_lunar_healthier_festive_rolls  0.601318  \n",
       "7              diabetes_glucose_type_risk_control  0.595579  \n",
       "6            plate_healthy_quarter_vegetables_eat  0.569602  \n",
       "5             meals_eating_healthier_snacks_plate  0.543580  \n",
       "4     physical_exercise_intensity_fitness_aerobic  0.511790  \n",
       "3        self_esteem_children_positive_confidence  0.508808  \n",
       "2                   food_kids_healthy_bento_fruit  0.471883  \n",
       "1       intensity_exercise_aerobic_heart_moderate  0.457291  \n",
       "0              tbsp_stock_chopped_sauce_seasoning  0.414114  "
      ]
     },
     "execution_count": 9,
     "metadata": {},
     "output_type": "execute_result"
    }
   ],
   "source": [
    "hierarchical_topics  = topic_model.hierarchical_topics(docs)\n",
    "hierarchical_topics"
   ]
  },
  {
   "cell_type": "code",
   "execution_count": 10,
   "metadata": {},
   "outputs": [],
   "source": [
    "fig = topic_model.visualize_hierarchy(hierarchical_topics=hierarchical_topics) "
   ]
  },
  {
   "cell_type": "code",
   "execution_count": 11,
   "metadata": {},
   "outputs": [
    {
     "data": {
      "application/vnd.plotly.v1+json": {
       "config": {
        "plotlyServerURL": "https://plot.ly"
       },
       "data": [
        {
         "hoverinfo": "text",
         "marker": {
          "color": "rgb(61,153,112)"
         },
         "mode": "lines",
         "text": [
          "tbsp_sliced_recipe_chicken_sauce",
          "",
          "",
          "tbsp_stock_chopped_sauce_seasoning"
         ],
         "type": "scatter",
         "x": [
          0,
          0.4141139825580997,
          0.4141139825580997,
          0
         ],
         "xaxis": "x",
         "y": [
          -5,
          -5,
          -15,
          -15
         ],
         "yaxis": "y"
        },
        {
         "hoverinfo": "text",
         "marker": {
          "color": "rgb(61,153,112)"
         },
         "mode": "lines",
         "text": [
          "rice_cooking_cooker_cooked_raisins",
          "",
          "",
          "wholegrain_wholegrains_symbol_rice_healthier"
         ],
         "type": "scatter",
         "x": [
          0,
          0.6724810609479515,
          0.6724810609479515,
          0
         ],
         "xaxis": "x",
         "y": [
          -25,
          -25,
          -35,
          -35
         ],
         "yaxis": "y"
        },
        {
         "hoverinfo": "text",
         "marker": {
          "color": "rgb(61,153,112)"
         },
         "mode": "lines",
         "text": [
          "hawker_healthier_sodium_soup_rice",
          "",
          "",
          "oil_buy_rice_meals_fat"
         ],
         "type": "scatter",
         "x": [
          0,
          0.6369879303363181,
          0.6369879303363181,
          0
         ],
         "xaxis": "x",
         "y": [
          -45,
          -45,
          -55,
          -55
         ],
         "yaxis": "y"
        },
        {
         "hoverinfo": "text",
         "marker": {
          "color": "rgb(61,153,112)"
         },
         "mode": "lines",
         "text": [
          "rice_wholegrain_wholegrains_hcs_healthier",
          "",
          "",
          "hawker_salt_healthier_rice_cooking"
         ],
         "type": "scatter",
         "x": [
          0.6724810609479515,
          0.7381046155027563,
          0.7381046155027563,
          0.6369879303363181
         ],
         "xaxis": "x",
         "y": [
          -30,
          -30,
          -50,
          -50
         ],
         "yaxis": "y"
        },
        {
         "hoverinfo": "text",
         "marker": {
          "color": "rgb(61,153,112)"
         },
         "mode": "lines",
         "text": [
          "tbsp_sauce_chicken_chopped_recipe",
          "",
          "",
          "rice_healthier_wholegrain_cooking_hawker"
         ],
         "type": "scatter",
         "x": [
          0.4141139825580997,
          0.899033749832756,
          0.899033749832756,
          0.7381046155027563
         ],
         "xaxis": "x",
         "y": [
          -10,
          -10,
          -40,
          -40
         ],
         "yaxis": "y"
        },
        {
         "hoverinfo": "text",
         "marker": {
          "color": "rgb(255,65,54)"
         },
         "mode": "lines",
         "text": [
          "bmi_metabolism_calorie_healthy_gain",
          "",
          "",
          "bmi_percentile_children_age_height"
         ],
         "type": "scatter",
         "x": [
          0,
          0.6530227115182388,
          0.6530227115182388,
          0
         ],
         "xaxis": "x",
         "y": [
          -75,
          -75,
          -85,
          -85
         ],
         "yaxis": "y"
        },
        {
         "hoverinfo": "text",
         "marker": {
          "color": "rgb(255,65,54)"
         },
         "mode": "lines",
         "text": [
          "ltw_ms_workshops_soh_yeo",
          "",
          "",
          "weight_bmi_percentile_healthy_height"
         ],
         "type": "scatter",
         "x": [
          0,
          0.8112012750655455,
          0.8112012750655455,
          0.6530227115182388
         ],
         "xaxis": "x",
         "y": [
          -65,
          -65,
          -80,
          -80
         ],
         "yaxis": "y"
        },
        {
         "hoverinfo": "text",
         "marker": {
          "color": "rgb(255,65,54)"
         },
         "mode": "lines",
         "text": [
          "weight_bmi_healthy_lose_percentile",
          "",
          "",
          "students_screening_canteen_primary_hmsp"
         ],
         "type": "scatter",
         "x": [
          0.8112012750655455,
          0.8561099175519884,
          0.8561099175519884,
          0
         ],
         "xaxis": "x",
         "y": [
          -72.5,
          -72.5,
          -95,
          -95
         ],
         "yaxis": "y"
        },
        {
         "hoverinfo": "text",
         "marker": {
          "color": "rgb(35,205,205)"
         },
         "mode": "lines",
         "text": [
          "food_meal_eating_meals_snacks",
          "",
          "",
          "meals_eating_healthier_snacks_plate"
         ],
         "type": "scatter",
         "x": [
          0,
          0.5435801960314652,
          0.5435801960314652,
          0
         ],
         "xaxis": "x",
         "y": [
          -115,
          -115,
          -125,
          -125
         ],
         "yaxis": "y"
        },
        {
         "hoverinfo": "text",
         "marker": {
          "color": "rgb(35,205,205)"
         },
         "mode": "lines",
         "text": [
          "milk_formula_nutrition_solids_little",
          "",
          "",
          "meal_eating_snacks_children_portions"
         ],
         "type": "scatter",
         "x": [
          0,
          0.6575999148449512,
          0.6575999148449512,
          0.5435801960314652
         ],
         "xaxis": "x",
         "y": [
          -105,
          -105,
          -120,
          -120
         ],
         "yaxis": "y"
        },
        {
         "hoverinfo": "text",
         "marker": {
          "color": "rgb(35,205,205)"
         },
         "mode": "lines",
         "text": [
          "quarter_plate_healthy_vegetables_wholegrains",
          "",
          "",
          "food_kids_healthy_bento_fruit"
         ],
         "type": "scatter",
         "x": [
          0,
          0.4718830105871362,
          0.4718830105871362,
          0
         ],
         "xaxis": "x",
         "y": [
          -145,
          -145,
          -155,
          -155
         ],
         "yaxis": "y"
        },
        {
         "hoverinfo": "text",
         "marker": {
          "color": "rgb(35,205,205)"
         },
         "mode": "lines",
         "text": [
          "protein_calcium_vitamin_diet_bone",
          "",
          "",
          "plate_healthy_quarter_vegetables_eat"
         ],
         "type": "scatter",
         "x": [
          0,
          0.569602316410081,
          0.569602316410081,
          0.4718830105871362
         ],
         "xaxis": "x",
         "y": [
          -135,
          -135,
          -150,
          -150
         ],
         "yaxis": "y"
        },
        {
         "hoverinfo": "text",
         "marker": {
          "color": "rgb(35,205,205)"
         },
         "mode": "lines",
         "text": [
          "protein_plate_healthy_vegetables_calcium",
          "",
          "",
          "vegetables_collagen_fruits_organic_fibre"
         ],
         "type": "scatter",
         "x": [
          0.569602316410081,
          0.655063337696391,
          0.655063337696391,
          0
         ],
         "xaxis": "x",
         "y": [
          -142.5,
          -142.5,
          -165,
          -165
         ],
         "yaxis": "y"
        },
        {
         "hoverinfo": "text",
         "marker": {
          "color": "rgb(35,205,205)"
         },
         "mode": "lines",
         "text": [
          "milk_baby_nutrition_little_breast",
          "",
          "",
          "vegetables_food_plate_healthy_diet"
         ],
         "type": "scatter",
         "x": [
          0.6575999148449512,
          0.8362240888171165,
          0.8362240888171165,
          0.655063337696391
         ],
         "xaxis": "x",
         "y": [
          -112.5,
          -112.5,
          -153.75,
          -153.75
         ],
         "yaxis": "y"
        },
        {
         "hoverinfo": "text",
         "marker": {
          "color": "rgb(0,116,217)"
         },
         "mode": "lines",
         "text": [
          "weight_bmi_healthy_percentile_calories",
          "",
          "",
          "vegetables_milk_healthy_protein_meal"
         ],
         "type": "scatter",
         "x": [
          0.8561099175519884,
          1.0461209557935192,
          1.0461209557935192,
          0.8362240888171165
         ],
         "xaxis": "x",
         "y": [
          -83.75,
          -83.75,
          -133.125,
          -133.125
         ],
         "yaxis": "y"
        },
        {
         "hoverinfo": "text",
         "marker": {
          "color": "rgb(133,20,75)"
         },
         "mode": "lines",
         "text": [
          "iron_drinks_haem_ice_eating",
          "",
          "",
          "sugar_tea_drinks_teas_contains"
         ],
         "type": "scatter",
         "x": [
          0,
          0.6868929768566127,
          0.6868929768566127,
          0
         ],
         "xaxis": "x",
         "y": [
          -175,
          -175,
          -185,
          -185
         ],
         "yaxis": "y"
        },
        {
         "hoverinfo": "text",
         "marker": {
          "color": "rgb(133,20,75)"
         },
         "mode": "lines",
         "text": [
          "christmas_healthier_deepavali_festive_fat",
          "",
          "",
          "chinese_lunar_healthier_festive_rolls"
         ],
         "type": "scatter",
         "x": [
          0,
          0.601318439635008,
          0.601318439635008,
          0
         ],
         "xaxis": "x",
         "y": [
          -195,
          -195,
          -205,
          -205
         ],
         "yaxis": "y"
        },
        {
         "hoverinfo": "text",
         "marker": {
          "color": "rgb(133,20,75)"
         },
         "mode": "lines",
         "text": [
          "sugar_tea_drinks_iron_healthier",
          "",
          "",
          "healthier_festive_chinese_sugar_deepavali"
         ],
         "type": "scatter",
         "x": [
          0.6868929768566127,
          0.8167904102298796,
          0.8167904102298796,
          0.601318439635008
         ],
         "xaxis": "x",
         "y": [
          -180,
          -180,
          -200,
          -200
         ],
         "yaxis": "y"
        },
        {
         "hoverinfo": "text",
         "marker": {
          "color": "rgb(0,116,217)"
         },
         "mode": "lines",
         "text": [
          "vegetables_healthy_eating_meals_diet",
          "",
          "",
          "sugar_tea_healthier_drinks_chinese"
         ],
         "type": "scatter",
         "x": [
          1.0461209557935192,
          1.0566182234449435,
          1.0566182234449435,
          0.8167904102298796
         ],
         "xaxis": "x",
         "y": [
          -108.4375,
          -108.4375,
          -190,
          -190
         ],
         "yaxis": "y"
        },
        {
         "hoverinfo": "text",
         "marker": {
          "color": "rgb(255,220,0)"
         },
         "mode": "lines",
         "text": [
          "cholesterol_gi_glucose_carbs_meat",
          "",
          "",
          "diabetes_glucose_type_risk_control"
         ],
         "type": "scatter",
         "x": [
          0,
          0.5955794373266845,
          0.5955794373266845,
          0
         ],
         "xaxis": "x",
         "y": [
          -215,
          -215,
          -225,
          -225
         ],
         "yaxis": "y"
        },
        {
         "hoverinfo": "text",
         "marker": {
          "color": "rgb(0,116,217)"
         },
         "mode": "lines",
         "text": [
          "food_sugar_healthy_eating_healthier",
          "",
          "",
          "diabetes_glucose_type_risk_cholesterol"
         ],
         "type": "scatter",
         "x": [
          1.0566182234449435,
          1.1095213955785654,
          1.1095213955785654,
          0.5955794373266845
         ],
         "xaxis": "x",
         "y": [
          -149.21875,
          -149.21875,
          -220,
          -220
         ],
         "yaxis": "y"
        },
        {
         "hoverinfo": "text",
         "marker": {
          "color": "rgb(0,116,217)"
         },
         "mode": "lines",
         "text": [
          "rice_tbsp_cooking_chicken_wholegrain",
          "",
          "",
          "diabetes_healthy_fruit_eating_diet"
         ],
         "type": "scatter",
         "x": [
          0.899033749832756,
          1.3322326478864985,
          1.3322326478864985,
          1.1095213955785654
         ],
         "xaxis": "x",
         "y": [
          -25,
          -25,
          -184.609375,
          -184.609375
         ],
         "yaxis": "y"
        },
        {
         "hoverinfo": "text",
         "marker": {
          "color": "rgb(40,35,35)"
         },
         "mode": "lines",
         "text": [
          "falls_falling_risk_fractures_consequences",
          "",
          "",
          "trail_park_tiong_singapores_bahru"
         ],
         "type": "scatter",
         "x": [
          0,
          0.9455728777147149,
          0.9455728777147149,
          0
         ],
         "xaxis": "x",
         "y": [
          -235,
          -235,
          -245,
          -245
         ],
         "yaxis": "y"
        },
        {
         "hoverinfo": "text",
         "marker": {
          "color": "rgb(40,35,35)"
         },
         "mode": "lines",
         "text": [
          "exercise_fitness_activity_step_tracker",
          "",
          "",
          "intensity_exercise_aerobic_heart_moderate"
         ],
         "type": "scatter",
         "x": [
          0,
          0.4572908845391104,
          0.4572908845391104,
          0
         ],
         "xaxis": "x",
         "y": [
          -275,
          -275,
          -285,
          -285
         ],
         "yaxis": "y"
        },
        {
         "hoverinfo": "text",
         "marker": {
          "color": "rgb(40,35,35)"
         },
         "mode": "lines",
         "text": [
          "exercise_workout_fitness_workouts_exercises",
          "",
          "",
          "physical_exercise_intensity_fitness_aerobic"
         ],
         "type": "scatter",
         "x": [
          0,
          0.5117895117764614,
          0.5117895117764614,
          0.4572908845391104
         ],
         "xaxis": "x",
         "y": [
          -265,
          -265,
          -280,
          -280
         ],
         "yaxis": "y"
        },
        {
         "hoverinfo": "text",
         "marker": {
          "color": "rgb(40,35,35)"
         },
         "mode": "lines",
         "text": [
          "bros_abdominal_uncle_waist_bod",
          "",
          "",
          "exercise_fitness_intensity_aerobic_heart"
         ],
         "type": "scatter",
         "x": [
          0,
          0.7795731239853554,
          0.7795731239853554,
          0.5117895117764614
         ],
         "xaxis": "x",
         "y": [
          -255,
          -255,
          -272.5,
          -272.5
         ],
         "yaxis": "y"
        },
        {
         "hoverinfo": "text",
         "marker": {
          "color": "rgb(40,35,35)"
         },
         "mode": "lines",
         "text": [
          "sedentary_chair_sit_workspace_desk",
          "",
          "",
          "core_position_arms_legs_muscles"
         ],
         "type": "scatter",
         "x": [
          0,
          0.6528142132216609,
          0.6528142132216609,
          0
         ],
         "xaxis": "x",
         "y": [
          -295,
          -295,
          -305,
          -305
         ],
         "yaxis": "y"
        },
        {
         "hoverinfo": "text",
         "marker": {
          "color": "rgb(40,35,35)"
         },
         "mode": "lines",
         "text": [
          "exercise_physical_fitness_intensity_aerobic",
          "",
          "",
          "position_core_arms_feet_muscles"
         ],
         "type": "scatter",
         "x": [
          0.7795731239853554,
          0.9407688369862788,
          0.9407688369862788,
          0.6528142132216609
         ],
         "xaxis": "x",
         "y": [
          -263.75,
          -263.75,
          -300,
          -300
         ],
         "yaxis": "y"
        },
        {
         "hoverinfo": "text",
         "marker": {
          "color": "rgb(40,35,35)"
         },
         "mode": "lines",
         "text": [
          "falls_park_tiong_singapores_bahru",
          "",
          "",
          "exercise_physical_fitness_intensity_exercises"
         ],
         "type": "scatter",
         "x": [
          0.9455728777147149,
          0.9792857671313752,
          0.9792857671313752,
          0.9407688369862788
         ],
         "xaxis": "x",
         "y": [
          -240,
          -240,
          -281.875,
          -281.875
         ],
         "yaxis": "y"
        },
        {
         "hoverinfo": "text",
         "marker": {
          "color": "rgb(61,153,112)"
         },
         "mode": "lines",
         "text": [
          "cnb_substances_illegal_addictions_nams",
          "",
          "",
          "smoking_nicotine_quitting_cigarette_smokers"
         ],
         "type": "scatter",
         "x": [
          0,
          0.8268139654420492,
          0.8268139654420492,
          0
         ],
         "xaxis": "x",
         "y": [
          -325,
          -325,
          -335,
          -335
         ],
         "yaxis": "y"
        },
        {
         "hoverinfo": "text",
         "marker": {
          "color": "rgb(61,153,112)"
         },
         "mode": "lines",
         "text": [
          "alcohol_drinking_alcoholic_binge_ml",
          "",
          "",
          "smoking_nicotine_quitting_cigarette_smokers"
         ],
         "type": "scatter",
         "x": [
          0,
          0.8624587099947016,
          0.8624587099947016,
          0.8268139654420492
         ],
         "xaxis": "x",
         "y": [
          -315,
          -315,
          -330,
          -330
         ],
         "yaxis": "y"
        },
        {
         "hoverinfo": "text",
         "marker": {
          "color": "rgb(255,65,54)"
         },
         "mode": "lines",
         "text": [
          "dementia_brain_care_memory_healthy",
          "",
          "",
          "depression_illness_mental_stigma_hiv"
         ],
         "type": "scatter",
         "x": [
          0,
          0.7778328428643586,
          0.7778328428643586,
          0
         ],
         "xaxis": "x",
         "y": [
          -345,
          -345,
          -355,
          -355
         ],
         "yaxis": "y"
        },
        {
         "hoverinfo": "text",
         "marker": {
          "color": "rgb(255,65,54)"
         },
         "mode": "lines",
         "text": [
          "resilience_social_self_esteem_intelligence",
          "",
          "",
          "self_esteem_children_positive_confidence"
         ],
         "type": "scatter",
         "x": [
          0,
          0.5088075633092765,
          0.5088075633092765,
          0
         ],
         "xaxis": "x",
         "y": [
          -375,
          -375,
          -385,
          -385
         ],
         "yaxis": "y"
        },
        {
         "hoverinfo": "text",
         "marker": {
          "color": "rgb(255,65,54)"
         },
         "mode": "lines",
         "text": [
          "stress_mind_mindfulness_present_relax",
          "",
          "",
          "self_resilience_esteem_positive_social"
         ],
         "type": "scatter",
         "x": [
          0,
          0.6841334194353994,
          0.6841334194353994,
          0.5088075633092765
         ],
         "xaxis": "x",
         "y": [
          -365,
          -365,
          -380,
          -380
         ],
         "yaxis": "y"
        },
        {
         "hoverinfo": "text",
         "marker": {
          "color": "rgb(255,65,54)"
         },
         "mode": "lines",
         "text": [
          "self_mental_resilience_esteem_social",
          "",
          "",
          "remember_school_studying_ll_exam"
         ],
         "type": "scatter",
         "x": [
          0.6841334194353994,
          0.8014115444628589,
          0.8014115444628589,
          0
         ],
         "xaxis": "x",
         "y": [
          -372.5,
          -372.5,
          -395,
          -395
         ],
         "yaxis": "y"
        },
        {
         "hoverinfo": "text",
         "marker": {
          "color": "rgb(255,65,54)"
         },
         "mode": "lines",
         "text": [
          "dementia_mental_depression_brain_social",
          "",
          "",
          "self_mental_stress_resilience_esteem"
         ],
         "type": "scatter",
         "x": [
          0.7778328428643586,
          0.8562452003038461,
          0.8562452003038461,
          0.8014115444628589
         ],
         "xaxis": "x",
         "y": [
          -350,
          -350,
          -383.75,
          -383.75
         ],
         "yaxis": "y"
        },
        {
         "hoverinfo": "text",
         "marker": {
          "color": "rgb(0,116,217)"
         },
         "mode": "lines",
         "text": [
          "smoking_nicotine_quitting_drinking_smokers",
          "",
          "",
          "dementia_mental_self_positive_social"
         ],
         "type": "scatter",
         "x": [
          0.8624587099947016,
          1.0758668408465453,
          1.0758668408465453,
          0.8562452003038461
         ],
         "xaxis": "x",
         "y": [
          -322.5,
          -322.5,
          -366.875,
          -366.875
         ],
         "yaxis": "y"
        },
        {
         "hoverinfo": "text",
         "marker": {
          "color": "rgb(35,205,205)"
         },
         "mode": "lines",
         "text": [
          "sexuality_teen_relationship_esteem_attitudes",
          "",
          "",
          "fathers_role_important_values_bonding"
         ],
         "type": "scatter",
         "x": [
          0,
          0.7279090653359765,
          0.7279090653359765,
          0
         ],
         "xaxis": "x",
         "y": [
          -405,
          -405,
          -415,
          -415
         ],
         "yaxis": "y"
        },
        {
         "hoverinfo": "text",
         "marker": {
          "color": "rgb(35,205,205)"
         },
         "mode": "lines",
         "text": [
          "eye_eyes_lenses_myopia_screen",
          "",
          "",
          "toddler_infant_objects_developmental_toddlers"
         ],
         "type": "scatter",
         "x": [
          0,
          0.6656377178574411,
          0.6656377178574411,
          0
         ],
         "xaxis": "x",
         "y": [
          -435,
          -435,
          -445,
          -445
         ],
         "yaxis": "y"
        },
        {
         "hoverinfo": "text",
         "marker": {
          "color": "rgb(35,205,205)"
         },
         "mode": "lines",
         "text": [
          "toys_safety_prevent_children_safe",
          "",
          "",
          "toddler_screen_eyes_lenses_activities"
         ],
         "type": "scatter",
         "x": [
          0,
          0.7375454014661041,
          0.7375454014661041,
          0.6656377178574411
         ],
         "xaxis": "x",
         "y": [
          -425,
          -425,
          -440,
          -440
         ],
         "yaxis": "y"
        },
        {
         "hoverinfo": "text",
         "marker": {
          "color": "rgb(35,205,205)"
         },
         "mode": "lines",
         "text": [
          "toddler_children_screen_eyes_toys",
          "",
          "",
          "teeth_dental_dentist_toothpaste_brushing"
         ],
         "type": "scatter",
         "x": [
          0.7375454014661041,
          0.8476283184646115,
          0.8476283184646115,
          0
         ],
         "xaxis": "x",
         "y": [
          -432.5,
          -432.5,
          -455,
          -455
         ],
         "yaxis": "y"
        },
        {
         "hoverinfo": "text",
         "marker": {
          "color": "rgb(35,205,205)"
         },
         "mode": "lines",
         "text": [
          "sexuality_teen_talk_relationship_esteem",
          "",
          "",
          "teeth_dental_children_tooth_toddler"
         ],
         "type": "scatter",
         "x": [
          0.7279090653359765,
          0.8829742770458303,
          0.8829742770458303,
          0.8476283184646115
         ],
         "xaxis": "x",
         "y": [
          -410,
          -410,
          -443.75,
          -443.75
         ],
         "yaxis": "y"
        },
        {
         "hoverinfo": "text",
         "marker": {
          "color": "rgb(61,153,112)"
         },
         "mode": "lines",
         "text": [
          "sleep_bedtime_babys_blanket_cot",
          "",
          "",
          "pregnancy_weeks_womb_pregnant_bleeding"
         ],
         "type": "scatter",
         "x": [
          0,
          0.7372791879217739,
          0.7372791879217739,
          0
         ],
         "xaxis": "x",
         "y": [
          -465,
          -465,
          -475,
          -475
         ],
         "yaxis": "y"
        },
        {
         "hoverinfo": "text",
         "marker": {
          "color": "rgb(61,153,112)"
         },
         "mode": "lines",
         "text": [
          "crying_colic_diarrhoea_spit_feeding",
          "",
          "",
          "allergies_allergy_allergic_antibiotics_common"
         ],
         "type": "scatter",
         "x": [
          0,
          0.6089147487167035,
          0.6089147487167035,
          0
         ],
         "xaxis": "x",
         "y": [
          -485,
          -485,
          -495,
          -495
         ],
         "yaxis": "y"
        },
        {
         "hoverinfo": "text",
         "marker": {
          "color": "rgb(61,153,112)"
         },
         "mode": "lines",
         "text": [
          "doctor_allergies_crying_allergic_diarrhoea",
          "",
          "",
          "flu_diseases_infectious_mumps_vaccines"
         ],
         "type": "scatter",
         "x": [
          0.6089147487167035,
          0.7962459524556017,
          0.7962459524556017,
          0
         ],
         "xaxis": "x",
         "y": [
          -490,
          -490,
          -505,
          -505
         ],
         "yaxis": "y"
        },
        {
         "hoverinfo": "text",
         "marker": {
          "color": "rgb(61,153,112)"
         },
         "mode": "lines",
         "text": [
          "pregnancy_babys_birth_newborn_womb",
          "",
          "",
          "flu_doctor_common_allergies_mumps"
         ],
         "type": "scatter",
         "x": [
          0.7372791879217739,
          0.841889288879886,
          0.841889288879886,
          0.7962459524556017
         ],
         "xaxis": "x",
         "y": [
          -470,
          -470,
          -497.5,
          -497.5
         ],
         "yaxis": "y"
        },
        {
         "hoverinfo": "text",
         "marker": {
          "color": "rgb(0,116,217)"
         },
         "mode": "lines",
         "text": [
          "teeth_dental_tooth_toddler_toothpaste",
          "",
          "",
          "sleep_pregnancy_flu_doctor_babys"
         ],
         "type": "scatter",
         "x": [
          0.8829742770458303,
          1.1207149926844375,
          1.1207149926844375,
          0.841889288879886
         ],
         "xaxis": "x",
         "y": [
          -426.875,
          -426.875,
          -483.75,
          -483.75
         ],
         "yaxis": "y"
        },
        {
         "hoverinfo": "text",
         "marker": {
          "color": "rgb(0,116,217)"
         },
         "mode": "lines",
         "text": [
          "smoking_quit_alcohol_nicotine_dementia",
          "",
          "",
          "teeth_children_dental_flu_babys"
         ],
         "type": "scatter",
         "x": [
          1.0758668408465453,
          1.285195134618759,
          1.285195134618759,
          1.1207149926844375
         ],
         "xaxis": "x",
         "y": [
          -344.6875,
          -344.6875,
          -455.3125,
          -455.3125
         ],
         "yaxis": "y"
        },
        {
         "hoverinfo": "text",
         "marker": {
          "color": "rgb(0,116,217)"
         },
         "mode": "lines",
         "text": [
          "exercise_fitness_intensity_exercises_activities",
          "",
          "",
          "baby_smoking_quit_children_dental"
         ],
         "type": "scatter",
         "x": [
          0.9792857671313752,
          1.3948428239941115,
          1.3948428239941115,
          1.285195134618759
         ],
         "xaxis": "x",
         "y": [
          -260.9375,
          -260.9375,
          -400,
          -400
         ],
         "yaxis": "y"
        },
        {
         "hoverinfo": "text",
         "marker": {
          "color": "rgb(0,116,217)"
         },
         "mode": "lines",
         "text": [
          "food_healthy_sugar_rice_eat",
          "",
          "",
          "baby_smoking_health_exercise_children"
         ],
         "type": "scatter",
         "x": [
          1.3322326478864985,
          2.025873590593916,
          2.025873590593916,
          1.3948428239941115
         ],
         "xaxis": "x",
         "y": [
          -104.8046875,
          -104.8046875,
          -330.46875,
          -330.46875
         ],
         "yaxis": "y"
        },
        {
         "hoverinfo": "text",
         "hovertext": [
          "rice_wholegrain_wholegrains_hcs_healthier",
          "tbsp_sauce_chicken_chopped_recipe",
          "weight_bmi_healthy_lose_percentile",
          "protein_plate_healthy_vegetables_calcium",
          "milk_baby_nutrition_little_breast",
          "weight_bmi_healthy_percentile_calories",
          "sugar_tea_drinks_iron_healthier",
          "vegetables_healthy_eating_meals_diet",
          "food_sugar_healthy_eating_healthier",
          "rice_tbsp_cooking_chicken_wholegrain",
          "exercise_physical_fitness_intensity_aerobic",
          "falls_park_tiong_singapores_bahru",
          "self_mental_resilience_esteem_social",
          "dementia_mental_depression_brain_social",
          "smoking_nicotine_quitting_drinking_smokers",
          "toddler_children_screen_eyes_toys",
          "sexuality_teen_talk_relationship_esteem",
          "doctor_allergies_crying_allergic_diarrhoea",
          "pregnancy_babys_birth_newborn_womb",
          "teeth_dental_tooth_toddler_toothpaste",
          "smoking_quit_alcohol_nicotine_dementia",
          "exercise_fitness_intensity_exercises_activities",
          "food_healthy_sugar_rice_eat"
         ],
         "marker": {
          "color": "black"
         },
         "mode": "markers",
         "showlegend": false,
         "type": "scatter",
         "x": [
          0.6724810609479515,
          0.4141139825580997,
          0.8112012750655455,
          0.569602316410081,
          0.6575999148449512,
          0.8561099175519884,
          0.6868929768566127,
          1.0461209557935192,
          1.0566182234449435,
          0.899033749832756,
          0.7795731239853554,
          0.9455728777147149,
          0.6841334194353994,
          0.7778328428643586,
          0.8624587099947016,
          0.7375454014661041,
          0.7279090653359765,
          0.6089147487167035,
          0.7372791879217739,
          0.8829742770458303,
          1.0758668408465453,
          0.9792857671313752,
          1.3322326478864985
         ],
         "y": [
          -30,
          -10,
          -72.5,
          -142.5,
          -112.5,
          -83.75,
          -180,
          -108.4375,
          -149.21875,
          -25,
          -263.75,
          -240,
          -372.5,
          -350,
          -322.5,
          -432.5,
          -410,
          -490,
          -470,
          -426.875,
          -344.6875,
          -260.9375,
          -104.8046875
         ]
        },
        {
         "hoverinfo": "text",
         "hovertext": [
          "hawker_salt_healthier_rice_cooking",
          "rice_healthier_wholegrain_cooking_hawker",
          "weight_bmi_percentile_healthy_height",
          "meal_eating_snacks_children_portions",
          "plate_healthy_quarter_vegetables_eat",
          "vegetables_food_plate_healthy_diet",
          "vegetables_milk_healthy_protein_meal",
          "healthier_festive_chinese_sugar_deepavali",
          "sugar_tea_healthier_drinks_chinese",
          "diabetes_glucose_type_risk_cholesterol",
          "diabetes_healthy_fruit_eating_diet",
          "physical_exercise_intensity_fitness_aerobic",
          "exercise_fitness_intensity_aerobic_heart",
          "position_core_arms_feet_muscles",
          "exercise_physical_fitness_intensity_exercises",
          "smoking_nicotine_quitting_cigarette_smokers",
          "self_resilience_esteem_positive_social",
          "self_mental_stress_resilience_esteem",
          "dementia_mental_self_positive_social",
          "toddler_screen_eyes_lenses_activities",
          "teeth_dental_children_tooth_toddler",
          "flu_doctor_common_allergies_mumps",
          "sleep_pregnancy_flu_doctor_babys",
          "teeth_children_dental_flu_babys",
          "baby_smoking_quit_children_dental",
          "baby_smoking_health_exercise_children"
         ],
         "marker": {
          "color": "black"
         },
         "mode": "markers",
         "showlegend": false,
         "type": "scatter",
         "x": [
          0.6369879303363181,
          0.7381046155027563,
          0.6530227115182388,
          0.5435801960314652,
          0.4718830105871362,
          0.655063337696391,
          0.8362240888171165,
          0.601318439635008,
          0.8167904102298796,
          0.5955794373266845,
          1.1095213955785654,
          0.4572908845391104,
          0.5117895117764614,
          0.6528142132216609,
          0.9407688369862788,
          0.8268139654420492,
          0.5088075633092765,
          0.8014115444628589,
          0.8562452003038461,
          0.6656377178574411,
          0.8476283184646115,
          0.7962459524556017,
          0.841889288879886,
          1.1207149926844375,
          1.285195134618759,
          1.3948428239941115
         ],
         "y": [
          -50,
          -40,
          -80,
          -120,
          -150,
          -153.75,
          -133.125,
          -200,
          -190,
          -220,
          -184.609375,
          -280,
          -272.5,
          -300,
          -281.875,
          -330,
          -380,
          -383.75,
          -366.875,
          -440,
          -443.75,
          -497.5,
          -483.75,
          -455.3125,
          -400,
          -330.46875
         ]
        }
       ],
       "layout": {
        "autosize": false,
        "height": 965,
        "hoverlabel": {
         "bgcolor": "white",
         "font": {
          "family": "Rockwell",
          "size": 16
         }
        },
        "hovermode": "closest",
        "plot_bgcolor": "#ECEFF1",
        "showlegend": false,
        "template": {
         "data": {
          "bar": [
           {
            "error_x": {
             "color": "#2a3f5f"
            },
            "error_y": {
             "color": "#2a3f5f"
            },
            "marker": {
             "line": {
              "color": "white",
              "width": 0.5
             },
             "pattern": {
              "fillmode": "overlay",
              "size": 10,
              "solidity": 0.2
             }
            },
            "type": "bar"
           }
          ],
          "barpolar": [
           {
            "marker": {
             "line": {
              "color": "white",
              "width": 0.5
             },
             "pattern": {
              "fillmode": "overlay",
              "size": 10,
              "solidity": 0.2
             }
            },
            "type": "barpolar"
           }
          ],
          "carpet": [
           {
            "aaxis": {
             "endlinecolor": "#2a3f5f",
             "gridcolor": "#C8D4E3",
             "linecolor": "#C8D4E3",
             "minorgridcolor": "#C8D4E3",
             "startlinecolor": "#2a3f5f"
            },
            "baxis": {
             "endlinecolor": "#2a3f5f",
             "gridcolor": "#C8D4E3",
             "linecolor": "#C8D4E3",
             "minorgridcolor": "#C8D4E3",
             "startlinecolor": "#2a3f5f"
            },
            "type": "carpet"
           }
          ],
          "choropleth": [
           {
            "colorbar": {
             "outlinewidth": 0,
             "ticks": ""
            },
            "type": "choropleth"
           }
          ],
          "contour": [
           {
            "colorbar": {
             "outlinewidth": 0,
             "ticks": ""
            },
            "colorscale": [
             [
              0,
              "#0d0887"
             ],
             [
              0.1111111111111111,
              "#46039f"
             ],
             [
              0.2222222222222222,
              "#7201a8"
             ],
             [
              0.3333333333333333,
              "#9c179e"
             ],
             [
              0.4444444444444444,
              "#bd3786"
             ],
             [
              0.5555555555555556,
              "#d8576b"
             ],
             [
              0.6666666666666666,
              "#ed7953"
             ],
             [
              0.7777777777777778,
              "#fb9f3a"
             ],
             [
              0.8888888888888888,
              "#fdca26"
             ],
             [
              1,
              "#f0f921"
             ]
            ],
            "type": "contour"
           }
          ],
          "contourcarpet": [
           {
            "colorbar": {
             "outlinewidth": 0,
             "ticks": ""
            },
            "type": "contourcarpet"
           }
          ],
          "heatmap": [
           {
            "colorbar": {
             "outlinewidth": 0,
             "ticks": ""
            },
            "colorscale": [
             [
              0,
              "#0d0887"
             ],
             [
              0.1111111111111111,
              "#46039f"
             ],
             [
              0.2222222222222222,
              "#7201a8"
             ],
             [
              0.3333333333333333,
              "#9c179e"
             ],
             [
              0.4444444444444444,
              "#bd3786"
             ],
             [
              0.5555555555555556,
              "#d8576b"
             ],
             [
              0.6666666666666666,
              "#ed7953"
             ],
             [
              0.7777777777777778,
              "#fb9f3a"
             ],
             [
              0.8888888888888888,
              "#fdca26"
             ],
             [
              1,
              "#f0f921"
             ]
            ],
            "type": "heatmap"
           }
          ],
          "heatmapgl": [
           {
            "colorbar": {
             "outlinewidth": 0,
             "ticks": ""
            },
            "colorscale": [
             [
              0,
              "#0d0887"
             ],
             [
              0.1111111111111111,
              "#46039f"
             ],
             [
              0.2222222222222222,
              "#7201a8"
             ],
             [
              0.3333333333333333,
              "#9c179e"
             ],
             [
              0.4444444444444444,
              "#bd3786"
             ],
             [
              0.5555555555555556,
              "#d8576b"
             ],
             [
              0.6666666666666666,
              "#ed7953"
             ],
             [
              0.7777777777777778,
              "#fb9f3a"
             ],
             [
              0.8888888888888888,
              "#fdca26"
             ],
             [
              1,
              "#f0f921"
             ]
            ],
            "type": "heatmapgl"
           }
          ],
          "histogram": [
           {
            "marker": {
             "pattern": {
              "fillmode": "overlay",
              "size": 10,
              "solidity": 0.2
             }
            },
            "type": "histogram"
           }
          ],
          "histogram2d": [
           {
            "colorbar": {
             "outlinewidth": 0,
             "ticks": ""
            },
            "colorscale": [
             [
              0,
              "#0d0887"
             ],
             [
              0.1111111111111111,
              "#46039f"
             ],
             [
              0.2222222222222222,
              "#7201a8"
             ],
             [
              0.3333333333333333,
              "#9c179e"
             ],
             [
              0.4444444444444444,
              "#bd3786"
             ],
             [
              0.5555555555555556,
              "#d8576b"
             ],
             [
              0.6666666666666666,
              "#ed7953"
             ],
             [
              0.7777777777777778,
              "#fb9f3a"
             ],
             [
              0.8888888888888888,
              "#fdca26"
             ],
             [
              1,
              "#f0f921"
             ]
            ],
            "type": "histogram2d"
           }
          ],
          "histogram2dcontour": [
           {
            "colorbar": {
             "outlinewidth": 0,
             "ticks": ""
            },
            "colorscale": [
             [
              0,
              "#0d0887"
             ],
             [
              0.1111111111111111,
              "#46039f"
             ],
             [
              0.2222222222222222,
              "#7201a8"
             ],
             [
              0.3333333333333333,
              "#9c179e"
             ],
             [
              0.4444444444444444,
              "#bd3786"
             ],
             [
              0.5555555555555556,
              "#d8576b"
             ],
             [
              0.6666666666666666,
              "#ed7953"
             ],
             [
              0.7777777777777778,
              "#fb9f3a"
             ],
             [
              0.8888888888888888,
              "#fdca26"
             ],
             [
              1,
              "#f0f921"
             ]
            ],
            "type": "histogram2dcontour"
           }
          ],
          "mesh3d": [
           {
            "colorbar": {
             "outlinewidth": 0,
             "ticks": ""
            },
            "type": "mesh3d"
           }
          ],
          "parcoords": [
           {
            "line": {
             "colorbar": {
              "outlinewidth": 0,
              "ticks": ""
             }
            },
            "type": "parcoords"
           }
          ],
          "pie": [
           {
            "automargin": true,
            "type": "pie"
           }
          ],
          "scatter": [
           {
            "fillpattern": {
             "fillmode": "overlay",
             "size": 10,
             "solidity": 0.2
            },
            "type": "scatter"
           }
          ],
          "scatter3d": [
           {
            "line": {
             "colorbar": {
              "outlinewidth": 0,
              "ticks": ""
             }
            },
            "marker": {
             "colorbar": {
              "outlinewidth": 0,
              "ticks": ""
             }
            },
            "type": "scatter3d"
           }
          ],
          "scattercarpet": [
           {
            "marker": {
             "colorbar": {
              "outlinewidth": 0,
              "ticks": ""
             }
            },
            "type": "scattercarpet"
           }
          ],
          "scattergeo": [
           {
            "marker": {
             "colorbar": {
              "outlinewidth": 0,
              "ticks": ""
             }
            },
            "type": "scattergeo"
           }
          ],
          "scattergl": [
           {
            "marker": {
             "colorbar": {
              "outlinewidth": 0,
              "ticks": ""
             }
            },
            "type": "scattergl"
           }
          ],
          "scattermapbox": [
           {
            "marker": {
             "colorbar": {
              "outlinewidth": 0,
              "ticks": ""
             }
            },
            "type": "scattermapbox"
           }
          ],
          "scatterpolar": [
           {
            "marker": {
             "colorbar": {
              "outlinewidth": 0,
              "ticks": ""
             }
            },
            "type": "scatterpolar"
           }
          ],
          "scatterpolargl": [
           {
            "marker": {
             "colorbar": {
              "outlinewidth": 0,
              "ticks": ""
             }
            },
            "type": "scatterpolargl"
           }
          ],
          "scatterternary": [
           {
            "marker": {
             "colorbar": {
              "outlinewidth": 0,
              "ticks": ""
             }
            },
            "type": "scatterternary"
           }
          ],
          "surface": [
           {
            "colorbar": {
             "outlinewidth": 0,
             "ticks": ""
            },
            "colorscale": [
             [
              0,
              "#0d0887"
             ],
             [
              0.1111111111111111,
              "#46039f"
             ],
             [
              0.2222222222222222,
              "#7201a8"
             ],
             [
              0.3333333333333333,
              "#9c179e"
             ],
             [
              0.4444444444444444,
              "#bd3786"
             ],
             [
              0.5555555555555556,
              "#d8576b"
             ],
             [
              0.6666666666666666,
              "#ed7953"
             ],
             [
              0.7777777777777778,
              "#fb9f3a"
             ],
             [
              0.8888888888888888,
              "#fdca26"
             ],
             [
              1,
              "#f0f921"
             ]
            ],
            "type": "surface"
           }
          ],
          "table": [
           {
            "cells": {
             "fill": {
              "color": "#EBF0F8"
             },
             "line": {
              "color": "white"
             }
            },
            "header": {
             "fill": {
              "color": "#C8D4E3"
             },
             "line": {
              "color": "white"
             }
            },
            "type": "table"
           }
          ]
         },
         "layout": {
          "annotationdefaults": {
           "arrowcolor": "#2a3f5f",
           "arrowhead": 0,
           "arrowwidth": 1
          },
          "autotypenumbers": "strict",
          "coloraxis": {
           "colorbar": {
            "outlinewidth": 0,
            "ticks": ""
           }
          },
          "colorscale": {
           "diverging": [
            [
             0,
             "#8e0152"
            ],
            [
             0.1,
             "#c51b7d"
            ],
            [
             0.2,
             "#de77ae"
            ],
            [
             0.3,
             "#f1b6da"
            ],
            [
             0.4,
             "#fde0ef"
            ],
            [
             0.5,
             "#f7f7f7"
            ],
            [
             0.6,
             "#e6f5d0"
            ],
            [
             0.7,
             "#b8e186"
            ],
            [
             0.8,
             "#7fbc41"
            ],
            [
             0.9,
             "#4d9221"
            ],
            [
             1,
             "#276419"
            ]
           ],
           "sequential": [
            [
             0,
             "#0d0887"
            ],
            [
             0.1111111111111111,
             "#46039f"
            ],
            [
             0.2222222222222222,
             "#7201a8"
            ],
            [
             0.3333333333333333,
             "#9c179e"
            ],
            [
             0.4444444444444444,
             "#bd3786"
            ],
            [
             0.5555555555555556,
             "#d8576b"
            ],
            [
             0.6666666666666666,
             "#ed7953"
            ],
            [
             0.7777777777777778,
             "#fb9f3a"
            ],
            [
             0.8888888888888888,
             "#fdca26"
            ],
            [
             1,
             "#f0f921"
            ]
           ],
           "sequentialminus": [
            [
             0,
             "#0d0887"
            ],
            [
             0.1111111111111111,
             "#46039f"
            ],
            [
             0.2222222222222222,
             "#7201a8"
            ],
            [
             0.3333333333333333,
             "#9c179e"
            ],
            [
             0.4444444444444444,
             "#bd3786"
            ],
            [
             0.5555555555555556,
             "#d8576b"
            ],
            [
             0.6666666666666666,
             "#ed7953"
            ],
            [
             0.7777777777777778,
             "#fb9f3a"
            ],
            [
             0.8888888888888888,
             "#fdca26"
            ],
            [
             1,
             "#f0f921"
            ]
           ]
          },
          "colorway": [
           "#636efa",
           "#EF553B",
           "#00cc96",
           "#ab63fa",
           "#FFA15A",
           "#19d3f3",
           "#FF6692",
           "#B6E880",
           "#FF97FF",
           "#FECB52"
          ],
          "font": {
           "color": "#2a3f5f"
          },
          "geo": {
           "bgcolor": "white",
           "lakecolor": "white",
           "landcolor": "white",
           "showlakes": true,
           "showland": true,
           "subunitcolor": "#C8D4E3"
          },
          "hoverlabel": {
           "align": "left"
          },
          "hovermode": "closest",
          "mapbox": {
           "style": "light"
          },
          "paper_bgcolor": "white",
          "plot_bgcolor": "white",
          "polar": {
           "angularaxis": {
            "gridcolor": "#EBF0F8",
            "linecolor": "#EBF0F8",
            "ticks": ""
           },
           "bgcolor": "white",
           "radialaxis": {
            "gridcolor": "#EBF0F8",
            "linecolor": "#EBF0F8",
            "ticks": ""
           }
          },
          "scene": {
           "xaxis": {
            "backgroundcolor": "white",
            "gridcolor": "#DFE8F3",
            "gridwidth": 2,
            "linecolor": "#EBF0F8",
            "showbackground": true,
            "ticks": "",
            "zerolinecolor": "#EBF0F8"
           },
           "yaxis": {
            "backgroundcolor": "white",
            "gridcolor": "#DFE8F3",
            "gridwidth": 2,
            "linecolor": "#EBF0F8",
            "showbackground": true,
            "ticks": "",
            "zerolinecolor": "#EBF0F8"
           },
           "zaxis": {
            "backgroundcolor": "white",
            "gridcolor": "#DFE8F3",
            "gridwidth": 2,
            "linecolor": "#EBF0F8",
            "showbackground": true,
            "ticks": "",
            "zerolinecolor": "#EBF0F8"
           }
          },
          "shapedefaults": {
           "line": {
            "color": "#2a3f5f"
           }
          },
          "ternary": {
           "aaxis": {
            "gridcolor": "#DFE8F3",
            "linecolor": "#A2B1C6",
            "ticks": ""
           },
           "baxis": {
            "gridcolor": "#DFE8F3",
            "linecolor": "#A2B1C6",
            "ticks": ""
           },
           "bgcolor": "white",
           "caxis": {
            "gridcolor": "#DFE8F3",
            "linecolor": "#A2B1C6",
            "ticks": ""
           }
          },
          "title": {
           "x": 0.05
          },
          "xaxis": {
           "automargin": true,
           "gridcolor": "#EBF0F8",
           "linecolor": "#EBF0F8",
           "ticks": "",
           "title": {
            "standoff": 15
           },
           "zerolinecolor": "#EBF0F8",
           "zerolinewidth": 2
          },
          "yaxis": {
           "automargin": true,
           "gridcolor": "#EBF0F8",
           "linecolor": "#EBF0F8",
           "ticks": "",
           "title": {
            "standoff": 15
           },
           "zerolinecolor": "#EBF0F8",
           "zerolinewidth": 2
          }
         }
        },
        "title": {
         "font": {
          "color": "Black",
          "size": 22
         },
         "text": "<b>Hierarchical Clustering</b>",
         "x": 0.5,
         "xanchor": "center",
         "yanchor": "top"
        },
        "width": 1000,
        "xaxis": {
         "mirror": "allticks",
         "rangemode": "tozero",
         "showgrid": false,
         "showline": true,
         "showticklabels": true,
         "ticks": "outside",
         "type": "linear",
         "zeroline": false
        },
        "yaxis": {
         "mirror": "allticks",
         "range": [
          -510,
          0
         ],
         "rangemode": "tozero",
         "showgrid": false,
         "showline": true,
         "showticklabels": true,
         "tickmode": "array",
         "ticks": "outside",
         "ticktext": [
          "24_tbsp_sliced_recipe",
          "18_tbsp_stock_chopped",
          "43_rice_cooking_cooker",
          "29_wholegrain_wholegrains_s...",
          "8_hawker_healthier_sodium",
          "42_oil_buy_rice",
          "46_ltw_ms_workshops",
          "15_bmi_metabolism_calorie",
          "32_bmi_percentile_children",
          "19_students_screening_canteen",
          "7_milk_formula_nutrition",
          "34_food_meal_eating",
          "44_meals_eating_healthier",
          "17_protein_calcium_vitamin",
          "14_quarter_plate_healthy",
          "26_food_kids_healthy",
          "27_vegetables_collagen_fruits",
          "23_iron_drinks_haem",
          "20_sugar_tea_drinks",
          "37_christmas_healthier_deep...",
          "35_chinese_lunar_healthier",
          "39_cholesterol_gi_glucose",
          "5_diabetes_glucose_type",
          "47_falls_falling_risk",
          "21_trail_park_tiong",
          "45_bros_abdominal_uncle",
          "13_exercise_workout_fitness",
          "6_exercise_fitness_activity",
          "9_intensity_exercise_aerobic",
          "49_sedentary_chair_sit",
          "38_core_position_arms",
          "11_alcohol_drinking_alcoholic",
          "28_cnb_substances_illegal",
          "0_smoking_nicotine_quitting",
          "12_dementia_brain_care",
          "40_depression_illness_mental",
          "36_stress_mind_mindfulness",
          "30_resilience_social_self",
          "10_self_esteem_children",
          "50_remember_school_studying",
          "33_sexuality_teen_relations...",
          "48_fathers_role_important",
          "22_toys_safety_prevent",
          "2_eye_eyes_lenses",
          "31_toddler_infant_objects",
          "3_teeth_dental_dentist",
          "16_sleep_bedtime_babys",
          "1_pregnancy_weeks_womb",
          "41_crying_colic_diarrhoea",
          "25_allergies_allergy_allergic",
          "4_flu_diseases_infectious"
         ],
         "tickvals": [
          -5,
          -15,
          -25,
          -35,
          -45,
          -55,
          -65,
          -75,
          -85,
          -95,
          -105,
          -115,
          -125,
          -135,
          -145,
          -155,
          -165,
          -175,
          -185,
          -195,
          -205,
          -215,
          -225,
          -235,
          -245,
          -255,
          -265,
          -275,
          -285,
          -295,
          -305,
          -315,
          -325,
          -335,
          -345,
          -355,
          -365,
          -375,
          -385,
          -395,
          -405,
          -415,
          -425,
          -435,
          -445,
          -455,
          -465,
          -475,
          -485,
          -495,
          -505
         ],
         "type": "linear",
         "zeroline": false
        }
       }
      }
     },
     "metadata": {},
     "output_type": "display_data"
    }
   ],
   "source": [
    "fig.show()"
   ]
  },
  {
   "cell_type": "markdown",
   "metadata": {},
   "source": [
    "### Topics that are similar can be merged"
   ]
  },
  {
   "cell_type": "code",
   "execution_count": 12,
   "metadata": {},
   "outputs": [
    {
     "data": {
      "text/html": [
       "<div>\n",
       "<style scoped>\n",
       "    .dataframe tbody tr th:only-of-type {\n",
       "        vertical-align: middle;\n",
       "    }\n",
       "\n",
       "    .dataframe tbody tr th {\n",
       "        vertical-align: top;\n",
       "    }\n",
       "\n",
       "    .dataframe thead th {\n",
       "        text-align: right;\n",
       "    }\n",
       "</style>\n",
       "<table border=\"1\" class=\"dataframe\">\n",
       "  <thead>\n",
       "    <tr style=\"text-align: right;\">\n",
       "      <th></th>\n",
       "      <th>topic1</th>\n",
       "      <th>topic2</th>\n",
       "      <th>distance</th>\n",
       "    </tr>\n",
       "  </thead>\n",
       "  <tbody>\n",
       "    <tr>\n",
       "      <th>1449</th>\n",
       "      <td>26_food_kids_healthy_bento</td>\n",
       "      <td>44_meals_eating_healthier_snacks</td>\n",
       "      <td>0.948770</td>\n",
       "    </tr>\n",
       "    <tr>\n",
       "      <th>735</th>\n",
       "      <td>13_exercise_workout_fitness_workouts</td>\n",
       "      <td>6_exercise_fitness_activity_step</td>\n",
       "      <td>0.943063</td>\n",
       "    </tr>\n",
       "    <tr>\n",
       "      <th>374</th>\n",
       "      <td>6_exercise_fitness_activity_step</td>\n",
       "      <td>9_intensity_exercise_aerobic_heart</td>\n",
       "      <td>0.933169</td>\n",
       "    </tr>\n",
       "    <tr>\n",
       "      <th>738</th>\n",
       "      <td>13_exercise_workout_fitness_workouts</td>\n",
       "      <td>9_intensity_exercise_aerobic_heart</td>\n",
       "      <td>0.928875</td>\n",
       "    </tr>\n",
       "    <tr>\n",
       "      <th>789</th>\n",
       "      <td>14_quarter_plate_healthy_vegetables</td>\n",
       "      <td>8_hawker_healthier_sodium_soup</td>\n",
       "      <td>0.919479</td>\n",
       "    </tr>\n",
       "    <tr>\n",
       "      <th>1013</th>\n",
       "      <td>18_tbsp_stock_chopped_sauce</td>\n",
       "      <td>24_tbsp_sliced_recipe_chicken</td>\n",
       "      <td>0.911631</td>\n",
       "    </tr>\n",
       "    <tr>\n",
       "      <th>798</th>\n",
       "      <td>14_quarter_plate_healthy_vegetables</td>\n",
       "      <td>17_protein_calcium_vitamin_diet</td>\n",
       "      <td>0.907685</td>\n",
       "    </tr>\n",
       "    <tr>\n",
       "      <th>1865</th>\n",
       "      <td>34_food_meal_eating_meals</td>\n",
       "      <td>44_meals_eating_healthier_snacks</td>\n",
       "      <td>0.906821</td>\n",
       "    </tr>\n",
       "    <tr>\n",
       "      <th>810</th>\n",
       "      <td>14_quarter_plate_healthy_vegetables</td>\n",
       "      <td>29_wholegrain_wholegrains_symbol_rice</td>\n",
       "      <td>0.903522</td>\n",
       "    </tr>\n",
       "    <tr>\n",
       "      <th>1412</th>\n",
       "      <td>26_food_kids_healthy_bento</td>\n",
       "      <td>7_milk_formula_nutrition_solids</td>\n",
       "      <td>0.902000</td>\n",
       "    </tr>\n",
       "  </tbody>\n",
       "</table>\n",
       "</div>"
      ],
      "text/plain": [
       "                                    topic1  \\\n",
       "1449            26_food_kids_healthy_bento   \n",
       "735   13_exercise_workout_fitness_workouts   \n",
       "374       6_exercise_fitness_activity_step   \n",
       "738   13_exercise_workout_fitness_workouts   \n",
       "789    14_quarter_plate_healthy_vegetables   \n",
       "1013           18_tbsp_stock_chopped_sauce   \n",
       "798    14_quarter_plate_healthy_vegetables   \n",
       "1865             34_food_meal_eating_meals   \n",
       "810    14_quarter_plate_healthy_vegetables   \n",
       "1412            26_food_kids_healthy_bento   \n",
       "\n",
       "                                     topic2  distance  \n",
       "1449       44_meals_eating_healthier_snacks  0.948770  \n",
       "735        6_exercise_fitness_activity_step  0.943063  \n",
       "374      9_intensity_exercise_aerobic_heart  0.933169  \n",
       "738      9_intensity_exercise_aerobic_heart  0.928875  \n",
       "789          8_hawker_healthier_sodium_soup  0.919479  \n",
       "1013          24_tbsp_sliced_recipe_chicken  0.911631  \n",
       "798         17_protein_calcium_vitamin_diet  0.907685  \n",
       "1865       44_meals_eating_healthier_snacks  0.906821  \n",
       "810   29_wholegrain_wholegrains_symbol_rice  0.903522  \n",
       "1412        7_milk_formula_nutrition_solids  0.902000  "
      ]
     },
     "execution_count": 12,
     "metadata": {},
     "output_type": "execute_result"
    }
   ],
   "source": [
    "distance_matrix = cosine_similarity(np.array(topic_model.topic_embeddings_))\n",
    "dist_df = pd.DataFrame(distance_matrix, columns=topic_model.topic_labels_.values(), \n",
    "                       index=topic_model.topic_labels_.values())\n",
    "\n",
    "tmp = []\n",
    "for rec in dist_df.reset_index().to_dict('records'):\n",
    "    t1 = rec['index']\n",
    "    for t2 in rec:\n",
    "        if t2 == 'index': \n",
    "            continue\n",
    "        tmp.append(\n",
    "            {\n",
    "                'topic1': t1, \n",
    "                'topic2': t2, \n",
    "                'distance': rec[t2]\n",
    "            }\n",
    "        )\n",
    "\n",
    "pair_dist_df = pd.DataFrame(tmp)\n",
    "\n",
    "pair_dist_df = pair_dist_df[(pair_dist_df.topic1.map(\n",
    "      lambda x: not x.startswith('-1'))) & \n",
    "            (pair_dist_df.topic2.map(lambda x: not x.startswith('-1')))]\n",
    "pair_dist_df = pair_dist_df[pair_dist_df.topic1 < pair_dist_df.topic2]\n",
    "pair_dist_df.sort_values('distance', ascending = False).head(10)"
   ]
  },
  {
   "cell_type": "code",
   "execution_count": null,
   "metadata": {},
   "outputs": [],
   "source": []
  }
 ],
 "metadata": {
  "kernelspec": {
   "display_name": ".venv",
   "language": "python",
   "name": "python3"
  },
  "language_info": {
   "codemirror_mode": {
    "name": "ipython",
    "version": 3
   },
   "file_extension": ".py",
   "mimetype": "text/x-python",
   "name": "python",
   "nbconvert_exporter": "python",
   "pygments_lexer": "ipython3",
   "version": "3.11.6"
  }
 },
 "nbformat": 4,
 "nbformat_minor": 2
}
